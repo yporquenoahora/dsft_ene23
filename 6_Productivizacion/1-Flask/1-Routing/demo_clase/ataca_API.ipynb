{
 "cells": [
  {
   "cell_type": "code",
   "execution_count": 5,
   "metadata": {},
   "outputs": [
    {
     "name": "stdout",
     "output_type": "stream",
     "text": [
      "<Response [200]>\n",
      "{\n",
      "  \"author\": \"Samuel R. Delany\", \n",
      "  \"first_sentence\": \"to wound the autumnal city.\", \n",
      "  \"id\": 2, \n",
      "  \"published\": \"1975\", \n",
      "  \"title\": \"Dhalgren\"\n",
      "}\n",
      "\n"
     ]
    }
   ],
   "source": [
    "import requests\n",
    "\n",
    "root_path = \"http://127.0.0.1:5000\"\n",
    "\n",
    "path = \"/api/v2/resources/book\"\n",
    "\n",
    "content = {'id': 2}\n",
    "\n",
    "response = requests.get(url = root_path + path, json = content)\n",
    "print(response)\n",
    "print(response.text)"
   ]
  },
  {
   "cell_type": "code",
   "execution_count": 6,
   "metadata": {},
   "outputs": [
    {
     "name": "stdout",
     "output_type": "stream",
     "text": [
      "<Response [200]>\n",
      "{\n",
      "  \"author\": \"Author\", \n",
      "  \"first_sentence\": \"Once upon a time...\", \n",
      "  \"id\": 4, \n",
      "  \"title\": \"Red Little Riding Hood\", \n",
      "  \"year_published\": \"1810\"\n",
      "}\n",
      "\n"
     ]
    }
   ],
   "source": [
    "path = '/api/v1/resources/book'\n",
    "\n",
    "new_book = {\n",
    "    \"author\": \"Author\",\n",
    "    \"first_sentence\": \"Once upon a time...\",\n",
    "    \"id\":4,\n",
    "    \"title\": \"Red Little Riding Hood\",\n",
    "    \"year_published\": \"1810\"\n",
    "}\n",
    "\n",
    "response = requests.post(url= root_path + path, json = new_book)\n",
    "print(response)\n",
    "print(response.text)"
   ]
  },
  {
   "cell_type": "code",
   "execution_count": null,
   "metadata": {},
   "outputs": [],
   "source": []
  }
 ],
 "metadata": {
  "kernelspec": {
   "display_name": "Python 3.7.4 64-bit",
   "language": "python",
   "name": "python3"
  },
  "language_info": {
   "codemirror_mode": {
    "name": "ipython",
    "version": 3
   },
   "file_extension": ".py",
   "mimetype": "text/x-python",
   "name": "python",
   "nbconvert_exporter": "python",
   "pygments_lexer": "ipython3",
   "version": "3.7.4"
  },
  "orig_nbformat": 4,
  "vscode": {
   "interpreter": {
    "hash": "252189e587d1e2aeba4a06e91fa71896c7a7f6e22e918b9407c7cde4ef2d5985"
   }
  }
 },
 "nbformat": 4,
 "nbformat_minor": 2
}
