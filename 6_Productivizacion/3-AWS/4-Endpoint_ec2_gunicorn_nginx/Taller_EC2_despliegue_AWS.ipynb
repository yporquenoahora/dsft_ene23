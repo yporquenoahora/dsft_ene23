{
 "cells": [
  {
   "attachments": {},
   "cell_type": "markdown",
   "metadata": {
    "collapsed": false,
    "pycharm": {
     "name": "#%% md\n"
    }
   },
   "source": [
    "# Subir un modelo de ML a la nube\n",
    "\n",
    "#### Vamos a ver cómo poner disponible un modelo de Machine Learning a la nube para que pueda ser consumido por cualquiera como una API. La nube que usaremos será la de Amazon.\n"
   ]
  },
  {
   "attachments": {},
   "cell_type": "markdown",
   "metadata": {
    "collapsed": false,
    "pycharm": {
     "name": "#%% md\n"
    }
   },
   "source": [
    "### 1. Repositorio de Github\n",
    "\n",
    "Vamos a clonar el repositorio donde tenemos el código que vamos a usar"
   ]
  },
  {
   "cell_type": "markdown",
   "metadata": {
    "collapsed": false,
    "pycharm": {
     "name": "#%% md\n"
    }
   },
   "source": [
    "### 2. Creamos una instancia de EC2\n",
    "Lanzamos una nueva instancia con la siguiente configuración:\n",
    "- Ubuntu\n",
    "- Versión 22.04\n",
    "- 64 bits (por defecto)\n",
    "- Tipo de instancia t2.micro\n",
    "- Crear par de claves de tipo RSA y formato .ppk. Se descarga un fichero, guardarlo.\n",
    "- Activamos las opciones para permitir el tráfico SSH y HTTP/S\n",
    "- Lanzamos la instancia\n",
    "\n",
    "Con esto ya tenemos nuestra instancia creada"
   ]
  },
  {
   "attachments": {},
   "cell_type": "markdown",
   "metadata": {
    "collapsed": false,
    "pycharm": {
     "name": "#%% md\n"
    }
   },
   "source": [
    "### 3. Conexión con Putty\n",
    "Nos descargamos Putty y lo configuramos:\n",
    "- En Connection -> SSH -> Auth seleccionamos el fichero con las claves que nos hemos descargado\n",
    "- En Host name, ponemos ubuntu@IP, sustituyendo la IP por la IP pública de tu máquina EC2\n",
    "- Ponemos un nombre a la configuración para acceder más rápidamente la próxima vez\n",
    "\n",
    "Ya estamos conectados a nuestra máquina de AWS"
   ]
  },
  {
   "cell_type": "markdown",
   "metadata": {
    "collapsed": false,
    "pycharm": {
     "name": "#%% md\n"
    }
   },
   "source": [
    "### 4. Instalamos el software necesario\n",
    "Ejecutamos:\n",
    "- sudo apt-get update\n",
    "- sudo apt-get install python3-venv"
   ]
  },
  {
   "attachments": {},
   "cell_type": "markdown",
   "metadata": {
    "collapsed": false,
    "pycharm": {
     "name": "#%% md\n"
    }
   },
   "source": [
    "### 5. Descargamos el código\n",
    "- Creamos directorio nuevo y dentro clonamos el repositorio (mkdir prod)\n",
    "- Creamos otra carpeta (endpoint) y entramos\n",
    "- Dentro, creamos un entorno virtual (python3 -m venv venv)\n",
    "- Instalamos en el venv flask y sklearn\n",
    "- Creamos los links a los archivos que necesitamos (ln -s ...)\n",
    "- Comprobamos que funciona"
   ]
  },
  {
   "attachments": {},
   "cell_type": "markdown",
   "metadata": {
    "collapsed": false,
    "pycharm": {
     "name": "#%% md\n"
    }
   },
   "source": [
    "### 6. Gunicorn\n",
    "- Instalamos el paquete gunicorn con el venv\n",
    "- Creamos en endpoint una carpeta llamada logs\n",
    "- Creamos fichero gunicorn.conf.py y le ponemos:\n",
    "\n",
    "        bind=\"0.0.0.0:8000\"\n",
    "        workers=1\n",
    "        timeout=120\n",
    "        accesslog = \"/home/ubuntu/prod/endpoint/logs/gunicorn.access.log\"\n",
    "        errorlog = \"/home/ubuntu/prod/endpoint/logs/gunicorn.error.log\"\n",
    "        capture_output = True\n",
    "        loglevel = \"info\"\n",
    "\n",
    "Probamos: /home/ubuntu/prod/endpoint/venv/bin/gunicorn -c /home/ubuntu/prod/endpoint/gunicorn.conf.py app:app"
   ]
  },
  {
   "cell_type": "markdown",
   "metadata": {
    "collapsed": false,
    "pycharm": {
     "name": "#%% md\n"
    }
   },
   "source": [
    "### 7. Gunicorn como servicio\n",
    "Creamos en /etc/systemd/system un fichero prod.service con este contenido:\n",
    "\n",
    "    [Unit]\n",
    "    Description=Gunicorn instance for productivization app\n",
    "    After=network.target\n",
    "    [Service]\n",
    "    User=ubuntu\n",
    "    Group=ubuntu\n",
    "    WorkingDirectory=/home/ubuntu/prod/endpoint\n",
    "    ExecStart=/home/ubuntu/prod/endpoint/venv/bin/gunicorn -c /home/ubuntu/prod/endpoint/gunicorn.conf.py app:app\n",
    "    Restart=always\n",
    "    [Install]\n",
    "    WantedBy=multi-user.target\n",
    "\n",
    "Arrancamos el servicio:\n",
    "- sudo systemctl daemon-reload\n",
    "- sudo systemctl start prod.service\n",
    "- sudo systemctl enable prod.service\n",
    "\n",
    "Comprobamos el estado con sudo systemctl status prod\n",
    "Probamos con curl"
   ]
  },
  {
   "cell_type": "markdown",
   "metadata": {
    "collapsed": false,
    "pycharm": {
     "name": "#%% md\n"
    }
   },
   "source": [
    "### 8. Nginx\n",
    "Instalamos Nginx: sudo apt-get install nginx\n",
    "\n",
    "Creamos un archivo en /etc/nginx/sites-available/prod con lo siguiente:\n",
    "\n",
    "    server {\n",
    "     listen 80;\n",
    "     server_name XXXXXXXXX; (LA IP DE LA MAQUINA)\n",
    "     location / {\n",
    "      proxy_pass http://127.0.0.1:8000;\n",
    "     }\n",
    "    }\n",
    "\n",
    "Creamos un link del fichero anterior en /etc/nginx/sites-enabled/prod\n",
    "\n",
    "Arrancamos el servicio:\n",
    "- sudo systemctl start nginx\n",
    "- sudo systemctl enable nginx\n",
    "\n",
    "Comprobamos el servicio: sudo systemctl status nginx\n",
    "\n",
    "Comprobamos que todo funciona correctamente"
   ]
  },
  {
   "cell_type": "code",
   "execution_count": 3,
   "metadata": {
    "collapsed": false,
    "pycharm": {
     "name": "#%%\n"
    }
   },
   "outputs": [
    {
     "data": {
      "text/plain": [
       "{'prediction': {'name': 'Setosa', 'type': '0'}}"
      ]
     },
     "execution_count": 3,
     "metadata": {},
     "output_type": "execute_result"
    }
   ],
   "source": [
    "import requests\n",
    "\n",
    "data = requests.get('http://3.19.228.251/api/data1/0/data2/0/data3/0/data4/0')\n",
    "\n",
    "data.json()"
   ]
  },
  {
   "cell_type": "code",
   "execution_count": null,
   "metadata": {
    "collapsed": false,
    "pycharm": {
     "name": "#%%\n"
    }
   },
   "outputs": [],
   "source": [
    "http://3.19.228.251/api/data1/0/data2/0/data3/0/data4/0"
   ]
  }
 ],
 "metadata": {
  "kernelspec": {
   "display_name": "Python 3",
   "language": "python",
   "name": "python3"
  },
  "language_info": {
   "codemirror_mode": {
    "name": "ipython",
    "version": 2
   },
   "file_extension": ".py",
   "mimetype": "text/x-python",
   "name": "python",
   "nbconvert_exporter": "python",
   "pygments_lexer": "ipython2",
   "version": "2.7.6"
  }
 },
 "nbformat": 4,
 "nbformat_minor": 0
}
