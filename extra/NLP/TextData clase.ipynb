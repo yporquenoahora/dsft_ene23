{
 "cells": [
  {
   "cell_type": "markdown",
   "metadata": {
    "colab_type": "text",
    "id": "J2O0nELPy1Gy"
   },
   "source": [
    "#Text Analysis\n",
    "-----\n",
    "\n",
    "## Text Data: Flattening, Filtering, and Chunking\n",
    "\n",
    "What would you do if you were designing an algorithm to analyze the following paragraph of text?\n",
    "\n",
    "    Emma knocked on the door. No answer. She knocked again and waited. There was a large maple tree next to the house. Emma looked up the tree and saw a giant raven perched at the treetop. Under the afternoon sun, the raven gleamed magnificently. Its beak was hard and pointed, its claws sharp and strong. It looked regal and imposing. It reigned the tree it stood on. The raven was looking straight at Emma with its beady black eyes. Emma felt slightly intimidated. She took a step back from the door and tentatively said, “Hello?”\n",
    "\n",
    "The paragraph contains a lot of information. We know that it involves someone named Emma and a raven. There is a house and a tree, and Emma is trying to get into the house but sees the raven instead. The raven is magnificent and has noticed Emma, who is a little scared but is making an attempt at communication.\n",
    "\n",
    "So, which parts of this trove of information are salient features that we should extract? To start with, it seems like a good idea to extract the names of the main characters, Emma and the raven. Next, it might also be good to note the setting of a house, a door, and a tree. And what about the descriptions of the raven? What about Emma’s actions—knocking on the door, taking a step back, and saying hello?\n",
    "\n",
    "This chapter introduces the basics of feature engineering for text. We start out with bag-of-words, which is the simplest representation based on word count statistics. A very much related transformation is tf-idf, which is essentially a feature scaling technique. It is pulled out into its own chapter (the next one) for a full discussion. The current chapter first talks about text extraction features, then delves into how to filter and clean those features."
   ]
  },
  {
   "cell_type": "markdown",
   "metadata": {
    "colab_type": "text",
    "id": "i2TIF9lMy1Gz"
   },
   "source": [
    "## Bag-of-X: Turning Natural Text into Flat Vectors\n",
    "\n",
    "Whether constructing machine learning models or engineering features, it’s nice when the result is simple and interpretable. Simple things are easy to try, and interpretable features and models are easier to debug than complex ones. Simple and interpretable features do not always lead to the most accurate model, but it’s a good idea to start simple and only add complexity when absolutely necessary.\n",
    "For text data, we can start with a list of word count statistics called a bag-of-words. A list of word counts makes no special effort to find the interesting entities, such as Emma or the raven. But those two words are repeatedly mentioned in our sample paragraph, and they have a higher count than a random word like “hello.” For simple tasks such as classifying a document, word count statistics often suffice. This technique can also be used in information retrieval, where the goal is to retrieve the set of documents that are relevant to an input text query. Both tasks are well served by word-level features because the presence or absence of certain words is a great indicator of the topic content of the document.\n",
    "\n",
    "Bag-of-Words\n",
    "\n",
    "In bag-of-words (BoW) featurization, a text document is converted into a vector of counts. (A vector is just a collection of n numbers.) The vector contains an entry for every possible word in the vocabulary. If the word—say, “aardvark”—appears three times in the document, then the feature vector has a count of 3 in the position corresponding to that word. If a word in the vocabulary doesn’t appear in the document, then it gets a count of 0. For example, the text “it is a puppy and it is extremely cute” has the BoW representation shown in Figure 3-1.\n"
   ]
  },
  {
   "cell_type": "markdown",
   "metadata": {
    "colab_type": "text",
    "id": "ZG2s2_51y1G0"
   },
   "source": [
    "![texto alternativo](https://drive.google.com/uc?id=1IbLBEuoCaN8E2ct7788gNOqskefXmUQ4)"
   ]
  },
  {
   "cell_type": "markdown",
   "metadata": {
    "colab_type": "text",
    "id": "gplms5HDy1G0"
   },
   "source": [
    "Bag-of-words converts a text document into a flat vector. It is “flat” because it doesn’t contain any of the original textual structures. The original text is a sequence of words. But a bag-of-words has no sequence; it just remembers how many times each word appears in the text. Thus, as Figure 3-2 demonstrates, the ordering of words in the vector is not important, as long as it is consistent for all documents in the dataset. Neither does bag-of-words represent any concept of word hierarchy. For example, the concept of “animal” includes “dog,” “cat,” “raven,” etc. But in a bag-of-words representation, these words are all equal elements of the vector."
   ]
  },
  {
   "cell_type": "markdown",
   "metadata": {
    "colab_type": "text",
    "id": "568KZ9p6y1G1"
   },
   "source": [
    "\n",
    "![texto alternativo](https://drive.google.com/uc?id=1M9wfn4eNsV09yTGNsJIUlYOZv6DyOFss)"
   ]
  },
  {
   "cell_type": "markdown",
   "metadata": {
    "colab_type": "text",
    "id": "2F-3oF-ty1G2"
   },
   "source": [
    "What is important here is the geometry of data in feature space. In a bag-of-words vector, each word becomes a dimension of the vector. If there are n words in the vocabulary, then a document becomes a point1 in n-dimensional space. It is difficult to visualize the geometry of anything beyond two or three dimensions, so we will have to use our imagination. Figure 3-3 shows what our example sentence looks like in the two-dimensional feature space corresponding to the words “puppy” and “cute.”\n",
    "\n",
    "![texto alternativo](https://drive.google.com/uc?id=1V2N1rOUXJIqZndF9bxDkPifxYXkD8Rlp)\n",
    "\n",
    "Figure 3-4 shows three sentences in a 3D space corresponding to the words “puppy,” “extremely,” and “cute.”\n",
    "\n",
    "![texto alternativo](https://drive.google.com/uc?id=1YHNStJX1ru7YAKmh6KYcySvW5B7TCuR_)\n"
   ]
  },
  {
   "cell_type": "markdown",
   "metadata": {
    "colab_type": "text",
    "id": "cYHN-3OTy1G2"
   },
   "source": [
    "These figures both depict data vectors in feature space. The axes denote individual words, which are features in the bag-of-words representation, and the points in space denote data points (text documents). Sometimes it is also informative to look at feature vectors in data space. A feature vector contains the value of the feature in each data point. The axes denote individual data points, and the points denote feature vectors. Figure 3-5 shows an example. With bag-of-words featurization for text documents, a feature is a word, and a feature vector contains the counts of this word in each document. In this way, a word is represented as a “bag-of-documents.”  As we shall see in Chapter 4, these bag-of-documents vectors come from the matrix transpose of the bag-of-words vectors.\n",
    "\n",
    "![texto alternativo](https://drive.google.com/uc?id=1-kP58QvDsOB64ho-29yOWUegXzcHXQFy)"
   ]
  },
  {
   "cell_type": "markdown",
   "metadata": {
    "colab_type": "text",
    "id": "WUR9ybpTy1G3"
   },
   "source": [
    "Bag-of-words is not perfect. Breaking down a sentence into single words can destroy the semantic meaning. For instance, “not bad” semantically means “decent” or even “good” (especially if you’re British). But “not” and “bad” constitute a floating negation plus a negative sentiment. “toy dog” and “dog toy” could be very different things (unless it’s a dog toy of a toy dog), and the meaning is lost with the singleton words “toy” and “dog.” It’s easy to come up with many such examples. Bag-of-n-Grams, which we discuss next, alleviates some of the issue but is not a fundamental fix. It’s good to keep in mind that bag-of-words is a simple and useful heuristic, but it is far from a correct semantic understanding of text.\n",
    "\n",
    "## Bag-of-n-Grams\n",
    "\n",
    "Bag-of-n-Grams, or bag-of-n-grams, is a natural extension of bag-of-words. An n-gram is a sequence of n tokens. A word is essentially a 1-gram, also known as a unigram. After tokenization, the counting mechanism can collate individual tokens into word counts, or count overlapping sequences as n-grams. For example, the sentence “Emma knocked on the door” generates the n-grams “Emma knocked,” “knocked on,” “on the,” and “the door.”\n",
    "\n",
    "n-grams retain more of the original sequence structure of the text, and therefore the bag-of-n-grams representation can be more informative. However, this comes at a cost. Theoretically, with k unique words, there could be k2 unique 2-grams (also called bigrams). In practice, there are not nearly so many, because not every word can follow every other word. Nevertheless, there are usually a lot more distinct n-grams (n > 1) than words. This means that bag-of-n-grams is a much bigger and sparser feature space. It also means that n-grams are more expensive to compute, store, and model. The larger n is, the richer the information, and the greater the cost.\n",
    "\n",
    "To illustrate how the number of n-grams grows with increasing n (see Figure 3-6), let’s compute n-grams on the Yelp reviews dataset. "
   ]
  },
  {
   "cell_type": "code",
   "execution_count": null,
   "metadata": {
    "colab": {},
    "colab_type": "code",
    "executionInfo": {
     "elapsed": 26256,
     "status": "ok",
     "timestamp": 1600932020607,
     "user": {
      "displayName": "Alberto Romero",
      "photoUrl": "",
      "userId": "13942113647740663414"
     },
     "user_tz": -120
    },
    "id": "_g2co9boy1G4"
   },
   "outputs": [
    {
     "ename": "",
     "evalue": "",
     "output_type": "error",
     "traceback": [
      "\u001b[1;31mUnable to start Kernel 'Python 3.7.4 64-bit' due to connection timeout. \n",
      "View Jupyter <a href='command:jupyter.viewOutput'>log</a> for further details."
     ]
    }
   ],
   "source": [
    "import pandas as pd\n",
    "import json"
   ]
  },
  {
   "cell_type": "code",
   "execution_count": null,
   "metadata": {
    "colab": {
     "base_uri": "https://localhost:8080/",
     "height": 35
    },
    "colab_type": "code",
    "executionInfo": {
     "elapsed": 34020,
     "status": "ok",
     "timestamp": 1600932028382,
     "user": {
      "displayName": "Alberto Romero",
      "photoUrl": "",
      "userId": "13942113647740663414"
     },
     "user_tz": -120
    },
    "id": "5oElc6KLy1G7",
    "outputId": "7f1535d5-8d44-4c22-d053-64338e17af6b"
   },
   "outputs": [
    {
     "data": {
      "text/plain": [
       "(15585, 15)"
      ]
     },
     "execution_count": 2,
     "metadata": {},
     "output_type": "execute_result"
    }
   ],
   "source": [
    "biz_f = open('yelp_academic_dataset_business.json', encoding='latin1')\n",
    "biz_df = pd.DataFrame([json.loads(x) for x in biz_f.readlines()])\n",
    "biz_f.close()\n",
    "biz_df.shape\n"
   ]
  },
  {
   "cell_type": "code",
   "execution_count": 3,
   "metadata": {
    "colab": {
     "base_uri": "https://localhost:8080/",
     "height": 586
    },
    "colab_type": "code",
    "executionInfo": {
     "elapsed": 34005,
     "status": "ok",
     "timestamp": 1600932028383,
     "user": {
      "displayName": "Alberto Romero",
      "photoUrl": "",
      "userId": "13942113647740663414"
     },
     "user_tz": -120
    },
    "id": "KM-_yICVy1G-",
    "outputId": "48f148fa-8b92-44cf-8623-333d02487ea3"
   },
   "outputs": [
    {
     "data": {
      "text/html": [
       "<div>\n",
       "<style scoped>\n",
       "    .dataframe tbody tr th:only-of-type {\n",
       "        vertical-align: middle;\n",
       "    }\n",
       "\n",
       "    .dataframe tbody tr th {\n",
       "        vertical-align: top;\n",
       "    }\n",
       "\n",
       "    .dataframe thead th {\n",
       "        text-align: right;\n",
       "    }\n",
       "</style>\n",
       "<table border=\"1\" class=\"dataframe\">\n",
       "  <thead>\n",
       "    <tr style=\"text-align: right;\">\n",
       "      <th></th>\n",
       "      <th>business_id</th>\n",
       "      <th>full_address</th>\n",
       "      <th>hours</th>\n",
       "      <th>open</th>\n",
       "      <th>categories</th>\n",
       "      <th>city</th>\n",
       "      <th>review_count</th>\n",
       "      <th>name</th>\n",
       "      <th>neighborhoods</th>\n",
       "      <th>longitude</th>\n",
       "      <th>state</th>\n",
       "      <th>stars</th>\n",
       "      <th>latitude</th>\n",
       "      <th>attributes</th>\n",
       "      <th>type</th>\n",
       "    </tr>\n",
       "  </thead>\n",
       "  <tbody>\n",
       "    <tr>\n",
       "      <th>0</th>\n",
       "      <td>O_X3PGhk3Y5JWVi866qlJg</td>\n",
       "      <td>1501 W Bell Rd\\nPhoenix, AZ 85023</td>\n",
       "      <td>{'Monday': {'close': '18:00', 'open': '11:00'}...</td>\n",
       "      <td>True</td>\n",
       "      <td>[Active Life, Arts &amp; Entertainment, Stadiums &amp;...</td>\n",
       "      <td>Phoenix</td>\n",
       "      <td>29</td>\n",
       "      <td>Turf Paradise Race Course</td>\n",
       "      <td>[]</td>\n",
       "      <td>-112.092329</td>\n",
       "      <td>AZ</td>\n",
       "      <td>4.0</td>\n",
       "      <td>33.638573</td>\n",
       "      <td>{'Take-out': False, 'Wi-Fi': 'free', 'Good For...</td>\n",
       "      <td>business</td>\n",
       "    </tr>\n",
       "    <tr>\n",
       "      <th>1</th>\n",
       "      <td>QbrM7wqtmoNncqjc6GtFaQ</td>\n",
       "      <td>18501 N 83rd Avenue\\nGlendale, AZ 85308</td>\n",
       "      <td>{}</td>\n",
       "      <td>True</td>\n",
       "      <td>[Tires, Automotive, Fashion, Shopping, Departm...</td>\n",
       "      <td>Glendale</td>\n",
       "      <td>3</td>\n",
       "      <td>Sam's Club Members Only</td>\n",
       "      <td>[]</td>\n",
       "      <td>-112.234755</td>\n",
       "      <td>AZ</td>\n",
       "      <td>3.5</td>\n",
       "      <td>33.648545</td>\n",
       "      <td>{'Parking': {'garage': False, 'street': False,...</td>\n",
       "      <td>business</td>\n",
       "    </tr>\n",
       "    <tr>\n",
       "      <th>2</th>\n",
       "      <td>7lbvsGKzhjuX3oJtaXJvOg</td>\n",
       "      <td>5000 S Arizona Mills Cir\\nSte 590\\nTempe, AZ 8...</td>\n",
       "      <td>{'Monday': {'close': '21:00', 'open': '10:00'}...</td>\n",
       "      <td>True</td>\n",
       "      <td>[Women's Clothing, Men's Clothing, Fashion, Sh...</td>\n",
       "      <td>Tempe</td>\n",
       "      <td>7</td>\n",
       "      <td>Forever 21</td>\n",
       "      <td>[]</td>\n",
       "      <td>-111.964485</td>\n",
       "      <td>AZ</td>\n",
       "      <td>3.5</td>\n",
       "      <td>33.383123</td>\n",
       "      <td>{'Parking': {'garage': False, 'street': False,...</td>\n",
       "      <td>business</td>\n",
       "    </tr>\n",
       "    <tr>\n",
       "      <th>3</th>\n",
       "      <td>gjxoKVsRJwEoa8zd9XxlAw</td>\n",
       "      <td>912 W Sycamore Pl\\nChandler, AZ 85225</td>\n",
       "      <td>{'Monday': {'close': '19:00', 'open': '06:00'}...</td>\n",
       "      <td>True</td>\n",
       "      <td>[Pet Services, Pet Boarding/Pet Sitting, Pets]</td>\n",
       "      <td>Chandler</td>\n",
       "      <td>4</td>\n",
       "      <td>Loving Hands Pet Care</td>\n",
       "      <td>[]</td>\n",
       "      <td>-111.857818</td>\n",
       "      <td>AZ</td>\n",
       "      <td>5.0</td>\n",
       "      <td>33.356472</td>\n",
       "      <td>{}</td>\n",
       "      <td>business</td>\n",
       "    </tr>\n",
       "    <tr>\n",
       "      <th>4</th>\n",
       "      <td>V28yjMqyZnbCtabroJN_aA</td>\n",
       "      <td>1745 W Glendale Ave\\nPhoenix, AZ 85021</td>\n",
       "      <td>{}</td>\n",
       "      <td>True</td>\n",
       "      <td>[Veterinarians, Pets]</td>\n",
       "      <td>Phoenix</td>\n",
       "      <td>3</td>\n",
       "      <td>Amec Mid-City Animal Hospital</td>\n",
       "      <td>[]</td>\n",
       "      <td>-112.097232</td>\n",
       "      <td>AZ</td>\n",
       "      <td>5.0</td>\n",
       "      <td>33.538493</td>\n",
       "      <td>{}</td>\n",
       "      <td>business</td>\n",
       "    </tr>\n",
       "  </tbody>\n",
       "</table>\n",
       "</div>"
      ],
      "text/plain": [
       "              business_id                                       full_address  \\\n",
       "0  O_X3PGhk3Y5JWVi866qlJg                  1501 W Bell Rd\\nPhoenix, AZ 85023   \n",
       "1  QbrM7wqtmoNncqjc6GtFaQ            18501 N 83rd Avenue\\nGlendale, AZ 85308   \n",
       "2  7lbvsGKzhjuX3oJtaXJvOg  5000 S Arizona Mills Cir\\nSte 590\\nTempe, AZ 8...   \n",
       "3  gjxoKVsRJwEoa8zd9XxlAw              912 W Sycamore Pl\\nChandler, AZ 85225   \n",
       "4  V28yjMqyZnbCtabroJN_aA             1745 W Glendale Ave\\nPhoenix, AZ 85021   \n",
       "\n",
       "                                               hours  open  \\\n",
       "0  {'Monday': {'close': '18:00', 'open': '11:00'}...  True   \n",
       "1                                                 {}  True   \n",
       "2  {'Monday': {'close': '21:00', 'open': '10:00'}...  True   \n",
       "3  {'Monday': {'close': '19:00', 'open': '06:00'}...  True   \n",
       "4                                                 {}  True   \n",
       "\n",
       "                                          categories      city  review_count  \\\n",
       "0  [Active Life, Arts & Entertainment, Stadiums &...   Phoenix            29   \n",
       "1  [Tires, Automotive, Fashion, Shopping, Departm...  Glendale             3   \n",
       "2  [Women's Clothing, Men's Clothing, Fashion, Sh...     Tempe             7   \n",
       "3     [Pet Services, Pet Boarding/Pet Sitting, Pets]  Chandler             4   \n",
       "4                              [Veterinarians, Pets]   Phoenix             3   \n",
       "\n",
       "                            name neighborhoods   longitude state  stars  \\\n",
       "0      Turf Paradise Race Course            [] -112.092329    AZ    4.0   \n",
       "1        Sam's Club Members Only            [] -112.234755    AZ    3.5   \n",
       "2                     Forever 21            [] -111.964485    AZ    3.5   \n",
       "3          Loving Hands Pet Care            [] -111.857818    AZ    5.0   \n",
       "4  Amec Mid-City Animal Hospital            [] -112.097232    AZ    5.0   \n",
       "\n",
       "    latitude                                         attributes      type  \n",
       "0  33.638573  {'Take-out': False, 'Wi-Fi': 'free', 'Good For...  business  \n",
       "1  33.648545  {'Parking': {'garage': False, 'street': False,...  business  \n",
       "2  33.383123  {'Parking': {'garage': False, 'street': False,...  business  \n",
       "3  33.356472                                                 {}  business  \n",
       "4  33.538493                                                 {}  business  "
      ]
     },
     "execution_count": 3,
     "metadata": {},
     "output_type": "execute_result"
    }
   ],
   "source": [
    "biz_df.head()"
   ]
  },
  {
   "cell_type": "code",
   "execution_count": 4,
   "metadata": {
    "colab": {
     "base_uri": "https://localhost:8080/",
     "height": 35
    },
    "colab_type": "code",
    "executionInfo": {
     "elapsed": 35363,
     "status": "ok",
     "timestamp": 1600932029756,
     "user": {
      "displayName": "Alberto Romero",
      "photoUrl": "",
      "userId": "13942113647740663414"
     },
     "user_tz": -120
    },
    "id": "Rf6MS0iOy1HA",
    "outputId": "11ac8ceb-d6e8-4685-9166-c0311cf28577"
   },
   "outputs": [
    {
     "data": {
      "text/plain": [
       "(10000, 8)"
      ]
     },
     "execution_count": 4,
     "metadata": {},
     "output_type": "execute_result"
    }
   ],
   "source": []
  },
  {
   "cell_type": "code",
   "execution_count": 5,
   "metadata": {
    "colab": {
     "base_uri": "https://localhost:8080/",
     "height": 762
    },
    "colab_type": "code",
    "executionInfo": {
     "elapsed": 35344,
     "status": "ok",
     "timestamp": 1600932029757,
     "user": {
      "displayName": "Alberto Romero",
      "photoUrl": "",
      "userId": "13942113647740663414"
     },
     "user_tz": -120
    },
    "id": "2xZN2wy1y1HD",
    "outputId": "7c508d93-870b-4847-ca41-49b4f2e0872a"
   },
   "outputs": [
    {
     "data": {
      "text/html": [
       "<div>\n",
       "<style scoped>\n",
       "    .dataframe tbody tr th:only-of-type {\n",
       "        vertical-align: middle;\n",
       "    }\n",
       "\n",
       "    .dataframe tbody tr th {\n",
       "        vertical-align: top;\n",
       "    }\n",
       "\n",
       "    .dataframe thead th {\n",
       "        text-align: right;\n",
       "    }\n",
       "</style>\n",
       "<table border=\"1\" class=\"dataframe\">\n",
       "  <thead>\n",
       "    <tr style=\"text-align: right;\">\n",
       "      <th></th>\n",
       "      <th>votes</th>\n",
       "      <th>user_id</th>\n",
       "      <th>review_id</th>\n",
       "      <th>stars</th>\n",
       "      <th>date</th>\n",
       "      <th>text</th>\n",
       "      <th>type</th>\n",
       "      <th>business_id</th>\n",
       "    </tr>\n",
       "  </thead>\n",
       "  <tbody>\n",
       "    <tr>\n",
       "      <th>0</th>\n",
       "      <td>{'funny': 0, 'useful': 5, 'cool': 2}</td>\n",
       "      <td>rLtl8ZkDX5vH5nAx9C3q5Q</td>\n",
       "      <td>fWKvX83p0-ka4JS3dc6E5A</td>\n",
       "      <td>5</td>\n",
       "      <td>2011-01-26</td>\n",
       "      <td>My wife took me here on my birthday for breakf...</td>\n",
       "      <td>review</td>\n",
       "      <td>9yKzy9PApeiPPOUJEtnvkg</td>\n",
       "    </tr>\n",
       "    <tr>\n",
       "      <th>1</th>\n",
       "      <td>{'funny': 0, 'useful': 0, 'cool': 0}</td>\n",
       "      <td>0a2KyEL0d3Yb1V6aivbIuQ</td>\n",
       "      <td>IjZ33sJrzXqU-0X6U8NwyA</td>\n",
       "      <td>5</td>\n",
       "      <td>2011-07-27</td>\n",
       "      <td>I have no idea why some people give bad review...</td>\n",
       "      <td>review</td>\n",
       "      <td>ZRJwVLyzEJq1VAihDhYiow</td>\n",
       "    </tr>\n",
       "    <tr>\n",
       "      <th>2</th>\n",
       "      <td>{'funny': 0, 'useful': 1, 'cool': 0}</td>\n",
       "      <td>0hT2KtfLiobPvh6cDC8JQg</td>\n",
       "      <td>IESLBzqUCLdSzSqm0eCSxQ</td>\n",
       "      <td>4</td>\n",
       "      <td>2012-06-14</td>\n",
       "      <td>love the gyro plate. Rice is so good and I als...</td>\n",
       "      <td>review</td>\n",
       "      <td>6oRAC4uyJCsJl1X0WZpVSA</td>\n",
       "    </tr>\n",
       "    <tr>\n",
       "      <th>3</th>\n",
       "      <td>{'funny': 0, 'useful': 2, 'cool': 1}</td>\n",
       "      <td>uZetl9T0NcROGOyFfughhg</td>\n",
       "      <td>G-WvGaISbqqaMHlNnByodA</td>\n",
       "      <td>5</td>\n",
       "      <td>2010-05-27</td>\n",
       "      <td>Rosie, Dakota, and I LOVE Chaparral Dog Park!!...</td>\n",
       "      <td>review</td>\n",
       "      <td>_1QQZuf4zZOyFCvXc0o6Vg</td>\n",
       "    </tr>\n",
       "    <tr>\n",
       "      <th>4</th>\n",
       "      <td>{'funny': 0, 'useful': 0, 'cool': 0}</td>\n",
       "      <td>vYmM4KTsC8ZfQBg-j5MWkw</td>\n",
       "      <td>1uJFq2r5QfJG_6ExMRCaGw</td>\n",
       "      <td>5</td>\n",
       "      <td>2012-01-05</td>\n",
       "      <td>General Manager Scott Petello is a good egg!!!...</td>\n",
       "      <td>review</td>\n",
       "      <td>6ozycU1RpktNG2-1BroVtw</td>\n",
       "    </tr>\n",
       "    <tr>\n",
       "      <th>...</th>\n",
       "      <td>...</td>\n",
       "      <td>...</td>\n",
       "      <td>...</td>\n",
       "      <td>...</td>\n",
       "      <td>...</td>\n",
       "      <td>...</td>\n",
       "      <td>...</td>\n",
       "      <td>...</td>\n",
       "    </tr>\n",
       "    <tr>\n",
       "      <th>9995</th>\n",
       "      <td>{'funny': 0, 'useful': 2, 'cool': 1}</td>\n",
       "      <td>_eqQoPtQ3e3UxLE4faT6ow</td>\n",
       "      <td>Ubyfp2RSDYW0g7Mbr8N3iA</td>\n",
       "      <td>3</td>\n",
       "      <td>2012-07-28</td>\n",
       "      <td>First visit...Had lunch here today - used my G...</td>\n",
       "      <td>review</td>\n",
       "      <td>VY_tvNUCCXGXQeSvJl757Q</td>\n",
       "    </tr>\n",
       "    <tr>\n",
       "      <th>9996</th>\n",
       "      <td>{'funny': 0, 'useful': 0, 'cool': 0}</td>\n",
       "      <td>ROru4uk5SaYc3rg8IU7SQw</td>\n",
       "      <td>2XyIOQKbVFb6uXQdJ0RzlQ</td>\n",
       "      <td>4</td>\n",
       "      <td>2012-01-18</td>\n",
       "      <td>Should be called house of deliciousness!\\n\\nI ...</td>\n",
       "      <td>review</td>\n",
       "      <td>EKzMHI1tip8rC1-ZAy64yg</td>\n",
       "    </tr>\n",
       "    <tr>\n",
       "      <th>9997</th>\n",
       "      <td>{'funny': 0, 'useful': 0, 'cool': 0}</td>\n",
       "      <td>gGbN1aKQHMgfQZkqlsuwzg</td>\n",
       "      <td>jyznYkIbpqVmlsZxSDSypA</td>\n",
       "      <td>4</td>\n",
       "      <td>2010-11-16</td>\n",
       "      <td>I recently visited Olive and Ivy for business ...</td>\n",
       "      <td>review</td>\n",
       "      <td>53YGfwmbW73JhFiemNeyzQ</td>\n",
       "    </tr>\n",
       "    <tr>\n",
       "      <th>9998</th>\n",
       "      <td>{'funny': 0, 'useful': 0, 'cool': 0}</td>\n",
       "      <td>0lyVoNazXa20WzUyZPLaQQ</td>\n",
       "      <td>5UKq9WQE1qQbJ0DJbc-B6Q</td>\n",
       "      <td>2</td>\n",
       "      <td>2012-12-02</td>\n",
       "      <td>My nephew just moved to Scottsdale recently so...</td>\n",
       "      <td>review</td>\n",
       "      <td>9SKdOoDHcFoxK5ZtsgHJoA</td>\n",
       "    </tr>\n",
       "    <tr>\n",
       "      <th>9999</th>\n",
       "      <td>{'funny': 0, 'useful': 0, 'cool': 0}</td>\n",
       "      <td>KSBFytcdjPKZgXKQnYQdkA</td>\n",
       "      <td>vWSmOhg2ID1MNZHaWapGbA</td>\n",
       "      <td>5</td>\n",
       "      <td>2010-10-16</td>\n",
       "      <td>4-5 locations.. all 4.5 star average.. I think...</td>\n",
       "      <td>review</td>\n",
       "      <td>pF7uRzygyZsltbmVpjIyvw</td>\n",
       "    </tr>\n",
       "  </tbody>\n",
       "</table>\n",
       "<p>10000 rows × 8 columns</p>\n",
       "</div>"
      ],
      "text/plain": [
       "                                     votes                 user_id  \\\n",
       "0     {'funny': 0, 'useful': 5, 'cool': 2}  rLtl8ZkDX5vH5nAx9C3q5Q   \n",
       "1     {'funny': 0, 'useful': 0, 'cool': 0}  0a2KyEL0d3Yb1V6aivbIuQ   \n",
       "2     {'funny': 0, 'useful': 1, 'cool': 0}  0hT2KtfLiobPvh6cDC8JQg   \n",
       "3     {'funny': 0, 'useful': 2, 'cool': 1}  uZetl9T0NcROGOyFfughhg   \n",
       "4     {'funny': 0, 'useful': 0, 'cool': 0}  vYmM4KTsC8ZfQBg-j5MWkw   \n",
       "...                                    ...                     ...   \n",
       "9995  {'funny': 0, 'useful': 2, 'cool': 1}  _eqQoPtQ3e3UxLE4faT6ow   \n",
       "9996  {'funny': 0, 'useful': 0, 'cool': 0}  ROru4uk5SaYc3rg8IU7SQw   \n",
       "9997  {'funny': 0, 'useful': 0, 'cool': 0}  gGbN1aKQHMgfQZkqlsuwzg   \n",
       "9998  {'funny': 0, 'useful': 0, 'cool': 0}  0lyVoNazXa20WzUyZPLaQQ   \n",
       "9999  {'funny': 0, 'useful': 0, 'cool': 0}  KSBFytcdjPKZgXKQnYQdkA   \n",
       "\n",
       "                   review_id  stars        date  \\\n",
       "0     fWKvX83p0-ka4JS3dc6E5A      5  2011-01-26   \n",
       "1     IjZ33sJrzXqU-0X6U8NwyA      5  2011-07-27   \n",
       "2     IESLBzqUCLdSzSqm0eCSxQ      4  2012-06-14   \n",
       "3     G-WvGaISbqqaMHlNnByodA      5  2010-05-27   \n",
       "4     1uJFq2r5QfJG_6ExMRCaGw      5  2012-01-05   \n",
       "...                      ...    ...         ...   \n",
       "9995  Ubyfp2RSDYW0g7Mbr8N3iA      3  2012-07-28   \n",
       "9996  2XyIOQKbVFb6uXQdJ0RzlQ      4  2012-01-18   \n",
       "9997  jyznYkIbpqVmlsZxSDSypA      4  2010-11-16   \n",
       "9998  5UKq9WQE1qQbJ0DJbc-B6Q      2  2012-12-02   \n",
       "9999  vWSmOhg2ID1MNZHaWapGbA      5  2010-10-16   \n",
       "\n",
       "                                                   text    type  \\\n",
       "0     My wife took me here on my birthday for breakf...  review   \n",
       "1     I have no idea why some people give bad review...  review   \n",
       "2     love the gyro plate. Rice is so good and I als...  review   \n",
       "3     Rosie, Dakota, and I LOVE Chaparral Dog Park!!...  review   \n",
       "4     General Manager Scott Petello is a good egg!!!...  review   \n",
       "...                                                 ...     ...   \n",
       "9995  First visit...Had lunch here today - used my G...  review   \n",
       "9996  Should be called house of deliciousness!\\n\\nI ...  review   \n",
       "9997  I recently visited Olive and Ivy for business ...  review   \n",
       "9998  My nephew just moved to Scottsdale recently so...  review   \n",
       "9999  4-5 locations.. all 4.5 star average.. I think...  review   \n",
       "\n",
       "                 business_id  \n",
       "0     9yKzy9PApeiPPOUJEtnvkg  \n",
       "1     ZRJwVLyzEJq1VAihDhYiow  \n",
       "2     6oRAC4uyJCsJl1X0WZpVSA  \n",
       "3     _1QQZuf4zZOyFCvXc0o6Vg  \n",
       "4     6ozycU1RpktNG2-1BroVtw  \n",
       "...                      ...  \n",
       "9995  VY_tvNUCCXGXQeSvJl757Q  \n",
       "9996  EKzMHI1tip8rC1-ZAy64yg  \n",
       "9997  53YGfwmbW73JhFiemNeyzQ  \n",
       "9998  9SKdOoDHcFoxK5ZtsgHJoA  \n",
       "9999  pF7uRzygyZsltbmVpjIyvw  \n",
       "\n",
       "[10000 rows x 8 columns]"
      ]
     },
     "execution_count": 5,
     "metadata": {},
     "output_type": "execute_result"
    }
   ],
   "source": [
    "review_df"
   ]
  },
  {
   "cell_type": "code",
   "execution_count": 6,
   "metadata": {
    "colab": {
     "base_uri": "https://localhost:8080/",
     "height": 139
    },
    "colab_type": "code",
    "executionInfo": {
     "elapsed": 35328,
     "status": "ok",
     "timestamp": 1600932029757,
     "user": {
      "displayName": "Alberto Romero",
      "photoUrl": "",
      "userId": "13942113647740663414"
     },
     "user_tz": -120
    },
    "id": "07mKeA-ry1HF",
    "outputId": "6c443116-065e-41b5-c576-0693f0caccff"
   },
   "outputs": [
    {
     "data": {
      "text/plain": [
       "'My wife took me here on my birthday for breakfast and it was excellent.  The weather was perfect which made sitting outside overlooking their grounds an absolute pleasure.  Our waitress was excellent and our food arrived quickly on the semi-busy Saturday morning.  It looked like the place fills up pretty quickly so the earlier you get here the better.\\n\\nDo yourself a favor and get their Bloody Mary.  It was phenomenal and simply the best I\\'ve ever had.  I\\'m pretty sure they only use ingredients from their garden and blend them fresh when you order it.  It was amazing.\\n\\nWhile EVERYTHING on the menu looks excellent, I had the white truffle scrambled eggs vegetable skillet and it was tasty and delicious.  It came with 2 pieces of their griddled bread with was amazing and it absolutely made the meal complete.  It was the best \"toast\" I\\'ve ever had.\\n\\nAnyway, I can\\'t wait to go back!'"
      ]
     },
     "execution_count": 6,
     "metadata": {},
     "output_type": "execute_result"
    }
   ],
   "source": []
  },
  {
   "cell_type": "code",
   "execution_count": 7,
   "metadata": {
    "colab": {},
    "colab_type": "code",
    "executionInfo": {
     "elapsed": 35698,
     "status": "ok",
     "timestamp": 1600932030138,
     "user": {
      "displayName": "Alberto Romero",
      "photoUrl": "",
      "userId": "13942113647740663414"
     },
     "user_tz": -120
    },
    "id": "yFLbM0jry1HI"
   },
   "outputs": [],
   "source": []
  },
  {
   "cell_type": "code",
   "execution_count": 8,
   "metadata": {
    "colab": {},
    "colab_type": "code",
    "executionInfo": {
     "elapsed": 35688,
     "status": "ok",
     "timestamp": 1600932030138,
     "user": {
      "displayName": "Alberto Romero",
      "photoUrl": "",
      "userId": "13942113647740663414"
     },
     "user_tz": -120
    },
    "id": "937zuVELy1HK"
   },
   "outputs": [],
   "source": [
    "\n",
    "\n",
    "# expresión regular\n",
    "# (?u) es unicode\n",
    "# \\bword\\b\n",
    "# w+ es 'one or more word characters'\n"
   ]
  },
  {
   "cell_type": "code",
   "execution_count": 9,
   "metadata": {
    "colab": {
     "base_uri": "https://localhost:8080/",
     "height": 52
    },
    "colab_type": "code",
    "executionInfo": {
     "elapsed": 36593,
     "status": "ok",
     "timestamp": 1600932031068,
     "user": {
      "displayName": "Alberto Romero",
      "photoUrl": "",
      "userId": "13942113647740663414"
     },
     "user_tz": -120
    },
    "id": "1DX1OjyHy1HM",
    "outputId": "3e98fd9f-0235-4b62-96f3-c854432de8a4"
   },
   "outputs": [
    {
     "data": {
      "text/plain": [
       "<10000x29222 sparse matrix of type '<class 'numpy.int64'>'\n",
       "\twith 862360 stored elements in Compressed Sparse Row format>"
      ]
     },
     "execution_count": 9,
     "metadata": {},
     "output_type": "execute_result"
    }
   ],
   "source": []
  },
  {
   "cell_type": "code",
   "execution_count": 10,
   "metadata": {
    "colab": {
     "base_uri": "https://localhost:8080/",
     "height": 35
    },
    "colab_type": "code",
    "executionInfo": {
     "elapsed": 36571,
     "status": "ok",
     "timestamp": 1600932031068,
     "user": {
      "displayName": "Alberto Romero",
      "photoUrl": "",
      "userId": "13942113647740663414"
     },
     "user_tz": -120
    },
    "id": "u_3Xg2O7y1HO",
    "outputId": "babc1b92-d0b5-4ad6-a5d9-893af15baff8"
   },
   "outputs": [
    {
     "name": "stderr",
     "output_type": "stream",
     "text": [
      "C:\\Users\\Admin\\AppData\\Local\\Programs\\Python\\Python37\\lib\\site-packages\\sklearn\\utils\\deprecation.py:87: FutureWarning: Function get_feature_names is deprecated; get_feature_names is deprecated in 1.0 and will be removed in 1.2. Please use get_feature_names_out instead.\n",
      "  warnings.warn(msg, category=FutureWarning)\n"
     ]
    },
    {
     "data": {
      "text/plain": [
       "29222"
      ]
     },
     "execution_count": 10,
     "metadata": {},
     "output_type": "execute_result"
    }
   ],
   "source": []
  },
  {
   "cell_type": "code",
   "execution_count": 11,
   "metadata": {
    "colab": {
     "base_uri": "https://localhost:8080/",
     "height": 35
    },
    "colab_type": "code",
    "executionInfo": {
     "elapsed": 36557,
     "status": "ok",
     "timestamp": 1600932031069,
     "user": {
      "displayName": "Alberto Romero",
      "photoUrl": "",
      "userId": "13942113647740663414"
     },
     "user_tz": -120
    },
    "id": "ZLDYBINRy1HR",
    "outputId": "3b70182c-0734-4f44-ba58-5b05390b19b0"
   },
   "outputs": [
    {
     "data": {
      "text/plain": [
       "['0', '00', '000', '007', '00a', '00am', '00pm', '01', '02', '03']"
      ]
     },
     "execution_count": 11,
     "metadata": {},
     "output_type": "execute_result"
    }
   ],
   "source": []
  },
  {
   "cell_type": "code",
   "execution_count": 12,
   "metadata": {
    "colab": {},
    "colab_type": "code",
    "executionInfo": {
     "elapsed": 39682,
     "status": "ok",
     "timestamp": 1600932034204,
     "user": {
      "displayName": "Alberto Romero",
      "photoUrl": "",
      "userId": "13942113647740663414"
     },
     "user_tz": -120
    },
    "id": "rZZTnmvwy1HT"
   },
   "outputs": [],
   "source": [
    "\n",
    "\n",
    "# tomamos las palabras solo de 2 en 2"
   ]
  },
  {
   "cell_type": "code",
   "execution_count": 13,
   "metadata": {
    "colab": {
     "base_uri": "https://localhost:8080/",
     "height": 35
    },
    "colab_type": "code",
    "executionInfo": {
     "elapsed": 39672,
     "status": "ok",
     "timestamp": 1600932034206,
     "user": {
      "displayName": "Alberto Romero",
      "photoUrl": "",
      "userId": "13942113647740663414"
     },
     "user_tz": -120
    },
    "id": "VEfqqsFny1HV",
    "outputId": "6aabf05f-1d4f-4223-e487-af03ad0cda52"
   },
   "outputs": [
    {
     "data": {
      "text/plain": [
       "368943"
      ]
     },
     "execution_count": 13,
     "metadata": {},
     "output_type": "execute_result"
    }
   ],
   "source": []
  },
  {
   "cell_type": "code",
   "execution_count": 14,
   "metadata": {
    "colab": {
     "base_uri": "https://localhost:8080/",
     "height": 191
    },
    "colab_type": "code",
    "executionInfo": {
     "elapsed": 39655,
     "status": "ok",
     "timestamp": 1600932034206,
     "user": {
      "displayName": "Alberto Romero",
      "photoUrl": "",
      "userId": "13942113647740663414"
     },
     "user_tz": -120
    },
    "id": "R2Rkf4H2y1HX",
    "outputId": "3a1ea27e-5649-49a9-b5b1-9c1aaf6c000f"
   },
   "outputs": [
    {
     "data": {
      "text/plain": [
       "['000 sedona',\n",
       " '000 students',\n",
       " '000 thats',\n",
       " '000 they',\n",
       " '000 words',\n",
       " '007 blood',\n",
       " '00a and',\n",
       " '00am 5',\n",
       " '00am as',\n",
       " '00am before']"
      ]
     },
     "execution_count": 14,
     "metadata": {},
     "output_type": "execute_result"
    }
   ],
   "source": []
  },
  {
   "cell_type": "code",
   "execution_count": 15,
   "metadata": {
    "colab": {},
    "colab_type": "code",
    "executionInfo": {
     "elapsed": 45154,
     "status": "ok",
     "timestamp": 1600932039720,
     "user": {
      "displayName": "Alberto Romero",
      "photoUrl": "",
      "userId": "13942113647740663414"
     },
     "user_tz": -120
    },
    "id": "tymksgvRy1HZ"
   },
   "outputs": [],
   "source": []
  },
  {
   "cell_type": "code",
   "execution_count": 16,
   "metadata": {
    "colab": {
     "base_uri": "https://localhost:8080/",
     "height": 35
    },
    "colab_type": "code",
    "executionInfo": {
     "elapsed": 46275,
     "status": "ok",
     "timestamp": 1600932040853,
     "user": {
      "displayName": "Alberto Romero",
      "photoUrl": "",
      "userId": "13942113647740663414"
     },
     "user_tz": -120
    },
    "id": "6MwUtblry1Hb",
    "outputId": "58d0f375-5068-4e77-e9e4-c0ebdb9abb15"
   },
   "outputs": [
    {
     "data": {
      "text/plain": [
       "881620"
      ]
     },
     "execution_count": 16,
     "metadata": {},
     "output_type": "execute_result"
    }
   ],
   "source": []
  },
  {
   "cell_type": "code",
   "execution_count": 17,
   "metadata": {
    "colab": {
     "base_uri": "https://localhost:8080/",
     "height": 191
    },
    "colab_type": "code",
    "executionInfo": {
     "elapsed": 46259,
     "status": "ok",
     "timestamp": 1600932040854,
     "user": {
      "displayName": "Alberto Romero",
      "photoUrl": "",
      "userId": "13942113647740663414"
     },
     "user_tz": -120
    },
    "id": "_v--lpqsy1He",
    "outputId": "ecfa30c9-feeb-4ccf-ed7f-dc8fd8fb9e85"
   },
   "outputs": [
    {
     "data": {
      "text/plain": [
       "['0 0 eye',\n",
       " '0 20 less',\n",
       " '0 39 oz',\n",
       " '0 39 pizza',\n",
       " '0 5 i',\n",
       " '0 50 to',\n",
       " '0 6 can',\n",
       " '0 75 oysters',\n",
       " '0 75 that',\n",
       " '0 75 to']"
      ]
     },
     "execution_count": 17,
     "metadata": {},
     "output_type": "execute_result"
    }
   ],
   "source": []
  },
  {
   "cell_type": "code",
   "execution_count": 18,
   "metadata": {
    "colab": {
     "base_uri": "https://localhost:8080/",
     "height": 35
    },
    "colab_type": "code",
    "executionInfo": {
     "elapsed": 46245,
     "status": "ok",
     "timestamp": 1600932040855,
     "user": {
      "displayName": "Alberto Romero",
      "photoUrl": "",
      "userId": "13942113647740663414"
     },
     "user_tz": -120
    },
    "id": "lU98Vv6py1Hg",
    "outputId": "59be51c1-0e87-4796-8d24-32bb5551ede8"
   },
   "outputs": [
    {
     "name": "stdout",
     "output_type": "stream",
     "text": [
      "29222 368943 881620\n"
     ]
    }
   ],
   "source": []
  },
  {
   "cell_type": "code",
   "execution_count": 19,
   "metadata": {
    "colab": {
     "base_uri": "https://localhost:8080/",
     "height": 35
    },
    "colab_type": "code",
    "executionInfo": {
     "elapsed": 46230,
     "status": "ok",
     "timestamp": 1600932040856,
     "user": {
      "displayName": "Alberto Romero",
      "photoUrl": "",
      "userId": "13942113647740663414"
     },
     "user_tz": -120
    },
    "id": "uMTx-NPXk35m",
    "outputId": "4e3d4afb-e365-4ce6-a6fd-71684060187f"
   },
   "outputs": [
    {
     "name": "stdout",
     "output_type": "stream",
     "text": [
      "{'an': 0, 'apple': 1, 'day': 3, 'keeps': 5, 'the': 6, 'doctor': 4, 'away': 2}\n"
     ]
    }
   ],
   "source": [
    "# Entendiendo bien las palabras, bigramas y trigramas\n",
    "\n"
   ]
  },
  {
   "cell_type": "code",
   "execution_count": 20,
   "metadata": {
    "colab": {
     "base_uri": "https://localhost:8080/",
     "height": 55
    },
    "colab_type": "code",
    "executionInfo": {
     "elapsed": 46215,
     "status": "ok",
     "timestamp": 1600932040856,
     "user": {
      "displayName": "Alberto Romero",
      "photoUrl": "",
      "userId": "13942113647740663414"
     },
     "user_tz": -120
    },
    "id": "DbGhd75Xk35t",
    "outputId": "80a7b7da-8902-4d97-81a2-3ed6f531b13a"
   },
   "outputs": [
    {
     "name": "stdout",
     "output_type": "stream",
     "text": [
      "{'an': 0, 'apple': 2, 'day': 5, 'keeps': 9, 'the': 11, 'doctor': 7, 'away': 4, 'an apple': 1, 'apple day': 3, 'day keeps': 6, 'keeps the': 10, 'the doctor': 12, 'doctor away': 8}\n"
     ]
    }
   ],
   "source": [
    "# Entendiendo bien las palabras, bigramas y trigramas\n",
    "\n"
   ]
  },
  {
   "cell_type": "code",
   "execution_count": 21,
   "metadata": {
    "colab": {
     "base_uri": "https://localhost:8080/",
     "height": 55
    },
    "colab_type": "code",
    "executionInfo": {
     "elapsed": 46198,
     "status": "ok",
     "timestamp": 1600932040857,
     "user": {
      "displayName": "Alberto Romero",
      "photoUrl": "",
      "userId": "13942113647740663414"
     },
     "user_tz": -120
    },
    "id": "_IgcngOmk35y",
    "outputId": "7e17edd7-95d5-4456-bf86-a7b9bc16640a"
   },
   "outputs": [
    {
     "name": "stdout",
     "output_type": "stream",
     "text": [
      "{'an': 0, 'apple': 3, 'day': 7, 'keeps': 12, 'the': 15, 'doctor': 10, 'away': 6, 'an apple': 1, 'apple day': 4, 'day keeps': 8, 'keeps the': 13, 'the doctor': 16, 'doctor away': 11, 'an apple day': 2, 'apple day keeps': 5, 'day keeps the': 9, 'keeps the doctor': 14, 'the doctor away': 17}\n"
     ]
    }
   ],
   "source": [
    "# Entendiendo bien las palabras, bigramas y trigramas\n",
    "\n"
   ]
  },
  {
   "cell_type": "code",
   "execution_count": 22,
   "metadata": {
    "colab": {
     "base_uri": "https://localhost:8080/",
     "height": 72
    },
    "colab_type": "code",
    "executionInfo": {
     "elapsed": 46584,
     "status": "ok",
     "timestamp": 1600932041260,
     "user": {
      "displayName": "Alberto Romero",
      "photoUrl": "",
      "userId": "13942113647740663414"
     },
     "user_tz": -120
    },
    "id": "DXeh7ui_y1Hi",
    "outputId": "c500d115-a727-4789-a252-ed3822d0567e"
   },
   "outputs": [
    {
     "name": "stderr",
     "output_type": "stream",
     "text": [
      "C:\\Users\\Admin\\AppData\\Roaming\\Python\\Python37\\site-packages\\ipykernel_launcher.py:5: FutureWarning: pandas.util.testing is deprecated. Use the functions in the public API at pandas.testing instead.\n",
      "  \"\"\"\n"
     ]
    }
   ],
   "source": [
    "%matplotlib notebook\n",
    "import matplotlib.pyplot as plt\n",
    "import seaborn as sns\n",
    "%matplotlib inline\n",
    "import pandas.util.testing as tm"
   ]
  },
  {
   "cell_type": "code",
   "execution_count": 23,
   "metadata": {
    "colab": {
     "base_uri": "https://localhost:8080/",
     "height": 287
    },
    "colab_type": "code",
    "executionInfo": {
     "elapsed": 46568,
     "status": "ok",
     "timestamp": 1600932041260,
     "user": {
      "displayName": "Alberto Romero",
      "photoUrl": "",
      "userId": "13942113647740663414"
     },
     "user_tz": -120
    },
    "id": "EWo__Xoxy1Hk",
    "outputId": "15920c9f-3b35-4a62-a957-6c793f923054"
   },
   "outputs": [
    {
     "data": {
      "image/png": "[encoded data removed]",
      "text/plain": [
       "<Figure size 432x288 with 1 Axes>"
      ]
     },
     "metadata": {},
     "output_type": "display_data"
    }
   ],
   "source": [
    "sns.set_style(\"darkgrid\")\n",
    "counts = [len(words), len(bigrams), len(trigrams)]\n",
    "plt.plot(counts, color='cornflowerblue')\n",
    "plt.plot(counts, 'bo')\n",
    "plt.margins(0.1)\n",
    "plt.xticks(range(3), ['unigram', 'bigram', 'trigram'])\n",
    "plt.tick_params(labelsize=14)\n",
    "plt.title('Number of ngrams in the first 10,000 reviews of the Yelp dataset', {'fontsize':16})\n",
    "plt.show()"
   ]
  },
  {
   "cell_type": "code",
   "execution_count": null,
   "metadata": {},
   "outputs": [],
   "source": []
  },
  {
   "cell_type": "markdown",
   "metadata": {
    "colab_type": "text",
    "id": "xSEanGNOy1Hl"
   },
   "source": [
    "## Filtering for Cleaner Features\n",
    "\n",
    "With words, how do we cleanly separate the signal from the noise? Through filtering, techniques that use raw tokenization and counting to generate lists of simple words or n-grams become more usable. Phrase detection, which we will discuss next, can be seen as a particular bigram filter. Here are a few more ways to perform filtering.\n",
    "\n",
    "### Stopwords\n",
    "\n",
    "Classification and retrieval do not usually require an in-depth understanding of the text. For instance, in the sentence “Emma knocked on the door,” the words “on” and “the” don’t change the fact that this sentence is about a person and a door. For coarse-grained tasks such as classification, the pronouns, articles, and prepositions may not add much value. The case may be very different in sentiment analysis, which requires a fine-grained understanding of semantics.\n",
    "\n",
    "The popular Python NLP package NLTK contains a linguist-defined stopword list for many languages. (You will need to install NLTK and run nltk.download() to get all the goodies.) Various stopword lists can also be found on the web. For instance, here are some sample words from the English stopword list:"
   ]
  },
  {
   "cell_type": "code",
   "execution_count": 24,
   "metadata": {
    "colab": {
     "base_uri": "https://localhost:8080/",
     "height": 69
    },
    "colab_type": "code",
    "executionInfo": {
     "elapsed": 47445,
     "status": "ok",
     "timestamp": 1600932042153,
     "user": {
      "displayName": "Alberto Romero",
      "photoUrl": "",
      "userId": "13942113647740663414"
     },
     "user_tz": -120
    },
    "id": "Qq7BEgiXy1Hm",
    "outputId": "66490902-4a28-44f9-9617-d8382f4393f9"
   },
   "outputs": [
    {
     "name": "stderr",
     "output_type": "stream",
     "text": [
      "[nltk_data] Downloading package stopwords to\n",
      "[nltk_data]     C:\\Users\\Admin\\AppData\\Roaming\\nltk_data...\n",
      "[nltk_data]   Package stopwords is already up-to-date!\n"
     ]
    },
    {
     "data": {
      "text/plain": [
       "['i', 'me', 'my', 'myself', 'we', 'our', 'ours', 'ourselves', 'you', \"you're\"]"
      ]
     },
     "execution_count": 24,
     "metadata": {},
     "output_type": "execute_result"
    }
   ],
   "source": []
  },
  {
   "cell_type": "markdown",
   "metadata": {
    "colab_type": "text",
    "id": "04kSK7ISy1Ho"
   },
   "source": [
    "Note that the list contains apostrophes, and the words are uncapitalized. In order to use it as is, the tokenization process must not eat up apostrophes, and the words need to be converted to lowercase.\n",
    "\n",
    "## Frequency-Based Filtering\n",
    "\n",
    "Stopword lists are a way of weeding out common words that make for vacuous features. There are other, more statistical ways of getting at the concept of “common words.” In collocation extraction, we see methods that depend on manual definitions, and those that use statistics. The same idea applies to word filtering. We can use frequency statistics here as well.\n",
    "\n",
    "### Frequent words\n",
    "\n",
    "Frequency statistics are great for filtering out corpus-specific common words as well as general-purpose stopwords. For instance, the phrase “New York Times” and each of the individual words in it appear frequently in the New York Times Annotated Corpus dataset. Similarly, the word “house” appears often in the phrase “House of Commons” in the Hansard corpus of Canadian parliament debates, a dataset that is popularly used for statistical machine translation because it contains both an English and a French version of all documents. These words are meaningful in general, but not within those particular corpora. A typical stopword list will catch the general stopwords, but not corpus-specific ones.\n",
    "\n",
    "Looking at the most frequent words can reveal parsing problems and highlight normally useful words that happen to appear too many times in the corpus. For example, Table 3-1 lists the 40 most frequent words in the Yelp reviews dataset. Here, frequency is based on the number of documents (reviews) they appear in, not their count within a document. As we can see, the list includes many stopwords. It also contains some surprises. “s” and “t” are on the list because we used the apostrophe as a tokenization delimiter, and words such as “Mary’s” or “didn’t” got parsed as “Mary s” and “didn t.” Furthermore, the words “good,” “food,” and “great” each appear in around a third of the reviews, but we might want to keep them around because they are very useful for tasks such as sentiment analysis or business categorization.\n",
    "\n",
    "![texto alternativo](https://drive.google.com/uc?id=10t_e8ghb0288snEPVr1TdWDjBlhiYxjW)"
   ]
  },
  {
   "cell_type": "markdown",
   "metadata": {
    "colab_type": "text",
    "id": "VgLLbbshy1Ho"
   },
   "source": [
    "In practice, it helps to combine frequency-based filtering with a stopword list. There is also the tricky question of where to place the cutoff. Unfortunately there is no universal answer. Most of the time the cutoff needs to be determined manually, and may need to be reexamined when the dataset changes.\n",
    "\n",
    "### Rare words\n",
    "\n",
    "Depending on the task, one might also need to filter out rare words. These might be truly obscure words, or misspellings of common words. To a statistical model, a word that appears in only one or two documents is more like noise than useful information. For example, suppose the task is to categorize businesses based on their Yelp reviews, and a single review contains the word “gobbledygook.” How would one tell, based on this one word, whether the business is a restaurant, a beauty salon, or a bar? Even if we knew that the business in this case happened to be a bar, it would probably be a mistake to classify as such for other reviews that contain the word “gobbledygook.”\n",
    "\n",
    "Not only are rare words unreliable as predictors, they also generate computational overhead. The set of 1.6 million Yelp reviews contains 357,481 unique words (tokenized by space and punctuation characters), 189,915 of which appear in only one review, and 41,162 in two reviews. Over 60% of the vocabulary occurs rarely. This is a so-called heavy-tailed distribution, and it is very common in real-world data. The training time of many statistical machine learning models scales linearly with the number of features, and some models are quadratic or worse. Rare words incur a large computation and storage cost for not much additional gain.\n",
    "\n",
    "Rare words can be easily identified and trimmed based on word count statistics. Alternatively, their counts can be aggregated into a special garbage bin, which can serve as an additional feature. Figure 3-7 demonstrates this representation on a short document that contains a bunch of usual words and two rare words, “gobbledygook” and “zylophant.” The usual words retain their own counts, which can be further filtered by stopword lists or other frequency-based methods. The rare words lose their identity and get grouped into a garbage bin feature.\n",
    "\n",
    "![texto alternativo](https://drive.google.com/uc?id=1jIU48-yVo2peJryvIvLWdVodVROWxJ5h)\n",
    "\n"
   ]
  },
  {
   "cell_type": "markdown",
   "metadata": {
    "colab_type": "text",
    "id": "JeLaC3qZy1Ho"
   },
   "source": [
    "Since one won’t know which words are rare until the whole corpus has been counted, the garbage bin feature will need to be collected as a post-processing step.\n",
    "\n",
    "Since this book is about feature engineering, our focus is on features. But the concept of rarity also applies to data points. If a text document is very short, then it likely contains no useful information and should not be used when training a model. One must use caution when applying this rule, however. The Wikipedia dump contains many pages that are incomplete stubs, which are probably safe to filter out. Tweets, on the other hand, are inherently short, and require other featurization and modeling tricks.\n",
    "\n",
    "\n",
    "## Stemming\n",
    "\n",
    "One problem with simple parsing is that different variations of the same word get counted as separate words. For instance, “flower” and “flowers” are technically different tokens, and so are “swimmer,” “swimming,” and “swim,” even though they are very close in meaning. It would be nice if all of these different variations got mapped to the same word.\n",
    "\n",
    "Stemming is an NLP task that tries to chop each word down to its basic linguistic word stem form. There are different approaches. Some are based on linguistic rules, others on observed statistics. A subclass of algorithms incorporate part-of-speech tagging and linguistic rules in a process known as lemmatization.\n",
    "\n",
    "Most stemming tools focus on the English language, though efforts are ongoing for other languages. The Porter stemmer is the most widely used free stemming tool for the English language. The original program is written in ANSI C, but many other packages have since wrapped it to provide access to other languages.\n",
    "\n",
    "Here is an example of running the Porter stemmer through the NLTK Python package. As you can see, it handles a large number of cases, but it’s not perfect. The word “goes” is mapped to “goe,” while “go” is mapped to itself:\n",
    "\n",
    "![texto alternativo](https://drive.google.com/uc?id=19m3iQWTeyzgVMZ_ncjtwJL2vTOGWzZYi)"
   ]
  },
  {
   "cell_type": "markdown",
   "metadata": {
    "colab_type": "text",
    "id": "LgSOAY6Py1Hp"
   },
   "source": [
    "Stemming does have a computation cost. Whether the end benefit outweighs the cost is application-dependent. It is also worth noting that stemming could hurt more than it helps. The words “new” and “news” have very different meanings, but both would be stemmed to “new.” Similar examples abound. For this reason, stemming is not always used.\n",
    "\n",
    "\n",
    "## Atoms of Meaning: From Words to n-Grams to Phrases\n",
    "\n",
    "The concept of bag-of-words is straightforward. But how does a computer know what a word is? A text document is represented digitally as a string, which is basically a sequence of characters. One might also run into semi-structured text in the form of JSON blobs or HTML pages. But even with the added tags and structure, the basic unit is still a string. How does one turn a string into a sequence of words? This involves the tasks of parsing and tokenization, which we discuss next.\n",
    "\n",
    "### Parsing and Tokenization\n",
    "\n",
    "Parsing is necessary when the string contains more than plain text. For instance, if the raw data is a web page, an email, or a log of some sort, then it contains additional structure. One needs to decide how to handle the markup, the headers and footers, or the uninteresting sections of the log. If the document is a web page, then the parser needs to handle URLs. If it is an email, then fields like From, To, and Subject may require special handling—otherwise these headers will end up as normal words in the final count, which may not be useful.\n",
    "\n",
    "After light parsing, the plain-text portion of the document can go through tokenization. This turns the string—a sequence of characters—into a sequence of tokens. Each token can then be counted as a word. The tokenizer needs to know what characters indicate that one token has ended and another is beginning. Space characters are usually good separators, as are punctuation characters. If the text contains tweets, then hash marks (#) should not be used as separators (also known as delimiters).\n",
    "\n",
    "Sometimes, the analysis needs to operate on sentences instead of entire documents. For instance, n-grams, a generalization of the concept of a word, should not extend beyond sentence boundaries. More complex text featurization methods like word2vec also work with sentences or paragraphs. In these cases, one needs to first parse the document into sentences, then further tokenize each sentence into words.\n",
    "\n",
    "### Collocation Extraction for Phrase Detection\n",
    "\n",
    "\n",
    "A sequence of tokens immediately yields the list of words and n-grams. Semantically speaking, however, we are more used to understanding phrases, not n-grams. In computational natural language processing (NLP), the concept of a useful phrase is called a collocation. In the words of Manning and Schütze (1999: 151), “A collocation is an expression consisting of two or more words that correspond to some conventional way of saying things.”\n",
    "\n",
    "Collocations are more meaningful than the sum of their parts. For instance, “strong tea” has a different meaning beyond “great physical strength” and “tea”; therefore, it is considered a collocation. The phrase “cute puppy,” on the other hand, means exactly the sum of its parts: “cute” and “puppy.” Thus, it is not considered a collocation.\n",
    "\n",
    "Collocations do not have to be consecutive sequences. For example, the sentence “Emma knocked on the door” is considered to contain the collocation “knock door.” Hence, not every collocation is an n-gram. Conversely, not every n-gram is deemed a meaningful collocation.\n",
    "\n",
    "Because collocations are more than the sum of their parts, their meaning cannot be adequately captured by individual word counts. Bag-of-words falls short as a representation. Bag-of-n-grams is also problematic because it captures too many meaningless sequences (consider “this is” in the bag-of-n-grams example) and not enough of the meaningful ones (i.e., knock door).\n",
    "\n",
    "Collocations are useful as features. But how does one discover and extract them from text? One way is to predefine them. If we tried really hard, we could probably find comprehensive lists of idioms in various languages, and we could look through the text for any matches. It would be very expensive, but it would work. If the corpus is very domain specific and contains esoteric lingo, then this might be the preferred method. But the list would require a lot of manual curation, and it would need to be constantly updated for evolving corpora. For example, it probably wouldn’t be very realistic for analyzing tweets, or for blogs and articles.\n",
    "\n",
    "Since the advent of statistical NLP in the last two decades, people have opted more and more for statistical methods for finding phrases. Instead of establishing a fixed list of phrases and idiomatic sayings, statistical collocation extraction methods rely on the ever-evolving data to reveal the popular sayings of the day.\n",
    "\n",
    "### Frequency-based methods\n",
    "\n",
    "A simple hack is to look at the most frequently occurring n-grams. The problem with this approach is that the most frequently occurring ones may not be the most useful ones. Table 3-2 shows the most popular bigrams ( n = 2 ) in the entire Yelp reviews dataset. As we can see, the top 10 most frequently occurring bigrams by document count are very generic terms that don’t contain much meaning.\n",
    "\n",
    "![texto alternativo](https://drive.google.com/uc?id=1qKEnujZ3oa6Mph8_CuqB7c1Xb0rbF6Dk)\n",
    "\n",
    "### Hypothesis testing for collocation extraction\n",
    "\n",
    "Raw popularity count is too crude of a measure. We have to find more clever statistics to be able to pick out meaningful phrases easily. The key idea is to ask whether two words appear together more often than they would by chance. The statistical machinery for answering this question is called a hypothesis test.\n",
    "\n",
    "Hypothesis testing is a way to boil noisy data down to “yes” or “no” answers. It involves modeling the data as samples drawn from random distributions. The randomness means that one can never be 100% sure about the answer; there’s always the chance of an outlier. So, the answers are attached to a probability.\n",
    "\n",
    "For example, the outcome of a hypothesis test might be “these two datasets come from the same distribution with 95% probability.” For a gentle introduction to hypothesis testing, see the Khan Academy’s tutorial on Hypothesis Testing and p-Values.\n",
    "\n",
    "In the context of collocation extraction, many hypothesis tests have been proposed over the years.  One of the most successful methods is based on the likelihood ratio test (Dunning, 1993). For a given pair of words, the method tests two hypotheses on the observed dataset. Hypothesis 1 (the null hypothesis) says that word 1 appears independently from word 2. Another way of saying this is that seeing word 1 has no bearing on whether we also see word 2. Hypothesis 2 (the alternate hypothesis) says that seeing word 1 changes the likelihood of seeing word 2. We take the alternate hypothesis to imply that the two words form a common phrase. Hence, the likelihood ratio test for phrase detection (a.k.a. collocation extraction) asks the following question: are the observed word occurrences in a given text corpus more likely to have been generated from a model where the two words occur independently from one another, or a model where the probabilities of the two words are entangled?\n",
    "\n",
    "That is a mouthful. Let’s math it up a little. (Math is great at expressing things very precisely and concisely, but it does require a completely different parser than natural language.)\n",
    "\n",
    "We can express the null hypothesis Hnull (independent) as P(w2 | w1) = P(w2 | not w1), and the alternate hypothesis Halternate (not independent) as P(w2 | w1) ≠ P(w2 | not w1).\n",
    "\n",
    "The final statistic is the log of the ratio between the two:\n",
    "\n",
    "log λ = log L ( Data; H null ) L ( Data; H alternate ) . #formatear\n",
    "\n",
    "The likelihood function L(Data; H) represents the probability of seeing the word frequencies in the dataset under the independent or the not independent model for the word pair. In order to compute this probability, we have to make another assumption about how the data is generated. The simplest data generation model is the binomial model, where for each word in the dataset, we toss a coin, and we insert our special word if the coin comes up heads, and some other word otherwise. Under this strategy, the count of the number of occurrences of the special word follows a binomial distribution. The binomial distribution is completely determined by the total number of words, the number of occurrences of the word of interest, and the heads probability.\n",
    "\n",
    "The algorithm for detecting common phrases through likelihood ratio test analysis proceeds as follows:\n",
    "\n",
    "    Compute occurrence probabilities for all singleton words: P(w).\n",
    "    Compute conditional pairwise word occurrence probabilities for all unique bigrams: P(w2 | w1).\n",
    "    Compute the likelihood ratio log λ for all unique bigrams.\n",
    "    Sort the bigrams based on their likelihood ratio.\n",
    "    Take the bigrams with the smallest likelihood ratio values as features.\n"
   ]
  },
  {
   "cell_type": "markdown",
   "metadata": {
    "colab_type": "text",
    "id": "XKpifucIy1Hp"
   },
   "source": [
    "There is another statistical approach that’s based on pointwise mutual information, but it is very sensitive to rare words, which are always present in real-world text corpora. Hence, it is not commonly used and we will not be demonstrating it here.\n",
    "\n",
    "Note that all of the statistical methods for collocation extraction, whether using raw frequency, hypothesis testing, or pointwise mutual information, operate by filtering a list of candidate phrases. The easiest and cheapest way to generate such a list is by counting n-grams. It’s possible to generate nonconsecutive sequences, but they are expensive to compute. In practice, even for consecutive n-grams, people rarely go beyond bigrams or trigrams because there are too many of them, even after filtering. To generate longer phrases, there are other methods such as chunking or combining with part-of-speech (PoS) tagging.\n",
    "\n",
    "\n",
    "### Chunking and part-of-speech tagging\n",
    "\n",
    "Chunking is a bit more sophisticated than finding n-grams, in that it forms sequences of tokens based on parts of speech, using rule-based models.\n",
    "\n",
    "For example, we might be most interested in finding all of the noun phrases in a problem where the entity (in this case the subject of a text) is the most interesting to us. In order to find this, we tokenize each word with a part of speech and then examine the token’s neighborhood to look for part-of-speech groupings, or “chunks.” The models that map words to parts of speech are generally language specific. Several open source Python libraries, such as NLTK, spaCy, and TextBlob, have multiple language models available. \n",
    "\n",
    "To  illustrate how several libraries in Python make chunking using PoS tagging fairly straightforward, let’s use the Yelp reviews dataset again. In Example 3-2, we evaluate the parts of speech to find the noun phrases using both spaCy and TextBlob.\n",
    "\n"
   ]
  },
  {
   "cell_type": "code",
   "execution_count": 25,
   "metadata": {
    "colab": {
     "base_uri": "https://localhost:8080/",
     "height": 35
    },
    "colab_type": "code",
    "executionInfo": {
     "elapsed": 47428,
     "status": "ok",
     "timestamp": 1600932042153,
     "user": {
      "displayName": "Alberto Romero",
      "photoUrl": "",
      "userId": "13942113647740663414"
     },
     "user_tz": -120
    },
    "id": "ubFxtO5Yy1Hp",
    "outputId": "3c63dd4f-383c-496b-baaf-1a5054ea189d"
   },
   "outputs": [
    {
     "data": {
      "text/plain": [
       "(10, 8)"
      ]
     },
     "execution_count": 25,
     "metadata": {},
     "output_type": "execute_result"
    }
   ],
   "source": []
  },
  {
   "cell_type": "markdown",
   "metadata": {
    "colab_type": "text",
    "id": "he56IUUfy1Hs"
   },
   "source": [
    "### Using spacy: [Installation instructions for spacy](https://spacy.io/docs/usage/)"
   ]
  },
  {
   "cell_type": "code",
   "execution_count": 26,
   "metadata": {},
   "outputs": [
    {
     "name": "stdout",
     "output_type": "stream",
     "text": [
      "Requirement already satisfied: pip in c:\\users\\admin\\appdata\\local\\programs\\python\\python37\\lib\\site-packages (22.0.3)\n",
      "Requirement already satisfied: setuptools in c:\\users\\admin\\appdata\\local\\programs\\python\\python37\\lib\\site-packages (60.9.2)\n",
      "Collecting setuptools\n",
      "  Downloading setuptools-60.9.3-py3-none-any.whl (1.1 MB)\n",
      "     ---------------------------------------- 1.1/1.1 MB 2.5 MB/s eta 0:00:00\n",
      "Requirement already satisfied: wheel in c:\\users\\admin\\appdata\\local\\programs\\python\\python37\\lib\\site-packages (0.37.1)\n",
      "Installing collected packages: setuptools\n",
      "  Attempting uninstall: setuptools\n",
      "    Found existing installation: setuptools 60.9.2\n",
      "    Uninstalling setuptools-60.9.2:\n",
      "      Successfully uninstalled setuptools-60.9.2\n",
      "Successfully installed setuptools-60.9.3\n"
     ]
    },
    {
     "name": "stderr",
     "output_type": "stream",
     "text": [
      "ERROR: pip's dependency resolver does not currently take into account all the packages that are installed. This behaviour is the source of the following dependency conflicts.\n",
      "en-core-web-sm 2.3.1 requires spacy<2.4.0,>=2.3.0, but you have spacy 3.2.2 which is incompatible.\n"
     ]
    },
    {
     "name": "stdout",
     "output_type": "stream",
     "text": [
      "Requirement already satisfied: spacy in c:\\users\\admin\\appdata\\local\\programs\\python\\python37\\lib\\site-packages (3.2.2)\n",
      "Requirement already satisfied: thinc<8.1.0,>=8.0.12 in c:\\users\\admin\\appdata\\local\\programs\\python\\python37\\lib\\site-packages (from spacy) (8.0.13)\n",
      "Requirement already satisfied: pydantic!=1.8,!=1.8.1,<1.9.0,>=1.7.4 in c:\\users\\admin\\appdata\\local\\programs\\python\\python37\\lib\\site-packages (from spacy) (1.8.2)\n",
      "Requirement already satisfied: preshed<3.1.0,>=3.0.2 in c:\\users\\admin\\appdata\\local\\programs\\python\\python37\\lib\\site-packages (from spacy) (3.0.6)\n",
      "Requirement already satisfied: murmurhash<1.1.0,>=0.28.0 in c:\\users\\admin\\appdata\\local\\programs\\python\\python37\\lib\\site-packages (from spacy) (1.0.6)\n",
      "Requirement already satisfied: langcodes<4.0.0,>=3.2.0 in c:\\users\\admin\\appdata\\local\\programs\\python\\python37\\lib\\site-packages (from spacy) (3.3.0)\n",
      "Requirement already satisfied: srsly<3.0.0,>=2.4.1 in c:\\users\\admin\\appdata\\local\\programs\\python\\python37\\lib\\site-packages (from spacy) (2.4.2)\n",
      "Requirement already satisfied: requests<3.0.0,>=2.13.0 in c:\\users\\admin\\appdata\\local\\programs\\python\\python37\\lib\\site-packages (from spacy) (2.26.0)\n",
      "Requirement already satisfied: jinja2 in c:\\users\\admin\\appdata\\roaming\\python\\python37\\site-packages (from spacy) (3.0.3)\n",
      "Requirement already satisfied: blis<0.8.0,>=0.4.0 in c:\\users\\admin\\appdata\\local\\programs\\python\\python37\\lib\\site-packages (from spacy) (0.7.5)\n",
      "Requirement already satisfied: typing-extensions<4.0.0.0,>=3.7.4 in c:\\users\\admin\\appdata\\local\\programs\\python\\python37\\lib\\site-packages (from spacy) (3.10.0.2)\n",
      "Requirement already satisfied: spacy-legacy<3.1.0,>=3.0.8 in c:\\users\\admin\\appdata\\local\\programs\\python\\python37\\lib\\site-packages (from spacy) (3.0.8)\n",
      "Requirement already satisfied: wasabi<1.1.0,>=0.8.1 in c:\\users\\admin\\appdata\\local\\programs\\python\\python37\\lib\\site-packages (from spacy) (0.9.0)\n",
      "Requirement already satisfied: numpy>=1.15.0 in c:\\users\\admin\\appdata\\local\\programs\\python\\python37\\lib\\site-packages (from spacy) (1.21.4)\n",
      "Requirement already satisfied: spacy-loggers<2.0.0,>=1.0.0 in c:\\users\\admin\\appdata\\local\\programs\\python\\python37\\lib\\site-packages (from spacy) (1.0.1)\n",
      "Requirement already satisfied: setuptools in c:\\users\\admin\\appdata\\local\\programs\\python\\python37\\lib\\site-packages (from spacy) (60.9.3)\n",
      "Requirement already satisfied: tqdm<5.0.0,>=4.38.0 in c:\\users\\admin\\appdata\\local\\programs\\python\\python37\\lib\\site-packages (from spacy) (4.62.3)\n",
      "Requirement already satisfied: cymem<2.1.0,>=2.0.2 in c:\\users\\admin\\appdata\\local\\programs\\python\\python37\\lib\\site-packages (from spacy) (2.0.6)\n",
      "Requirement already satisfied: packaging>=20.0 in c:\\users\\admin\\appdata\\local\\programs\\python\\python37\\lib\\site-packages (from spacy) (21.3)\n",
      "Requirement already satisfied: typer<0.5.0,>=0.3.0 in c:\\users\\admin\\appdata\\local\\programs\\python\\python37\\lib\\site-packages (from spacy) (0.4.0)\n",
      "Requirement already satisfied: pathy>=0.3.5 in c:\\users\\admin\\appdata\\local\\programs\\python\\python37\\lib\\site-packages (from spacy) (0.6.1)\n",
      "Requirement already satisfied: catalogue<2.1.0,>=2.0.6 in c:\\users\\admin\\appdata\\local\\programs\\python\\python37\\lib\\site-packages (from spacy) (2.0.6)\n",
      "Requirement already satisfied: zipp>=0.5 in c:\\users\\admin\\appdata\\roaming\\python\\python37\\site-packages (from catalogue<2.1.0,>=2.0.6->spacy) (3.6.0)\n",
      "Requirement already satisfied: pyparsing!=3.0.5,>=2.0.2 in c:\\users\\admin\\appdata\\local\\programs\\python\\python37\\lib\\site-packages (from packaging>=20.0->spacy) (3.0.6)\n",
      "Requirement already satisfied: smart-open<6.0.0,>=5.0.0 in c:\\users\\admin\\appdata\\local\\programs\\python\\python37\\lib\\site-packages (from pathy>=0.3.5->spacy) (5.2.1)\n",
      "Requirement already satisfied: certifi>=2017.4.17 in c:\\users\\admin\\appdata\\local\\programs\\python\\python37\\lib\\site-packages (from requests<3.0.0,>=2.13.0->spacy) (2021.10.8)\n",
      "Requirement already satisfied: idna<4,>=2.5 in c:\\users\\admin\\appdata\\local\\programs\\python\\python37\\lib\\site-packages (from requests<3.0.0,>=2.13.0->spacy) (3.3)\n",
      "Requirement already satisfied: charset-normalizer~=2.0.0 in c:\\users\\admin\\appdata\\local\\programs\\python\\python37\\lib\\site-packages (from requests<3.0.0,>=2.13.0->spacy) (2.0.9)\n",
      "Requirement already satisfied: urllib3<1.27,>=1.21.1 in c:\\users\\admin\\appdata\\local\\programs\\python\\python37\\lib\\site-packages (from requests<3.0.0,>=2.13.0->spacy) (1.26.7)\n",
      "Requirement already satisfied: colorama in c:\\users\\admin\\appdata\\roaming\\python\\python37\\site-packages (from tqdm<5.0.0,>=4.38.0->spacy) (0.4.4)\n",
      "Requirement already satisfied: click<9.0.0,>=7.1.1 in c:\\users\\admin\\appdata\\local\\programs\\python\\python37\\lib\\site-packages (from typer<0.5.0,>=0.3.0->spacy) (7.1.2)\n",
      "Requirement already satisfied: MarkupSafe>=2.0 in c:\\users\\admin\\appdata\\local\\programs\\python\\python37\\lib\\site-packages (from jinja2->spacy) (2.0.1)\n"
     ]
    },
    {
     "name": "stderr",
     "output_type": "stream",
     "text": [
      "No se encontr� Python; ejecuta sin argumentos para instalar desde Microsoft Store o deshabilita este acceso directo en Configuraci�n > Administrar alias de ejecuci�n de la aplicaci�n.\n"
     ]
    }
   ],
   "source": []
  },
  {
   "cell_type": "code",
   "execution_count": 27,
   "metadata": {},
   "outputs": [
    {
     "name": "stdout",
     "output_type": "stream",
     "text": [
      "Requirement already satisfied: nltk in c:\\users\\admin\\appdata\\local\\programs\\python\\python37\\lib\\site-packages (3.7)\n",
      "Requirement already satisfied: joblib in c:\\users\\admin\\appdata\\local\\programs\\python\\python37\\lib\\site-packages (from nltk) (1.1.0)\n",
      "Requirement already satisfied: tqdm in c:\\users\\admin\\appdata\\local\\programs\\python\\python37\\lib\\site-packages (from nltk) (4.62.3)\n",
      "Requirement already satisfied: regex>=2021.8.3 in c:\\users\\admin\\appdata\\local\\programs\\python\\python37\\lib\\site-packages (from nltk) (2022.1.18)\n",
      "Requirement already satisfied: click in c:\\users\\admin\\appdata\\local\\programs\\python\\python37\\lib\\site-packages (from nltk) (7.1.2)\n",
      "Requirement already satisfied: colorama in c:\\users\\admin\\appdata\\roaming\\python\\python37\\site-packages (from tqdm->nltk) (0.4.4)\n",
      "Collecting spacy==2.3.5\n",
      "  Using cached spacy-2.3.5-cp37-cp37m-win_amd64.whl (9.5 MB)\n",
      "Collecting catalogue<1.1.0,>=0.0.7\n",
      "  Using cached catalogue-1.0.0-py2.py3-none-any.whl (7.7 kB)\n",
      "Requirement already satisfied: murmurhash<1.1.0,>=0.28.0 in c:\\users\\admin\\appdata\\local\\programs\\python\\python37\\lib\\site-packages (from spacy==2.3.5) (1.0.6)\n",
      "Requirement already satisfied: setuptools in c:\\users\\admin\\appdata\\local\\programs\\python\\python37\\lib\\site-packages (from spacy==2.3.5) (60.9.3)\n",
      "Requirement already satisfied: preshed<3.1.0,>=3.0.2 in c:\\users\\admin\\appdata\\local\\programs\\python\\python37\\lib\\site-packages (from spacy==2.3.5) (3.0.6)\n",
      "Requirement already satisfied: requests<3.0.0,>=2.13.0 in c:\\users\\admin\\appdata\\local\\programs\\python\\python37\\lib\\site-packages (from spacy==2.3.5) (2.26.0)\n",
      "Collecting srsly<1.1.0,>=1.0.2\n",
      "  Using cached srsly-1.0.5-cp37-cp37m-win_amd64.whl (176 kB)\n",
      "Collecting thinc<7.5.0,>=7.4.1\n",
      "  Using cached thinc-7.4.5-cp37-cp37m-win_amd64.whl (888 kB)\n",
      "Requirement already satisfied: wasabi<1.1.0,>=0.4.0 in c:\\users\\admin\\appdata\\local\\programs\\python\\python37\\lib\\site-packages (from spacy==2.3.5) (0.9.0)\n",
      "Requirement already satisfied: plac<1.2.0,>=0.9.6 in c:\\users\\admin\\appdata\\local\\programs\\python\\python37\\lib\\site-packages (from spacy==2.3.5) (1.1.3)\n",
      "Requirement already satisfied: blis<0.8.0,>=0.4.0 in c:\\users\\admin\\appdata\\local\\programs\\python\\python37\\lib\\site-packages (from spacy==2.3.5) (0.7.5)\n",
      "Requirement already satisfied: numpy>=1.15.0 in c:\\users\\admin\\appdata\\local\\programs\\python\\python37\\lib\\site-packages (from spacy==2.3.5) (1.21.4)\n",
      "Requirement already satisfied: cymem<2.1.0,>=2.0.2 in c:\\users\\admin\\appdata\\local\\programs\\python\\python37\\lib\\site-packages (from spacy==2.3.5) (2.0.6)\n",
      "Requirement already satisfied: tqdm<5.0.0,>=4.38.0 in c:\\users\\admin\\appdata\\local\\programs\\python\\python37\\lib\\site-packages (from spacy==2.3.5) (4.62.3)\n",
      "Requirement already satisfied: importlib-metadata>=0.20 in c:\\users\\admin\\appdata\\roaming\\python\\python37\\site-packages (from catalogue<1.1.0,>=0.0.7->spacy==2.3.5) (4.8.2)\n",
      "Requirement already satisfied: urllib3<1.27,>=1.21.1 in c:\\users\\admin\\appdata\\local\\programs\\python\\python37\\lib\\site-packages (from requests<3.0.0,>=2.13.0->spacy==2.3.5) (1.26.7)\n",
      "Requirement already satisfied: charset-normalizer~=2.0.0 in c:\\users\\admin\\appdata\\local\\programs\\python\\python37\\lib\\site-packages (from requests<3.0.0,>=2.13.0->spacy==2.3.5) (2.0.9)\n",
      "Requirement already satisfied: idna<4,>=2.5 in c:\\users\\admin\\appdata\\local\\programs\\python\\python37\\lib\\site-packages (from requests<3.0.0,>=2.13.0->spacy==2.3.5) (3.3)\n",
      "Requirement already satisfied: certifi>=2017.4.17 in c:\\users\\admin\\appdata\\local\\programs\\python\\python37\\lib\\site-packages (from requests<3.0.0,>=2.13.0->spacy==2.3.5) (2021.10.8)\n",
      "Requirement already satisfied: colorama in c:\\users\\admin\\appdata\\roaming\\python\\python37\\site-packages (from tqdm<5.0.0,>=4.38.0->spacy==2.3.5) (0.4.4)\n",
      "Requirement already satisfied: typing-extensions>=3.6.4 in c:\\users\\admin\\appdata\\local\\programs\\python\\python37\\lib\\site-packages (from importlib-metadata>=0.20->catalogue<1.1.0,>=0.0.7->spacy==2.3.5) (3.10.0.2)\n",
      "Requirement already satisfied: zipp>=0.5 in c:\\users\\admin\\appdata\\roaming\\python\\python37\\site-packages (from importlib-metadata>=0.20->catalogue<1.1.0,>=0.0.7->spacy==2.3.5) (3.6.0)\n",
      "Installing collected packages: srsly, catalogue, thinc, spacy\n",
      "  Attempting uninstall: srsly\n",
      "    Found existing installation: srsly 2.4.2\n",
      "    Uninstalling srsly-2.4.2:\n",
      "      Successfully uninstalled srsly-2.4.2\n",
      "  Attempting uninstall: catalogue\n",
      "    Found existing installation: catalogue 2.0.6\n",
      "    Uninstalling catalogue-2.0.6:\n",
      "      Successfully uninstalled catalogue-2.0.6\n",
      "  Attempting uninstall: thinc\n",
      "    Found existing installation: thinc 8.0.13\n",
      "    Uninstalling thinc-8.0.13:\n",
      "      Successfully uninstalled thinc-8.0.13\n",
      "  Attempting uninstall: spacy\n",
      "    Found existing installation: spacy 3.2.2\n",
      "    Uninstalling spacy-3.2.2:\n",
      "      Successfully uninstalled spacy-3.2.2\n",
      "Successfully installed catalogue-1.0.0 spacy-2.3.5 srsly-1.0.5 thinc-7.4.5\n",
      "Collecting https://github.com/explosion/spacy-models/releases/download/en_core_web_sm-2.3.1/en_core_web_sm-2.3.1.tar.gz\n",
      "  Downloading https://github.com/explosion/spacy-models/releases/download/en_core_web_sm-2.3.1/en_core_web_sm-2.3.1.tar.gz (12.0 MB)\n",
      "     ---------------------------------------- 12.0/12.0 MB 2.4 MB/s eta 0:00:00\n",
      "  Preparing metadata (setup.py): started\n",
      "  Preparing metadata (setup.py): finished with status 'done'\n",
      "Requirement already satisfied: spacy<2.4.0,>=2.3.0 in c:\\users\\admin\\appdata\\local\\programs\\python\\python37\\lib\\site-packages (from en-core-web-sm==2.3.1) (2.3.5)\n",
      "Requirement already satisfied: cymem<2.1.0,>=2.0.2 in c:\\users\\admin\\appdata\\local\\programs\\python\\python37\\lib\\site-packages (from spacy<2.4.0,>=2.3.0->en-core-web-sm==2.3.1) (2.0.6)\n",
      "Requirement already satisfied: thinc<7.5.0,>=7.4.1 in c:\\users\\admin\\appdata\\local\\programs\\python\\python37\\lib\\site-packages (from spacy<2.4.0,>=2.3.0->en-core-web-sm==2.3.1) (7.4.5)\n",
      "Requirement already satisfied: wasabi<1.1.0,>=0.4.0 in c:\\users\\admin\\appdata\\local\\programs\\python\\python37\\lib\\site-packages (from spacy<2.4.0,>=2.3.0->en-core-web-sm==2.3.1) (0.9.0)\n",
      "Requirement already satisfied: srsly<1.1.0,>=1.0.2 in c:\\users\\admin\\appdata\\local\\programs\\python\\python37\\lib\\site-packages (from spacy<2.4.0,>=2.3.0->en-core-web-sm==2.3.1) (1.0.5)\n",
      "Requirement already satisfied: requests<3.0.0,>=2.13.0 in c:\\users\\admin\\appdata\\local\\programs\\python\\python37\\lib\\site-packages (from spacy<2.4.0,>=2.3.0->en-core-web-sm==2.3.1) (2.26.0)\n",
      "Requirement already satisfied: catalogue<1.1.0,>=0.0.7 in c:\\users\\admin\\appdata\\local\\programs\\python\\python37\\lib\\site-packages (from spacy<2.4.0,>=2.3.0->en-core-web-sm==2.3.1) (1.0.0)\n",
      "Requirement already satisfied: blis<0.8.0,>=0.4.0 in c:\\users\\admin\\appdata\\local\\programs\\python\\python37\\lib\\site-packages (from spacy<2.4.0,>=2.3.0->en-core-web-sm==2.3.1) (0.7.5)\n",
      "Requirement already satisfied: tqdm<5.0.0,>=4.38.0 in c:\\users\\admin\\appdata\\local\\programs\\python\\python37\\lib\\site-packages (from spacy<2.4.0,>=2.3.0->en-core-web-sm==2.3.1) (4.62.3)\n",
      "Requirement already satisfied: plac<1.2.0,>=0.9.6 in c:\\users\\admin\\appdata\\local\\programs\\python\\python37\\lib\\site-packages (from spacy<2.4.0,>=2.3.0->en-core-web-sm==2.3.1) (1.1.3)\n",
      "Requirement already satisfied: numpy>=1.15.0 in c:\\users\\admin\\appdata\\local\\programs\\python\\python37\\lib\\site-packages (from spacy<2.4.0,>=2.3.0->en-core-web-sm==2.3.1) (1.21.4)\n",
      "Requirement already satisfied: preshed<3.1.0,>=3.0.2 in c:\\users\\admin\\appdata\\local\\programs\\python\\python37\\lib\\site-packages (from spacy<2.4.0,>=2.3.0->en-core-web-sm==2.3.1) (3.0.6)\n",
      "Requirement already satisfied: murmurhash<1.1.0,>=0.28.0 in c:\\users\\admin\\appdata\\local\\programs\\python\\python37\\lib\\site-packages (from spacy<2.4.0,>=2.3.0->en-core-web-sm==2.3.1) (1.0.6)\n",
      "Requirement already satisfied: setuptools in c:\\users\\admin\\appdata\\local\\programs\\python\\python37\\lib\\site-packages (from spacy<2.4.0,>=2.3.0->en-core-web-sm==2.3.1) (60.9.3)\n",
      "Requirement already satisfied: importlib-metadata>=0.20 in c:\\users\\admin\\appdata\\roaming\\python\\python37\\site-packages (from catalogue<1.1.0,>=0.0.7->spacy<2.4.0,>=2.3.0->en-core-web-sm==2.3.1) (4.8.2)\n",
      "Requirement already satisfied: urllib3<1.27,>=1.21.1 in c:\\users\\admin\\appdata\\local\\programs\\python\\python37\\lib\\site-packages (from requests<3.0.0,>=2.13.0->spacy<2.4.0,>=2.3.0->en-core-web-sm==2.3.1) (1.26.7)\n",
      "Requirement already satisfied: idna<4,>=2.5 in c:\\users\\admin\\appdata\\local\\programs\\python\\python37\\lib\\site-packages (from requests<3.0.0,>=2.13.0->spacy<2.4.0,>=2.3.0->en-core-web-sm==2.3.1) (3.3)\n",
      "Requirement already satisfied: certifi>=2017.4.17 in c:\\users\\admin\\appdata\\local\\programs\\python\\python37\\lib\\site-packages (from requests<3.0.0,>=2.13.0->spacy<2.4.0,>=2.3.0->en-core-web-sm==2.3.1) (2021.10.8)\n",
      "Requirement already satisfied: charset-normalizer~=2.0.0 in c:\\users\\admin\\appdata\\local\\programs\\python\\python37\\lib\\site-packages (from requests<3.0.0,>=2.13.0->spacy<2.4.0,>=2.3.0->en-core-web-sm==2.3.1) (2.0.9)\n",
      "Requirement already satisfied: colorama in c:\\users\\admin\\appdata\\roaming\\python\\python37\\site-packages (from tqdm<5.0.0,>=4.38.0->spacy<2.4.0,>=2.3.0->en-core-web-sm==2.3.1) (0.4.4)\n",
      "Requirement already satisfied: typing-extensions>=3.6.4 in c:\\users\\admin\\appdata\\local\\programs\\python\\python37\\lib\\site-packages (from importlib-metadata>=0.20->catalogue<1.1.0,>=0.0.7->spacy<2.4.0,>=2.3.0->en-core-web-sm==2.3.1) (3.10.0.2)\n",
      "Requirement already satisfied: zipp>=0.5 in c:\\users\\admin\\appdata\\roaming\\python\\python37\\site-packages (from importlib-metadata>=0.20->catalogue<1.1.0,>=0.0.7->spacy<2.4.0,>=2.3.0->en-core-web-sm==2.3.1) (3.6.0)\n",
      "Requirement already satisfied: pyresparser in c:\\users\\admin\\appdata\\local\\programs\\python\\python37\\lib\\site-packages (1.0.6)\n",
      "Requirement already satisfied: numpy>=1.16.4 in c:\\users\\admin\\appdata\\local\\programs\\python\\python37\\lib\\site-packages (from pyresparser) (1.21.4)\n",
      "Requirement already satisfied: thinc>=7.0.4 in c:\\users\\admin\\appdata\\local\\programs\\python\\python37\\lib\\site-packages (from pyresparser) (7.4.5)\n",
      "Requirement already satisfied: chardet>=3.0.4 in c:\\users\\admin\\appdata\\local\\programs\\python\\python37\\lib\\site-packages (from pyresparser) (4.0.0)\n",
      "Requirement already satisfied: six>=1.12.0 in c:\\users\\admin\\appdata\\local\\programs\\python\\python37\\lib\\site-packages (from pyresparser) (1.16.0)\n",
      "Requirement already satisfied: urllib3>=1.25.3 in c:\\users\\admin\\appdata\\local\\programs\\python\\python37\\lib\\site-packages (from pyresparser) (1.26.7)\n",
      "Requirement already satisfied: wasabi>=0.2.2 in c:\\users\\admin\\appdata\\local\\programs\\python\\python37\\lib\\site-packages (from pyresparser) (0.9.0)\n",
      "Requirement already satisfied: nltk>=3.4.3 in c:\\users\\admin\\appdata\\local\\programs\\python\\python37\\lib\\site-packages (from pyresparser) (3.7)\n",
      "Requirement already satisfied: preshed>=2.0.1 in c:\\users\\admin\\appdata\\local\\programs\\python\\python37\\lib\\site-packages (from pyresparser) (3.0.6)\n",
      "Requirement already satisfied: pycryptodome>=3.8.2 in c:\\users\\admin\\appdata\\local\\programs\\python\\python37\\lib\\site-packages (from pyresparser) (3.14.1)\n",
      "Requirement already satisfied: tqdm>=4.32.2 in c:\\users\\admin\\appdata\\local\\programs\\python\\python37\\lib\\site-packages (from pyresparser) (4.62.3)\n",
      "Requirement already satisfied: cymem>=2.0.2 in c:\\users\\admin\\appdata\\local\\programs\\python\\python37\\lib\\site-packages (from pyresparser) (2.0.6)\n",
      "Requirement already satisfied: requests>=2.22.0 in c:\\users\\admin\\appdata\\local\\programs\\python\\python37\\lib\\site-packages (from pyresparser) (2.26.0)\n",
      "Requirement already satisfied: sortedcontainers>=2.1.0 in c:\\users\\admin\\appdata\\local\\programs\\python\\python37\\lib\\site-packages (from pyresparser) (2.4.0)\n",
      "Requirement already satisfied: srsly>=0.0.7 in c:\\users\\admin\\appdata\\local\\programs\\python\\python37\\lib\\site-packages (from pyresparser) (1.0.5)\n",
      "Requirement already satisfied: pyrsistent>=0.15.2 in c:\\users\\admin\\appdata\\local\\programs\\python\\python37\\lib\\site-packages (from pyresparser) (0.18.0)\n",
      "Requirement already satisfied: certifi>=2019.6.16 in c:\\users\\admin\\appdata\\local\\programs\\python\\python37\\lib\\site-packages (from pyresparser) (2021.10.8)\n",
      "Requirement already satisfied: pdfminer.six>=20181108 in c:\\users\\admin\\appdata\\local\\programs\\python\\python37\\lib\\site-packages (from pyresparser) (20211012)\n",
      "Requirement already satisfied: pandas>=0.24.2 in c:\\users\\admin\\appdata\\local\\programs\\python\\python37\\lib\\site-packages (from pyresparser) (1.3.4)\n",
      "Requirement already satisfied: docx2txt>=0.7 in c:\\users\\admin\\appdata\\local\\programs\\python\\python37\\lib\\site-packages (from pyresparser) (0.8)\n",
      "Requirement already satisfied: python-dateutil>=2.8.0 in c:\\users\\admin\\appdata\\local\\programs\\python\\python37\\lib\\site-packages (from pyresparser) (2.8.2)\n",
      "Requirement already satisfied: jsonschema>=3.0.1 in c:\\users\\admin\\appdata\\local\\programs\\python\\python37\\lib\\site-packages (from pyresparser) (4.2.1)\n",
      "Requirement already satisfied: blis>=0.2.4 in c:\\users\\admin\\appdata\\local\\programs\\python\\python37\\lib\\site-packages (from pyresparser) (0.7.5)\n",
      "Requirement already satisfied: idna>=2.8 in c:\\users\\admin\\appdata\\local\\programs\\python\\python37\\lib\\site-packages (from pyresparser) (3.3)\n",
      "Requirement already satisfied: pytz>=2019.1 in c:\\users\\admin\\appdata\\local\\programs\\python\\python37\\lib\\site-packages (from pyresparser) (2021.3)\n",
      "Requirement already satisfied: attrs>=19.1.0 in c:\\users\\admin\\appdata\\local\\programs\\python\\python37\\lib\\site-packages (from pyresparser) (21.2.0)\n",
      "Requirement already satisfied: spacy>=2.1.4 in c:\\users\\admin\\appdata\\local\\programs\\python\\python37\\lib\\site-packages (from pyresparser) (2.3.5)\n",
      "Requirement already satisfied: importlib-resources>=1.4.0 in c:\\users\\admin\\appdata\\roaming\\python\\python37\\site-packages (from jsonschema>=3.0.1->pyresparser) (5.4.0)\n",
      "Requirement already satisfied: importlib-metadata in c:\\users\\admin\\appdata\\roaming\\python\\python37\\site-packages (from jsonschema>=3.0.1->pyresparser) (4.8.2)\n",
      "Requirement already satisfied: click in c:\\users\\admin\\appdata\\local\\programs\\python\\python37\\lib\\site-packages (from nltk>=3.4.3->pyresparser) (7.1.2)\n",
      "Requirement already satisfied: joblib in c:\\users\\admin\\appdata\\local\\programs\\python\\python37\\lib\\site-packages (from nltk>=3.4.3->pyresparser) (1.1.0)\n",
      "Requirement already satisfied: regex>=2021.8.3 in c:\\users\\admin\\appdata\\local\\programs\\python\\python37\\lib\\site-packages (from nltk>=3.4.3->pyresparser) (2022.1.18)\n",
      "Requirement already satisfied: cryptography in c:\\users\\admin\\appdata\\local\\programs\\python\\python37\\lib\\site-packages (from pdfminer.six>=20181108->pyresparser) (36.0.1)\n",
      "Requirement already satisfied: murmurhash<1.1.0,>=0.28.0 in c:\\users\\admin\\appdata\\local\\programs\\python\\python37\\lib\\site-packages (from preshed>=2.0.1->pyresparser) (1.0.6)\n",
      "Requirement already satisfied: charset-normalizer~=2.0.0 in c:\\users\\admin\\appdata\\local\\programs\\python\\python37\\lib\\site-packages (from requests>=2.22.0->pyresparser) (2.0.9)\n",
      "Requirement already satisfied: setuptools in c:\\users\\admin\\appdata\\local\\programs\\python\\python37\\lib\\site-packages (from spacy>=2.1.4->pyresparser) (60.9.3)\n",
      "Requirement already satisfied: catalogue<1.1.0,>=0.0.7 in c:\\users\\admin\\appdata\\local\\programs\\python\\python37\\lib\\site-packages (from spacy>=2.1.4->pyresparser) (1.0.0)\n",
      "Requirement already satisfied: plac<1.2.0,>=0.9.6 in c:\\users\\admin\\appdata\\local\\programs\\python\\python37\\lib\\site-packages (from spacy>=2.1.4->pyresparser) (1.1.3)\n",
      "Requirement already satisfied: colorama in c:\\users\\admin\\appdata\\roaming\\python\\python37\\site-packages (from tqdm>=4.32.2->pyresparser) (0.4.4)\n",
      "Requirement already satisfied: zipp>=0.5 in c:\\users\\admin\\appdata\\roaming\\python\\python37\\site-packages (from importlib-metadata->jsonschema>=3.0.1->pyresparser) (3.6.0)\n",
      "Requirement already satisfied: typing-extensions>=3.6.4 in c:\\users\\admin\\appdata\\local\\programs\\python\\python37\\lib\\site-packages (from importlib-metadata->jsonschema>=3.0.1->pyresparser) (3.10.0.2)\n",
      "Requirement already satisfied: cffi>=1.12 in c:\\users\\admin\\appdata\\local\\programs\\python\\python37\\lib\\site-packages (from cryptography->pdfminer.six>=20181108->pyresparser) (1.15.0)\n",
      "Requirement already satisfied: pycparser in c:\\users\\admin\\appdata\\local\\programs\\python\\python37\\lib\\site-packages (from cffi>=1.12->cryptography->pdfminer.six>=20181108->pyresparser) (2.21)\n"
     ]
    }
   ],
   "source": []
  },
  {
   "cell_type": "code",
   "execution_count": 28,
   "metadata": {
    "colab": {},
    "colab_type": "code",
    "executionInfo": {
     "elapsed": 47418,
     "status": "ok",
     "timestamp": 1600932042154,
     "user": {
      "displayName": "Alberto Romero",
      "photoUrl": "",
      "userId": "13942113647740663414"
     },
     "user_tz": -120
    },
    "id": "Ss9_u5wfy1Hs"
   },
   "outputs": [],
   "source": [
    "\n"
   ]
  },
  {
   "cell_type": "code",
   "execution_count": 29,
   "metadata": {
    "colab": {},
    "colab_type": "code",
    "executionInfo": {
     "elapsed": 48198,
     "status": "ok",
     "timestamp": 1600932042940,
     "user": {
      "displayName": "Alberto Romero",
      "photoUrl": "",
      "userId": "13942113647740663414"
     },
     "user_tz": -120
    },
    "id": "z5h0B-wek36Y"
   },
   "outputs": [],
   "source": []
  },
  {
   "cell_type": "code",
   "execution_count": 30,
   "metadata": {
    "colab": {},
    "colab_type": "code",
    "executionInfo": {
     "elapsed": 49349,
     "status": "ok",
     "timestamp": 1600932044096,
     "user": {
      "displayName": "Alberto Romero",
      "photoUrl": "",
      "userId": "13942113647740663414"
     },
     "user_tz": -120
    },
    "id": "ZhJPJ7rPk36d"
   },
   "outputs": [],
   "source": []
  },
  {
   "cell_type": "code",
   "execution_count": 31,
   "metadata": {},
   "outputs": [
    {
     "name": "stderr",
     "output_type": "stream",
     "text": [
      "No se encontr� Python; ejecuta sin argumentos para instalar desde Microsoft Store o deshabilita este acceso directo en Configuraci�n > Administrar alias de ejecuci�n de la aplicaci�n.\n"
     ]
    }
   ],
   "source": []
  },
  {
   "cell_type": "code",
   "execution_count": 32,
   "metadata": {},
   "outputs": [
    {
     "name": "stderr",
     "output_type": "stream",
     "text": [
      "No se encontr� Python; ejecuta sin argumentos para instalar desde Microsoft Store o deshabilita este acceso directo en Configuraci�n > Administrar alias de ejecuci�n de la aplicaci�n.\n"
     ]
    }
   ],
   "source": []
  },
  {
   "cell_type": "code",
   "execution_count": 31,
   "metadata": {
    "colab": {
     "base_uri": "https://localhost:8080/",
     "height": 1000
    },
    "colab_type": "code",
    "executionInfo": {
     "elapsed": 49340,
     "status": "ok",
     "timestamp": 1600932044097,
     "user": {
      "displayName": "Alberto Romero",
      "photoUrl": "",
      "userId": "13942113647740663414"
     },
     "user_tz": -120
    },
    "id": "rdXZbLgMy1Hu",
    "outputId": "eec8243f-5570-494b-c72b-3484ced876d6"
   },
   "outputs": [
    {
     "name": "stdout",
     "output_type": "stream",
     "text": [
      "\u001b[1m\n",
      "===================== Info about model 'en_core_web_sm' =====================\u001b[0m\n",
      "\n",
      "lang             en                            \n",
      "name             core_web_sm                   \n",
      "license          MIT                           \n",
      "author           Explosion                     \n",
      "url              https://explosion.ai          \n",
      "email            contact@explosion.ai          \n",
      "description      English multi-task CNN trained on OntoNotes. Assigns context-specific token vectors, POS tags, dependency parse and named entities.\n",
      "sources          [{'name': 'OntoNotes 5', 'url': 'https://catalog.ldc.upenn.edu/LDC2013T19', 'license': 'commercial (licensed by Explosion)'}]\n",
      "pipeline         ['tagger', 'parser', 'ner']   \n",
      "version          2.3.1                         \n",
      "spacy_version    >=2.3.0,<2.4.0                \n",
      "parent_package   spacy                         \n",
      "labels           {'tagger': ['$', \"''\", ',', '-LRB-', '-RRB-', '.', ':', 'ADD', 'AFX', 'CC', 'CD', 'DT', 'EX', 'FW', 'HYPH', 'IN', 'JJ', 'JJR', 'JJS', 'LS', 'MD', 'NFP', 'NN', 'NNP', 'NNPS', 'NNS', 'PDT', 'POS', 'PRP', 'PRP$', 'RB', 'RBR', 'RBS', 'RP', 'SYM', 'TO', 'UH', 'VB', 'VBD', 'VBG', 'VBN', 'VBP', 'VBZ', 'WDT', 'WP', 'WP$', 'WRB', 'XX', '_SP', '``'], 'parser': ['ROOT', 'acl', 'acomp', 'advcl', 'advmod', 'agent', 'amod', 'appos', 'attr', 'aux', 'auxpass', 'case', 'cc', 'ccomp', 'compound', 'conj', 'csubj', 'csubjpass', 'dative', 'dep', 'det', 'dobj', 'expl', 'intj', 'mark', 'meta', 'neg', 'nmod', 'npadvmod', 'nsubj', 'nsubjpass', 'nummod', 'oprd', 'parataxis', 'pcomp', 'pobj', 'poss', 'preconj', 'predet', 'prep', 'prt', 'punct', 'quantmod', 'relcl', 'xcomp'], 'ner': ['CARDINAL', 'DATE', 'EVENT', 'FAC', 'GPE', 'LANGUAGE', 'LAW', 'LOC', 'MONEY', 'NORP', 'ORDINAL', 'ORG', 'PERCENT', 'PERSON', 'PRODUCT', 'QUANTITY', 'TIME', 'WORK_OF_ART']}\n",
      "source           C:\\Users\\Admin\\AppData\\Local\\Programs\\Python\\Python37\\lib\\site-packages\\en_core_web_sm\n",
      "\n"
     ]
    },
    {
     "data": {
      "text/plain": [
       "{'lang': 'en',\n",
       " 'name': 'core_web_sm',\n",
       " 'license': 'MIT',\n",
       " 'author': 'Explosion',\n",
       " 'url': 'https://explosion.ai',\n",
       " 'email': 'contact@explosion.ai',\n",
       " 'description': 'English multi-task CNN trained on OntoNotes. Assigns context-specific token vectors, POS tags, dependency parse and named entities.',\n",
       " 'sources': [{'name': 'OntoNotes 5',\n",
       "   'url': 'https://catalog.ldc.upenn.edu/LDC2013T19',\n",
       "   'license': 'commercial (licensed by Explosion)'}],\n",
       " 'pipeline': ['tagger', 'parser', 'ner'],\n",
       " 'version': '2.3.1',\n",
       " 'spacy_version': '>=2.3.0,<2.4.0',\n",
       " 'parent_package': 'spacy',\n",
       " 'accuracy': {'las': 89.7572754092,\n",
       "  'uas': 91.6570115569,\n",
       "  'token_acc': 99.756964111,\n",
       "  'las_per_type': {'advmod': {'p': 85.6065101297,\n",
       "    'r': 84.9512113055,\n",
       "    'f': 85.2776018577},\n",
       "   'aux': {'p': 97.9464841319, 'r': 98.0772654442, 'f': 98.0118311613},\n",
       "   'nsubj': {'p': 95.530627567, 'r': 94.7522887555, 'f': 95.1398662913},\n",
       "   'root': {'p': 89.5162856958, 'r': 91.1692936754, 'f': 90.3352283866},\n",
       "   'compound': {'p': 90.4871122761, 'r': 92.2811316552, 'f': 91.3753170839},\n",
       "   'poss': {'p': 97.0346623923, 'r': 97.4838969404, 'f': 97.2587609198},\n",
       "   'case': {'p': 97.927972373, 'r': 99.3493493493, 'f': 98.6335403727},\n",
       "   'dobj': {'p': 92.4513496547, 'r': 93.8729981675, 'f': 93.1567503459},\n",
       "   'prep': {'p': 85.6642170718, 'r': 86.2427438631, 'f': 85.9525069954},\n",
       "   'pobj': {'p': 96.0694769711, 'r': 96.6428459243, 'f': 96.3553084873},\n",
       "   'relcl': {'p': 76.5768958186, 'r': 78.3538796229, 'f': 77.4551971326},\n",
       "   'det': {'p': 97.7105145232, 'r': 97.7901904024, 'f': 97.7503362269},\n",
       "   'amod': {'p': 91.5748754262, 'r': 90.4891480402, 'f': 91.0287743996},\n",
       "   'attr': {'p': 90.4294478528, 'r': 92.9772918419, 'f': 91.6856728177},\n",
       "   'cc': {'p': 83.8244137102, 'r': 83.3532647692, 'f': 83.5881753313},\n",
       "   'mark': {'p': 90.3421052632, 'r': 90.9644939057, 'f': 90.6522313177},\n",
       "   'nmod': {'p': 76.3772954925, 'r': 55.7586837294, 'f': 64.4593166608},\n",
       "   'conj': {'p': 76.8877867328, 'r': 78.0490874764, 'f': 77.4640849469},\n",
       "   'advcl': {'p': 68.9203354298, 'r': 66.2301687232, 'f': 67.548478233},\n",
       "   'pcomp': {'p': 85.2515506547, 'r': 86.6246498599, 'f': 85.9326154915},\n",
       "   'nummod': {'p': 93.1951089846, 'r': 88.5353535354, 'f': 90.8054908055},\n",
       "   'nsubjpass': {'p': 92.4265842349, 'r': 92.0, 'f': 92.2127987664},\n",
       "   'quantmod': {'p': 85.3463587922, 'r': 78.0666125102, 'f': 81.5443360204},\n",
       "   'auxpass': {'p': 94.7204968944, 'r': 97.2665148064, 'f': 95.9766239604},\n",
       "   'ccomp': {'p': 79.9260844194, 'r': 83.6863543788, 'f': 81.7630086559},\n",
       "   'npadvmod': {'p': 76.8636539204, 'r': 70.6927175844, 'f': 73.6491487787},\n",
       "   'appos': {'p': 70.0960219479, 'r': 66.5075921909, 'f': 68.2546749777},\n",
       "   'neg': {'p': 94.5082376435, 'r': 94.9824385349, 'f': 94.7447447447},\n",
       "   'xcomp': {'p': 88.2854100106, 'r': 89.2677674085, 'f': 88.7738711405},\n",
       "   'predet': {'p': 85.2459016393, 'r': 89.2703862661, 'f': 87.2117400419},\n",
       "   'acomp': {'p': 90.3553299492, 'r': 88.717716357, 'f': 89.529035208},\n",
       "   'acl': {'p': 75.6578947368, 'r': 69.012547736, 'f': 72.182596291},\n",
       "   'oprd': {'p': 81.0810810811, 'r': 71.6417910448, 'f': 76.0697305864},\n",
       "   'dative': {'p': 73.9659367397, 'r': 69.7247706422, 'f': 71.7827626919},\n",
       "   'agent': {'p': 88.5328836425, 'r': 94.0860215054, 'f': 91.2250217202},\n",
       "   'meta': {'p': 94.7368421053, 'r': 34.615384615400004, 'f': 50.7042253521},\n",
       "   'dep': {'p': 40.329218107, 'r': 15.9090909091, 'f': 22.8172293364},\n",
       "   'prt': {'p': 81.9166666667, 'r': 88.082437276, 'f': 84.8877374784},\n",
       "   'expl': {'p': 98.3014861996, 'r': 99.1434689507, 'f': 98.7206823028},\n",
       "   'parataxis': {'p': 63.9240506329, 'r': 43.8177874187, 'f': 51.9948519949},\n",
       "   'intj': {'p': 69.387755102, 'r': 59.7802197802, 'f': 64.2266824085},\n",
       "   'csubj': {'p': 70.5882352941, 'r': 71.0059171598, 'f': 70.796460177},\n",
       "   'preconj': {'p': 57.4468085106, 'r': 62.7906976744, 'f': 60.0},\n",
       "   'csubjpass': {'p': 44.4444444444, 'r': 66.6666666667, 'f': 53.3333333333}},\n",
       "  'tags_acc': 97.056555292,\n",
       "  'ents_f': 85.4306864065,\n",
       "  'ents_p': 85.7239322492,\n",
       "  'ents_r': 85.1394400045,\n",
       "  'ents_per_type': {'ORG': {'p': 83.3194096352,\n",
       "    'r': 82.8808864266,\n",
       "    'f': 83.0995695042},\n",
       "   'CARDINAL': {'p': 83.9554682384, 'r': 86.32996633, 'f': 85.1261620186},\n",
       "   'DATE': {'p': 84.6522781775, 'r': 86.1275705821, 'f': 85.3835521769},\n",
       "   'GPE': {'p': 92.5831202046, 'r': 90.2180685358, 'f': 91.3852950458},\n",
       "   'PERSON': {'p': 88.0239520958, 'r': 92.0908379013, 'f': 90.0114810563},\n",
       "   'MONEY': {'p': 92.9181929182, 'r': 91.4663461538, 'f': 92.1865536039},\n",
       "   'PRODUCT': {'p': 52.1276595745, 'r': 24.1379310345, 'f': 32.9966329966},\n",
       "   'TIME': {'p': 70.1886792453, 'r': 70.9923664122, 'f': 70.5882352941},\n",
       "   'PERCENT': {'p': 91.8566775244, 'r': 88.125, 'f': 89.95215311},\n",
       "   'WORK_OF_ART': {'p': 48.1481481481, 'r': 38.8059701493, 'f': 42.9752066116},\n",
       "   'QUANTITY': {'p': 78.1954887218, 'r': 65.4088050314, 'f': 71.2328767123},\n",
       "   'NORP': {'p': 88.682581786, 'r': 89.2348754448, 'f': 88.9578713969},\n",
       "   'LOC': {'p': 70.8154506438, 'r': 66.0, 'f': 68.3229813665},\n",
       "   'EVENT': {'p': 63.2911392405, 'r': 37.037037037, 'f': 46.7289719626},\n",
       "   'ORDINAL': {'p': 80.0, 'r': 83.9694656489, 'f': 81.9366852886},\n",
       "   'FAC': {'p': 34.8623853211, 'r': 46.9135802469, 'f': 40.0},\n",
       "   'LAW': {'p': 62.962962963, 'r': 56.6666666667, 'f': 59.649122807},\n",
       "   'LANGUAGE': {'p': 75.0, 'r': 65.2173913043, 'f': 69.7674418605}}},\n",
       " 'speed': {'cpu': 6107.3535050376, 'gpu': None, 'nwords': 291315},\n",
       " 'labels': {'tagger': ['$',\n",
       "   \"''\",\n",
       "   ',',\n",
       "   '-LRB-',\n",
       "   '-RRB-',\n",
       "   '.',\n",
       "   ':',\n",
       "   'ADD',\n",
       "   'AFX',\n",
       "   'CC',\n",
       "   'CD',\n",
       "   'DT',\n",
       "   'EX',\n",
       "   'FW',\n",
       "   'HYPH',\n",
       "   'IN',\n",
       "   'JJ',\n",
       "   'JJR',\n",
       "   'JJS',\n",
       "   'LS',\n",
       "   'MD',\n",
       "   'NFP',\n",
       "   'NN',\n",
       "   'NNP',\n",
       "   'NNPS',\n",
       "   'NNS',\n",
       "   'PDT',\n",
       "   'POS',\n",
       "   'PRP',\n",
       "   'PRP$',\n",
       "   'RB',\n",
       "   'RBR',\n",
       "   'RBS',\n",
       "   'RP',\n",
       "   'SYM',\n",
       "   'TO',\n",
       "   'UH',\n",
       "   'VB',\n",
       "   'VBD',\n",
       "   'VBG',\n",
       "   'VBN',\n",
       "   'VBP',\n",
       "   'VBZ',\n",
       "   'WDT',\n",
       "   'WP',\n",
       "   'WP$',\n",
       "   'WRB',\n",
       "   'XX',\n",
       "   '_SP',\n",
       "   '``'],\n",
       "  'parser': ['ROOT',\n",
       "   'acl',\n",
       "   'acomp',\n",
       "   'advcl',\n",
       "   'advmod',\n",
       "   'agent',\n",
       "   'amod',\n",
       "   'appos',\n",
       "   'attr',\n",
       "   'aux',\n",
       "   'auxpass',\n",
       "   'case',\n",
       "   'cc',\n",
       "   'ccomp',\n",
       "   'compound',\n",
       "   'conj',\n",
       "   'csubj',\n",
       "   'csubjpass',\n",
       "   'dative',\n",
       "   'dep',\n",
       "   'det',\n",
       "   'dobj',\n",
       "   'expl',\n",
       "   'intj',\n",
       "   'mark',\n",
       "   'meta',\n",
       "   'neg',\n",
       "   'nmod',\n",
       "   'npadvmod',\n",
       "   'nsubj',\n",
       "   'nsubjpass',\n",
       "   'nummod',\n",
       "   'oprd',\n",
       "   'parataxis',\n",
       "   'pcomp',\n",
       "   'pobj',\n",
       "   'poss',\n",
       "   'preconj',\n",
       "   'predet',\n",
       "   'prep',\n",
       "   'prt',\n",
       "   'punct',\n",
       "   'quantmod',\n",
       "   'relcl',\n",
       "   'xcomp'],\n",
       "  'ner': ['CARDINAL',\n",
       "   'DATE',\n",
       "   'EVENT',\n",
       "   'FAC',\n",
       "   'GPE',\n",
       "   'LANGUAGE',\n",
       "   'LAW',\n",
       "   'LOC',\n",
       "   'MONEY',\n",
       "   'NORP',\n",
       "   'ORDINAL',\n",
       "   'ORG',\n",
       "   'PERCENT',\n",
       "   'PERSON',\n",
       "   'PRODUCT',\n",
       "   'QUANTITY',\n",
       "   'TIME',\n",
       "   'WORK_OF_ART']},\n",
       " 'source': 'C:\\\\Users\\\\Admin\\\\AppData\\\\Local\\\\Programs\\\\Python\\\\Python37\\\\lib\\\\site-packages\\\\en_core_web_sm'}"
      ]
     },
     "execution_count": 31,
     "metadata": {},
     "output_type": "execute_result"
    }
   ],
   "source": [
    "# model meta data"
   ]
  },
  {
   "cell_type": "code",
   "execution_count": 33,
   "metadata": {
    "colab": {},
    "colab_type": "code",
    "executionInfo": {
     "elapsed": 49334,
     "status": "ok",
     "timestamp": 1600932044101,
     "user": {
      "displayName": "Alberto Romero",
      "photoUrl": "",
      "userId": "13942113647740663414"
     },
     "user_tz": -120
    },
    "id": "isLWm3b8y1Hw"
   },
   "outputs": [],
   "source": []
  },
  {
   "cell_type": "code",
   "execution_count": 32,
   "metadata": {
    "colab": {
     "base_uri": "https://localhost:8080/",
     "height": 35
    },
    "colab_type": "code",
    "executionInfo": {
     "elapsed": 49325,
     "status": "ok",
     "timestamp": 1600932044102,
     "user": {
      "displayName": "Alberto Romero",
      "photoUrl": "",
      "userId": "13942113647740663414"
     },
     "user_tz": -120
    },
    "id": "Crcw9hW2y1Hy",
    "outputId": "80f605e5-5c7a-4fa5-ec1a-fe7cecb0e062"
   },
   "outputs": [
    {
     "data": {
      "text/plain": [
       "pandas.core.series.Series"
      ]
     },
     "execution_count": 32,
     "metadata": {},
     "output_type": "execute_result"
    }
   ],
   "source": [
    "# Keeping it in a pandas dataframe\n"
   ]
  },
  {
   "cell_type": "code",
   "execution_count": 33,
   "metadata": {
    "colab": {
     "base_uri": "https://localhost:8080/",
     "height": 35
    },
    "colab_type": "code",
    "executionInfo": {
     "elapsed": 49693,
     "status": "ok",
     "timestamp": 1600932044483,
     "user": {
      "displayName": "Alberto Romero",
      "photoUrl": "",
      "userId": "13942113647740663414"
     },
     "user_tz": -120
    },
    "id": "ptcmeIO-y1Hz",
    "outputId": "ccd56103-25c4-4066-897c-81f4bdfaddee"
   },
   "outputs": [
    {
     "data": {
      "text/plain": [
       "spacy.tokens.doc.Doc"
      ]
     },
     "execution_count": 33,
     "metadata": {},
     "output_type": "execute_result"
    }
   ],
   "source": []
  },
  {
   "cell_type": "code",
   "execution_count": 34,
   "metadata": {
    "colab": {
     "base_uri": "https://localhost:8080/",
     "height": 55
    },
    "colab_type": "code",
    "executionInfo": {
     "elapsed": 49681,
     "status": "ok",
     "timestamp": 1600932044483,
     "user": {
      "displayName": "Alberto Romero",
      "photoUrl": "",
      "userId": "13942113647740663414"
     },
     "user_tz": -120
    },
    "id": "zBOS4XxBk362",
    "outputId": "819e7428-794f-4a51-ec54-cfa7826227d1"
   },
   "outputs": [
    {
     "data": {
      "text/plain": [
       "General Manager Scott Petello is a good egg!!! Not to go into detail, but let me assure you if you have any issues (albeit rare) speak with Scott and treat the guy with some respect as you state your case and I'd be surprised if you don't walk out totally satisfied as I just did. Like I always say..... \"Mistakes are inevitable, it's how we recover from them that is important\"!!!\n",
       "\n",
       "Thanks to Scott and his awesome staff. You've got a customer for life!! .......... :^)"
      ]
     },
     "execution_count": 34,
     "metadata": {},
     "output_type": "execute_result"
    }
   ],
   "source": []
  },
  {
   "cell_type": "code",
   "execution_count": 35,
   "metadata": {
    "colab": {
     "base_uri": "https://localhost:8080/",
     "height": 1000
    },
    "colab_type": "code",
    "executionInfo": {
     "elapsed": 49670,
     "status": "ok",
     "timestamp": 1600932044484,
     "user": {
      "displayName": "Alberto Romero",
      "photoUrl": "",
      "userId": "13942113647740663414"
     },
     "user_tz": -120
    },
    "id": "yBh2DQmny1H4",
    "outputId": "1cfd36cd-2b67-45be-d7e5-ed339147013d"
   },
   "outputs": [
    {
     "name": "stdout",
     "output_type": "stream",
     "text": [
      "General PROPN NNP\n",
      "Manager PROPN NNP\n",
      "Scott PROPN NNP\n",
      "Petello PROPN NNP\n",
      "is AUX VBZ\n",
      "a DET DT\n",
      "good ADJ JJ\n",
      "egg NOUN NN\n",
      "! PUNCT .\n",
      "! PUNCT .\n",
      "! PUNCT .\n",
      "Not PART RB\n",
      "to PART TO\n",
      "go VERB VB\n",
      "into ADP IN\n",
      "detail NOUN NN\n",
      ", PUNCT ,\n",
      "but CCONJ CC\n",
      "let VERB VB\n",
      "me PRON PRP\n",
      "assure VERB VB\n",
      "you PRON PRP\n",
      "if SCONJ IN\n",
      "you PRON PRP\n",
      "have AUX VBP\n",
      "any DET DT\n",
      "issues NOUN NNS\n",
      "( PUNCT -LRB-\n",
      "albeit SCONJ IN\n",
      "rare ADJ JJ\n",
      ") PUNCT -RRB-\n",
      "speak VERB VBP\n",
      "with ADP IN\n",
      "Scott PROPN NNP\n",
      "and CCONJ CC\n",
      "treat VERB VB\n",
      "the DET DT\n",
      "guy NOUN NN\n",
      "with ADP IN\n",
      "some DET DT\n",
      "respect NOUN NN\n",
      "as SCONJ IN\n",
      "you PRON PRP\n",
      "state VERB VBP\n",
      "your DET PRP$\n",
      "case NOUN NN\n",
      "and CCONJ CC\n",
      "I PRON PRP\n",
      "'d VERB MD\n",
      "be AUX VB\n",
      "surprised ADJ JJ\n",
      "if SCONJ IN\n",
      "you PRON PRP\n",
      "do AUX VBP\n",
      "n't PART RB\n",
      "walk VERB VB\n",
      "out ADP RP\n",
      "totally ADV RB\n",
      "satisfied ADJ JJ\n",
      "as SCONJ IN\n",
      "I PRON PRP\n",
      "just ADV RB\n",
      "did AUX VBD\n",
      ". PUNCT .\n",
      "Like INTJ UH\n",
      "I PRON PRP\n",
      "always ADV RB\n",
      "say VERB VBP\n",
      "..... PUNCT NFP\n",
      "\" PUNCT ``\n",
      "Mistakes NOUN NNS\n",
      "are AUX VBP\n",
      "inevitable ADJ JJ\n",
      ", PUNCT ,\n",
      "it PRON PRP\n",
      "'s AUX VBZ\n",
      "how ADV WRB\n",
      "we PRON PRP\n",
      "recover VERB VBP\n",
      "from ADP IN\n",
      "them PRON PRP\n",
      "that DET WDT\n",
      "is AUX VBZ\n",
      "important ADJ JJ\n",
      "\" PUNCT ''\n",
      "! PUNCT .\n",
      "! PUNCT .\n",
      "! PUNCT .\n",
      "\n",
      "\n",
      " SPACE _SP\n",
      "Thanks NOUN NNS\n",
      "to ADP IN\n",
      "Scott PROPN NNP\n",
      "and CCONJ CC\n",
      "his DET PRP$\n",
      "awesome ADJ JJ\n",
      "staff NOUN NN\n",
      ". PUNCT .\n",
      "You PRON PRP\n",
      "'ve AUX VB\n",
      "got VERB VBN\n",
      "a DET DT\n",
      "customer NOUN NN\n",
      "for ADP IN\n",
      "life NOUN NN\n",
      "! PUNCT .\n",
      "! PUNCT .\n",
      ".......... PUNCT NFP\n",
      ": PUNCT :\n",
      "^ PROPN NNP\n",
      ") PUNCT -RRB-\n"
     ]
    }
   ],
   "source": [
    "# spacy gives you both fine grained (.pos_) + coarse grained (.tag_) parts of speech    \n"
   ]
  },
  {
   "cell_type": "code",
   "execution_count": 36,
   "metadata": {
    "colab": {
     "base_uri": "https://localhost:8080/",
     "height": 35
    },
    "colab_type": "code",
    "executionInfo": {
     "elapsed": 49657,
     "status": "ok",
     "timestamp": 1600932044484,
     "user": {
      "displayName": "Alberto Romero",
      "photoUrl": "",
      "userId": "13942113647740663414"
     },
     "user_tz": -120
    },
    "id": "FaC3G5Hck37F",
    "outputId": "ec23e333-eda5-489d-b807-bbd5950962cb"
   },
   "outputs": [
    {
     "data": {
      "text/plain": [
       "'interjection'"
      ]
     },
     "execution_count": 36,
     "metadata": {},
     "output_type": "execute_result"
    }
   ],
   "source": []
  },
  {
   "cell_type": "code",
   "execution_count": 37,
   "metadata": {
    "colab": {
     "base_uri": "https://localhost:8080/",
     "height": 55
    },
    "colab_type": "code",
    "executionInfo": {
     "elapsed": 49645,
     "status": "ok",
     "timestamp": 1600932044485,
     "user": {
      "displayName": "Alberto Romero",
      "photoUrl": "",
      "userId": "13942113647740663414"
     },
     "user_tz": -120
    },
    "id": "Hqvy2dtby1H5",
    "outputId": "acb58a04-6810-4298-90d2-92b1e3e715eb"
   },
   "outputs": [
    {
     "name": "stdout",
     "output_type": "stream",
     "text": [
      "[General Manager Scott Petello, a good egg, detail, me, you, you, any issues, Scott, the guy, some respect, you, your case, I, you, I, I, Mistakes, it, we, them, Thanks, Scott, his awesome staff, You, a customer, life, :^]\n"
     ]
    }
   ],
   "source": [
    "# spaCy also does noun chunking for us\n",
    "\n"
   ]
  },
  {
   "cell_type": "markdown",
   "metadata": {
    "colab_type": "text",
    "id": "UpFwoavpy1H7"
   },
   "source": [
    "### Using [Textblob](https://textblob.readthedocs.io/en/dev/)"
   ]
  },
  {
   "cell_type": "code",
   "execution_count": 38,
   "metadata": {
    "colab": {},
    "colab_type": "code",
    "executionInfo": {
     "elapsed": 49636,
     "status": "ok",
     "timestamp": 1600932044485,
     "user": {
      "displayName": "Alberto Romero",
      "photoUrl": "",
      "userId": "13942113647740663414"
     },
     "user_tz": -120
    },
    "id": "vZk8yu9Mk37P"
   },
   "outputs": [
    {
     "name": "stdout",
     "output_type": "stream",
     "text": [
      "Collecting textblob\n",
      "  Downloading textblob-0.17.1-py2.py3-none-any.whl (636 kB)\n",
      "     -------------------------------------- 636.8/636.8 KB 1.0 MB/s eta 0:00:00\n",
      "Requirement already satisfied: nltk>=3.1 in c:\\users\\admin\\appdata\\local\\programs\\python\\python37\\lib\\site-packages (from textblob) (3.7)\n",
      "Requirement already satisfied: regex>=2021.8.3 in c:\\users\\admin\\appdata\\local\\programs\\python\\python37\\lib\\site-packages (from nltk>=3.1->textblob) (2022.1.18)\n",
      "Requirement already satisfied: click in c:\\users\\admin\\appdata\\local\\programs\\python\\python37\\lib\\site-packages (from nltk>=3.1->textblob) (7.1.2)\n",
      "Requirement already satisfied: tqdm in c:\\users\\admin\\appdata\\local\\programs\\python\\python37\\lib\\site-packages (from nltk>=3.1->textblob) (4.62.3)\n",
      "Requirement already satisfied: joblib in c:\\users\\admin\\appdata\\local\\programs\\python\\python37\\lib\\site-packages (from nltk>=3.1->textblob) (1.1.0)\n",
      "Requirement already satisfied: colorama in c:\\users\\admin\\appdata\\roaming\\python\\python37\\site-packages (from tqdm->nltk>=3.1->textblob) (0.4.4)\n",
      "Installing collected packages: textblob\n",
      "Successfully installed textblob-0.17.1\n"
     ]
    }
   ],
   "source": []
  },
  {
   "cell_type": "code",
   "execution_count": 39,
   "metadata": {
    "colab": {},
    "colab_type": "code",
    "executionInfo": {
     "elapsed": 49630,
     "status": "ok",
     "timestamp": 1600932044485,
     "user": {
      "displayName": "Alberto Romero",
      "photoUrl": "",
      "userId": "13942113647740663414"
     },
     "user_tz": -120
    },
    "id": "RTCz0Q_Ty1H7"
   },
   "outputs": [],
   "source": []
  },
  {
   "cell_type": "markdown",
   "metadata": {
    "colab_type": "text",
    "id": "EpIJX8L-y1H8"
   },
   "source": [
    "The default tagger in TextBlob uses the PatternTagger, the same as [pattern](https://www.clips.uantwerpen.be/pattern), which is fine for our example. To use the NLTK tagger, we can specify the pos_tagger when we call TextBlob. More [here](http://textblob.readthedocs.io/en/dev/advanced_usage.html#advanced)."
   ]
  },
  {
   "cell_type": "code",
   "execution_count": 40,
   "metadata": {
    "colab": {
     "base_uri": "https://localhost:8080/",
     "height": 35
    },
    "colab_type": "code",
    "executionInfo": {
     "elapsed": 49622,
     "status": "ok",
     "timestamp": 1600932044486,
     "user": {
      "displayName": "Alberto Romero",
      "photoUrl": "",
      "userId": "13942113647740663414"
     },
     "user_tz": -120
    },
    "id": "ph5GAFaIy1H9",
    "outputId": "26d339d0-f3a1-4110-ad19-d5d66097ce4f"
   },
   "outputs": [
    {
     "data": {
      "text/plain": [
       "pandas.core.series.Series"
      ]
     },
     "execution_count": 40,
     "metadata": {},
     "output_type": "execute_result"
    }
   ],
   "source": []
  },
  {
   "cell_type": "code",
   "execution_count": 41,
   "metadata": {
    "colab": {
     "base_uri": "https://localhost:8080/",
     "height": 35
    },
    "colab_type": "code",
    "executionInfo": {
     "elapsed": 49609,
     "status": "ok",
     "timestamp": 1600932044486,
     "user": {
      "displayName": "Alberto Romero",
      "photoUrl": "",
      "userId": "13942113647740663414"
     },
     "user_tz": -120
    },
    "id": "bNTIxc1_y1H-",
    "outputId": "e56603d3-8989-4f40-dc27-e6a7477206e5"
   },
   "outputs": [
    {
     "data": {
      "text/plain": [
       "textblob.blob.TextBlob"
      ]
     },
     "execution_count": 41,
     "metadata": {},
     "output_type": "execute_result"
    }
   ],
   "source": []
  },
  {
   "cell_type": "code",
   "execution_count": 42,
   "metadata": {
    "colab": {
     "base_uri": "https://localhost:8080/",
     "height": 121
    },
    "colab_type": "code",
    "executionInfo": {
     "elapsed": 50210,
     "status": "ok",
     "timestamp": 1600932045099,
     "user": {
      "displayName": "Alberto Romero",
      "photoUrl": "",
      "userId": "13942113647740663414"
     },
     "user_tz": -120
    },
    "id": "I7RvQOyrBsz3",
    "outputId": "e9893181-c68d-4acb-fd22-a6ad9d9cc385"
   },
   "outputs": [
    {
     "name": "stderr",
     "output_type": "stream",
     "text": [
      "[nltk_data] Downloading package punkt to\n",
      "[nltk_data]     C:\\Users\\Admin\\AppData\\Roaming\\nltk_data...\n",
      "[nltk_data]   Unzipping tokenizers\\punkt.zip.\n",
      "[nltk_data] Downloading package averaged_perceptron_tagger to\n",
      "[nltk_data]     C:\\Users\\Admin\\AppData\\Roaming\\nltk_data...\n",
      "[nltk_data]   Unzipping taggers\\averaged_perceptron_tagger.zip.\n"
     ]
    },
    {
     "data": {
      "text/plain": [
       "True"
      ]
     },
     "execution_count": 42,
     "metadata": {},
     "output_type": "execute_result"
    }
   ],
   "source": []
  },
  {
   "cell_type": "code",
   "execution_count": 43,
   "metadata": {
    "colab": {
     "base_uri": "https://localhost:8080/",
     "height": 1000
    },
    "colab_type": "code",
    "executionInfo": {
     "elapsed": 50606,
     "status": "ok",
     "timestamp": 1600932045508,
     "user": {
      "displayName": "Alberto Romero",
      "photoUrl": "",
      "userId": "13942113647740663414"
     },
     "user_tz": -120
    },
    "id": "i2vgNTXHy1IA",
    "outputId": "ed653587-1a0d-4211-fa6a-d17abb0f0d42"
   },
   "outputs": [
    {
     "data": {
      "text/plain": [
       "[('General', 'NNP'),\n",
       " ('Manager', 'NNP'),\n",
       " ('Scott', 'NNP'),\n",
       " ('Petello', 'NNP'),\n",
       " ('is', 'VBZ'),\n",
       " ('a', 'DT'),\n",
       " ('good', 'JJ'),\n",
       " ('egg', 'NN'),\n",
       " ('Not', 'RB'),\n",
       " ('to', 'TO'),\n",
       " ('go', 'VB'),\n",
       " ('into', 'IN'),\n",
       " ('detail', 'NN'),\n",
       " ('but', 'CC'),\n",
       " ('let', 'VB'),\n",
       " ('me', 'PRP'),\n",
       " ('assure', 'VB'),\n",
       " ('you', 'PRP'),\n",
       " ('if', 'IN'),\n",
       " ('you', 'PRP'),\n",
       " ('have', 'VBP'),\n",
       " ('any', 'DT'),\n",
       " ('issues', 'NNS'),\n",
       " ('albeit', 'IN'),\n",
       " ('rare', 'NN'),\n",
       " ('speak', 'NN'),\n",
       " ('with', 'IN'),\n",
       " ('Scott', 'NNP'),\n",
       " ('and', 'CC'),\n",
       " ('treat', 'VB'),\n",
       " ('the', 'DT'),\n",
       " ('guy', 'NN'),\n",
       " ('with', 'IN'),\n",
       " ('some', 'DT'),\n",
       " ('respect', 'NN'),\n",
       " ('as', 'IN'),\n",
       " ('you', 'PRP'),\n",
       " ('state', 'NN'),\n",
       " ('your', 'PRP$'),\n",
       " ('case', 'NN'),\n",
       " ('and', 'CC'),\n",
       " ('I', 'PRP'),\n",
       " (\"'d\", 'MD'),\n",
       " ('be', 'VB'),\n",
       " ('surprised', 'VBN'),\n",
       " ('if', 'IN'),\n",
       " ('you', 'PRP'),\n",
       " ('do', 'VBP'),\n",
       " (\"n't\", 'RB'),\n",
       " ('walk', 'VB'),\n",
       " ('out', 'RP'),\n",
       " ('totally', 'RB'),\n",
       " ('satisfied', 'JJ'),\n",
       " ('as', 'IN'),\n",
       " ('I', 'PRP'),\n",
       " ('just', 'RB'),\n",
       " ('did', 'VBD'),\n",
       " ('Like', 'IN'),\n",
       " ('I', 'PRP'),\n",
       " ('always', 'RB'),\n",
       " ('say', 'VBP'),\n",
       " ('.....', 'JJ'),\n",
       " ('Mistakes', 'NNS'),\n",
       " ('are', 'VBP'),\n",
       " ('inevitable', 'JJ'),\n",
       " ('it', 'PRP'),\n",
       " (\"'s\", 'VBZ'),\n",
       " ('how', 'WRB'),\n",
       " ('we', 'PRP'),\n",
       " ('recover', 'VBP'),\n",
       " ('from', 'IN'),\n",
       " ('them', 'PRP'),\n",
       " ('that', 'WDT'),\n",
       " ('is', 'VBZ'),\n",
       " ('important', 'JJ'),\n",
       " ('Thanks', 'NNS'),\n",
       " ('to', 'TO'),\n",
       " ('Scott', 'NNP'),\n",
       " ('and', 'CC'),\n",
       " ('his', 'PRP$'),\n",
       " ('awesome', 'JJ'),\n",
       " ('staff', 'NN'),\n",
       " ('You', 'PRP'),\n",
       " (\"'ve\", 'VBP'),\n",
       " ('got', 'VBN'),\n",
       " ('a', 'DT'),\n",
       " ('customer', 'NN'),\n",
       " ('for', 'IN'),\n",
       " ('life', 'NN'),\n",
       " ('..........', 'NN'),\n",
       " ('^', 'NN')]"
      ]
     },
     "execution_count": 43,
     "metadata": {},
     "output_type": "execute_result"
    }
   ],
   "source": []
  },
  {
   "cell_type": "markdown",
   "metadata": {
    "colab_type": "text",
    "id": "0d0U14jiy1IC"
   },
   "source": [
    "# The Effects of Feature Scaling: From Bag-of-Words to Tf-Idf\n",
    "\n",
    "A bag-of-words representation is simple to generate but far from perfect. If we count all words equally, then some words end up being emphasized more than we need. Recall our example of Emma and the raven from Chapter 3. We’d like a document representation that emphasizes the two main characters. The words “Emma” and “raven” both appear three times, but “the” appears a whopping eight times, “and” appears five times, and “it” and “was” both appear four times. The main characters do not stand out by simple frequency count alone. This is problematic.\n",
    "\n",
    "It would also be nice to pick out words such as “magnificently,” “gleamed,” “intimidated,” “tentatively,” and “reigned,” because they help to set the overall tone of the paragraph. They indicate sentiment, which can be very valuable information to a data scientist. So, ideally, we’d like a representation that highlights meaningful words.\n",
    "Tf-Idf : A Simple Twist on Bag-of-Words\n",
    "\n",
    "Tf-Idf: Term frequency Inverse document frequency\n",
    "\n",
    "Tf-idf is a simple twist on the bag-of-words approach. It stands for term frequency–inverse document frequency.  Instead of looking at the raw counts of each word in each document in a dataset, tf-idf looks at a normalized count where each word count is divided by the number of documents this word appears in. That is:\n",
    "\n",
    "bow(w, d) = # times word w appears in document d\n",
    "\n",
    "tf-idf(w, d) = bow(w, d) * N / (# documents in which word w appears)\n",
    "\n",
    "N is the total number of documents in the dataset. The fraction N / (# documents ...) is what’s known as the inverse document frequency. If a word appears in many documents, then its inverse document frequency is close to 1. If a word appears in just a few documents, then the inverse document frequency is much higher.\n",
    "\n",
    "Alternatively, we can take a log transform instead using the raw inverse document frequency. Logarithm turns 1 into 0, and makes large numbers (those much greater than 1) smaller. (More on this later.)\n",
    "\n",
    "If we define tf-idf as:\n",
    "\n",
    "tf-idf(w, d) = bow(w, d) * log (N / # documents in which word w appears)\n",
    "\n",
    "then a word that appears in every single document will be effectively zeroed out, and a word that appears in very few documents will have an even larger count than before.\n",
    "\n",
    "Let’s look at some pictures to understand what it’s all about. Figure 4-1 shows a simple example that contains four sentences: “it is a puppy,” “it is a cat,” “it is a kitten,” and “that is a dog and this is a pen.” We plot these sentences in the feature space of three words: “puppy,” “cat,” and “is.”\n",
    "\n",
    "![texto alternativo](https://drive.google.com/uc?id=1TRAWrbJu7VHEteoJDD523yKZ7fo_W1AY)"
   ]
  },
  {
   "cell_type": "markdown",
   "metadata": {
    "colab_type": "text",
    "id": "30-014awy1IC"
   },
   "source": [
    "Now let’s look at the same four sentences in tf-idf representation using the log transform for the inverse document frequency. Figure 4-2 shows the documents in feature space. Notice that the word “is” is effectively eliminated as a feature since it appears in all sentences in this dataset. Also, because they each appear in only one sentence out of the total four, the words “puppy” and “cat” are now counted higher than before (log(4) = 1.38... > 1). Thus, tf-idf makes rare words more prominent and effectively ignores common words. It is closely related to the frequency-based filtering methods in Chapter 3, but much more mathematically elegant than placing hard cutoff thresholds."
   ]
  },
  {
   "cell_type": "markdown",
   "metadata": {
    "colab_type": "text",
    "id": "8TdYrbPGy1IC"
   },
   "source": [
    "The GridSearchCV function in scikit-learn runs a grid search with cross validation (see Example 4-5). Figure 4-4 shows a box-and-whiskers plot of the distribution of accuracy measurements for models trained on each of the feature sets. The middle line in the box marks the median accuracy, the box itself marks the region between the first and third quartiles, and the whiskers extend to the rest of the distribution.\n",
    "\n",
    "![texto alternativo](https://drive.google.com/uc?id=1lV4DHIu6tGpt2gXKPQJbdaw8bIj7767L)"
   ]
  }
 ],
 "metadata": {
  "colab": {
   "collapsed_sections": [],
   "name": "COLAB_PROFE_TextData.ipynb",
   "provenance": []
  },
  "kernelspec": {
   "display_name": "Python 3",
   "language": "python",
   "name": "python3"
  },
  "language_info": {
   "codemirror_mode": {
    "name": "ipython",
    "version": 3
   },
   "file_extension": ".py",
   "mimetype": "text/x-python",
   "name": "python",
   "nbconvert_exporter": "python",
   "pygments_lexer": "ipython3",
   "version": "3.7.4"
  }
 },
 "nbformat": 4,
 "nbformat_minor": 4
}
