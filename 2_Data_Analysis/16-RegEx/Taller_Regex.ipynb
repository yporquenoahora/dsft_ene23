{
 "cells": [
  {
   "cell_type": "markdown",
   "metadata": {},
   "source": [
    "# REGEX\n",
    "## (Regular Expressions)\n",
    "![](img/regex_cover.png)\n",
    "\n",
    "Los datos no siempre están organizados, formateados ni estructurados de forma homogénea.\n",
    "\n",
    "Una parte importante del trabajo de un _Data Scientist_ consiste en limpiar los datos **(Data Cleaning)**\n",
    "\n",
    "Para ello, existen técnicas como **Regex**\n",
    "\n",
    "Las expresiones regulares están conformadas por secuencias de caracteres que nos permiten encontrar patrones de búsqueda.\n",
    "\n",
    "# [¡VAMOS A ELLO!](https://regex101.com/)"
   ]
  },
  {
   "cell_type": "code",
   "execution_count": 6,
   "metadata": {},
   "outputs": [],
   "source": [
    "import re\n",
    "\n",
    "text_to_search = '''\n",
    "abcdefghijklmnopqurtuvwxyz\n",
    "ABCDEFGHIJKLMNOPQRSTUVWXYZ\n",
    "1234567890\n",
    "Ha HaHa ?Ha\n",
    "MetaCharacters (Need to be escaped):\n",
    ". ^ $ * + ? { } [ ] \\ | ( )\n",
    "alberto*com\n",
    "alberto.com\n",
    "albertoocom\n",
    "321-555-4321\n",
    "123.555.1234\n",
    "123*555*1234\n",
    "800-555-1234\n",
    "900-555-1234\n",
    "Mr. Scha2fer\n",
    "Mr Smith\n",
    "Ms Davis\n",
    "Mrs. Robinson\n",
    "Mr. T\n",
    "Mr. ()\n",
    "\n",
    "cat\n",
    "mat\n",
    "pat\n",
    "bat\n",
    "tat\n",
    "at\n",
    "'''\n"
   ]
  },
  {
   "cell_type": "markdown",
   "metadata": {},
   "source": [
    "## Utilizamos las raw_strings para obtener la literalidad del texto:\n",
    "\n",
    "### `print(r'\\tTabulador')`"
   ]
  },
  {
   "cell_type": "code",
   "execution_count": 11,
   "metadata": {},
   "outputs": [
    {
     "name": "stdout",
     "output_type": "stream",
     "text": [
      "Tabulador sin raw string: \tTabulador\n",
      "Tabulador con raw string: \\tTabulador\n"
     ]
    }
   ],
   "source": [
    "print(\"Tabulador sin raw string: \\tTabulador\")\n",
    "print(r\"Tabulador con raw string: \\tTabulador\")"
   ]
  },
  {
   "cell_type": "markdown",
   "metadata": {},
   "source": [
    "### Buscamos el patrón `abc` en el texto\n",
    "\n",
    "Para ello utilizamos:\n",
    "- `re.compile()`: para introducir el patrón que queremos buscar\n",
    "- La función `finditer()`: para buscar el patrón en nuestro texto\n",
    "- Iteramos sobre la búsqueda"
   ]
  },
  {
   "cell_type": "code",
   "execution_count": 12,
   "metadata": {},
   "outputs": [
    {
     "data": {
      "text/plain": [
       "'H'"
      ]
     },
     "execution_count": 12,
     "metadata": {},
     "output_type": "execute_result"
    }
   ],
   "source": [
    "mi_string = \"Hola mundo\"\n",
    "mi_string[0]"
   ]
  },
  {
   "cell_type": "code",
   "execution_count": 13,
   "metadata": {},
   "outputs": [
    {
     "name": "stdout",
     "output_type": "stream",
     "text": [
      "<re.Match object; span=(1, 4), match='abc'>\n"
     ]
    }
   ],
   "source": [
    "pattern = re.compile(r'abc')\n",
    "matches = pattern.finditer(text_to_search)\n",
    "\n",
    "for match in matches:\n",
    "    print(match)\n",
    "\n",
    "# el span es el índice de inicio y final de la coincidencia.\n",
    "# gracias al span, podemos utilizar las técnicas de string slicing\n",
    "# en python para localizarlo\n",
    "\n",
    "# print(text_to_search[1:4])"
   ]
  },
  {
   "cell_type": "code",
   "execution_count": 14,
   "metadata": {},
   "outputs": [
    {
     "name": "stdout",
     "output_type": "stream",
     "text": [
      "abc\n"
     ]
    }
   ],
   "source": [
    "print(text_to_search[1:4])"
   ]
  },
  {
   "cell_type": "markdown",
   "metadata": {},
   "source": [
    "### Hay que tener en cuenta que cuando específicamos el pattern, se busca la literalidad de ese patrón.\n",
    "Por ejemplo, si queremos buscar las letras en distinto orden..."
   ]
  },
  {
   "cell_type": "code",
   "execution_count": 15,
   "metadata": {},
   "outputs": [],
   "source": [
    "new_pattern = re.compile(r'cba')\n",
    "new_matches = new_pattern.finditer(text_to_search)\n",
    "\n",
    "for match in new_matches:\n",
    "    print(match) # no se muestra nada por pantalla \n",
    "\n",
    "for match in new_matches:\n",
    "    print(match)"
   ]
  },
  {
   "cell_type": "markdown",
   "metadata": {},
   "source": [
    "## Metacaracteres\n",
    "Son aquellos caracteres que no son alfanuméricos:\n",
    "- Signos de puntuación, exclamación y admiración\n",
    "\n",
    "Si queremos obtenerlos, tenemos que \"escaparlos\""
   ]
  },
  {
   "cell_type": "code",
   "execution_count": 51,
   "metadata": {},
   "outputs": [
    {
     "name": "stdout",
     "output_type": "stream",
     "text": [
      "<re.Match object; span=(1, 2), match='a'>\n",
      "<re.Match object; span=(2, 3), match='b'>\n",
      "<re.Match object; span=(3, 4), match='c'>\n",
      "<re.Match object; span=(4, 5), match='d'>\n",
      "<re.Match object; span=(5, 6), match='e'>\n",
      "<re.Match object; span=(6, 7), match='f'>\n",
      "<re.Match object; span=(7, 8), match='g'>\n",
      "<re.Match object; span=(8, 9), match='h'>\n",
      "<re.Match object; span=(9, 10), match='i'>\n",
      "<re.Match object; span=(10, 11), match='j'>\n",
      "<re.Match object; span=(11, 12), match='k'>\n",
      "<re.Match object; span=(12, 13), match='l'>\n",
      "<re.Match object; span=(13, 14), match='m'>\n",
      "<re.Match object; span=(14, 15), match='n'>\n",
      "<re.Match object; span=(15, 16), match='o'>\n",
      "<re.Match object; span=(16, 17), match='p'>\n",
      "<re.Match object; span=(17, 18), match='q'>\n",
      "<re.Match object; span=(18, 19), match='u'>\n",
      "<re.Match object; span=(19, 20), match='r'>\n",
      "<re.Match object; span=(20, 21), match='t'>\n",
      "<re.Match object; span=(21, 22), match='u'>\n",
      "<re.Match object; span=(22, 23), match='v'>\n",
      "<re.Match object; span=(23, 24), match='w'>\n",
      "<re.Match object; span=(24, 25), match='x'>\n",
      "<re.Match object; span=(25, 26), match='y'>\n",
      "<re.Match object; span=(26, 27), match='z'>\n",
      "<re.Match object; span=(28, 29), match='A'>\n",
      "<re.Match object; span=(29, 30), match='B'>\n",
      "<re.Match object; span=(30, 31), match='C'>\n",
      "<re.Match object; span=(31, 32), match='D'>\n",
      "<re.Match object; span=(32, 33), match='E'>\n",
      "<re.Match object; span=(33, 34), match='F'>\n",
      "<re.Match object; span=(34, 35), match='G'>\n",
      "<re.Match object; span=(35, 36), match='H'>\n",
      "<re.Match object; span=(36, 37), match='I'>\n",
      "<re.Match object; span=(37, 38), match='J'>\n",
      "<re.Match object; span=(38, 39), match='K'>\n",
      "<re.Match object; span=(39, 40), match='L'>\n",
      "<re.Match object; span=(40, 41), match='M'>\n",
      "<re.Match object; span=(41, 42), match='N'>\n",
      "<re.Match object; span=(42, 43), match='O'>\n",
      "<re.Match object; span=(43, 44), match='P'>\n",
      "<re.Match object; span=(44, 45), match='Q'>\n",
      "<re.Match object; span=(45, 46), match='R'>\n",
      "<re.Match object; span=(46, 47), match='S'>\n",
      "<re.Match object; span=(47, 48), match='T'>\n",
      "<re.Match object; span=(48, 49), match='U'>\n",
      "<re.Match object; span=(49, 50), match='V'>\n",
      "<re.Match object; span=(50, 51), match='W'>\n",
      "<re.Match object; span=(51, 52), match='X'>\n",
      "<re.Match object; span=(52, 53), match='Y'>\n",
      "<re.Match object; span=(53, 54), match='Z'>\n",
      "<re.Match object; span=(55, 56), match='1'>\n",
      "<re.Match object; span=(56, 57), match='2'>\n",
      "<re.Match object; span=(57, 58), match='3'>\n",
      "<re.Match object; span=(58, 59), match='4'>\n",
      "<re.Match object; span=(59, 60), match='5'>\n",
      "<re.Match object; span=(60, 61), match='6'>\n",
      "<re.Match object; span=(61, 62), match='7'>\n",
      "<re.Match object; span=(62, 63), match='8'>\n",
      "<re.Match object; span=(63, 64), match='9'>\n",
      "<re.Match object; span=(64, 65), match='0'>\n",
      "<re.Match object; span=(66, 67), match='H'>\n",
      "<re.Match object; span=(67, 68), match='a'>\n",
      "<re.Match object; span=(68, 69), match=' '>\n",
      "<re.Match object; span=(69, 70), match='H'>\n",
      "<re.Match object; span=(70, 71), match='a'>\n",
      "<re.Match object; span=(71, 72), match='H'>\n",
      "<re.Match object; span=(72, 73), match='a'>\n",
      "<re.Match object; span=(73, 74), match=' '>\n",
      "<re.Match object; span=(74, 75), match='?'>\n",
      "<re.Match object; span=(75, 76), match='H'>\n",
      "<re.Match object; span=(76, 77), match='a'>\n",
      "<re.Match object; span=(78, 79), match='M'>\n",
      "<re.Match object; span=(79, 80), match='e'>\n",
      "<re.Match object; span=(80, 81), match='t'>\n",
      "<re.Match object; span=(81, 82), match='a'>\n",
      "<re.Match object; span=(82, 83), match='C'>\n",
      "<re.Match object; span=(83, 84), match='h'>\n",
      "<re.Match object; span=(84, 85), match='a'>\n",
      "<re.Match object; span=(85, 86), match='r'>\n",
      "<re.Match object; span=(86, 87), match='a'>\n",
      "<re.Match object; span=(87, 88), match='c'>\n",
      "<re.Match object; span=(88, 89), match='t'>\n",
      "<re.Match object; span=(89, 90), match='e'>\n",
      "<re.Match object; span=(90, 91), match='r'>\n",
      "<re.Match object; span=(91, 92), match='s'>\n",
      "<re.Match object; span=(92, 93), match=' '>\n",
      "<re.Match object; span=(93, 94), match='('>\n",
      "<re.Match object; span=(94, 95), match='N'>\n",
      "<re.Match object; span=(95, 96), match='e'>\n",
      "<re.Match object; span=(96, 97), match='e'>\n",
      "<re.Match object; span=(97, 98), match='d'>\n",
      "<re.Match object; span=(98, 99), match=' '>\n",
      "<re.Match object; span=(99, 100), match='t'>\n",
      "<re.Match object; span=(100, 101), match='o'>\n",
      "<re.Match object; span=(101, 102), match=' '>\n",
      "<re.Match object; span=(102, 103), match='b'>\n",
      "<re.Match object; span=(103, 104), match='e'>\n",
      "<re.Match object; span=(104, 105), match=' '>\n",
      "<re.Match object; span=(105, 106), match='e'>\n",
      "<re.Match object; span=(106, 107), match='s'>\n",
      "<re.Match object; span=(107, 108), match='c'>\n",
      "<re.Match object; span=(108, 109), match='a'>\n",
      "<re.Match object; span=(109, 110), match='p'>\n",
      "<re.Match object; span=(110, 111), match='e'>\n",
      "<re.Match object; span=(111, 112), match='d'>\n",
      "<re.Match object; span=(112, 113), match=')'>\n",
      "<re.Match object; span=(113, 114), match=':'>\n",
      "<re.Match object; span=(115, 116), match='.'>\n",
      "<re.Match object; span=(116, 117), match=' '>\n",
      "<re.Match object; span=(117, 118), match='^'>\n",
      "<re.Match object; span=(118, 119), match=' '>\n",
      "<re.Match object; span=(119, 120), match='$'>\n",
      "<re.Match object; span=(120, 121), match=' '>\n",
      "<re.Match object; span=(121, 122), match='*'>\n",
      "<re.Match object; span=(122, 123), match=' '>\n",
      "<re.Match object; span=(123, 124), match='+'>\n",
      "<re.Match object; span=(124, 125), match=' '>\n",
      "<re.Match object; span=(125, 126), match='?'>\n",
      "<re.Match object; span=(126, 127), match=' '>\n",
      "<re.Match object; span=(127, 128), match='{'>\n",
      "<re.Match object; span=(128, 129), match=' '>\n",
      "<re.Match object; span=(129, 130), match='}'>\n",
      "<re.Match object; span=(130, 131), match=' '>\n",
      "<re.Match object; span=(131, 132), match='['>\n",
      "<re.Match object; span=(132, 133), match=' '>\n",
      "<re.Match object; span=(133, 134), match=']'>\n",
      "<re.Match object; span=(134, 135), match=' '>\n",
      "<re.Match object; span=(135, 136), match='\\\\'>\n",
      "<re.Match object; span=(136, 137), match=' '>\n",
      "<re.Match object; span=(137, 138), match='|'>\n",
      "<re.Match object; span=(138, 139), match=' '>\n",
      "<re.Match object; span=(139, 140), match='('>\n",
      "<re.Match object; span=(140, 141), match=' '>\n",
      "<re.Match object; span=(141, 142), match=')'>\n",
      "<re.Match object; span=(143, 144), match='a'>\n",
      "<re.Match object; span=(144, 145), match='l'>\n",
      "<re.Match object; span=(145, 146), match='b'>\n",
      "<re.Match object; span=(146, 147), match='e'>\n",
      "<re.Match object; span=(147, 148), match='r'>\n",
      "<re.Match object; span=(148, 149), match='t'>\n",
      "<re.Match object; span=(149, 150), match='o'>\n",
      "<re.Match object; span=(150, 151), match='*'>\n",
      "<re.Match object; span=(151, 152), match='c'>\n",
      "<re.Match object; span=(152, 153), match='o'>\n",
      "<re.Match object; span=(153, 154), match='m'>\n",
      "<re.Match object; span=(155, 156), match='a'>\n",
      "<re.Match object; span=(156, 157), match='l'>\n",
      "<re.Match object; span=(157, 158), match='b'>\n",
      "<re.Match object; span=(158, 159), match='e'>\n",
      "<re.Match object; span=(159, 160), match='r'>\n",
      "<re.Match object; span=(160, 161), match='t'>\n",
      "<re.Match object; span=(161, 162), match='o'>\n",
      "<re.Match object; span=(162, 163), match='.'>\n",
      "<re.Match object; span=(163, 164), match='c'>\n",
      "<re.Match object; span=(164, 165), match='o'>\n",
      "<re.Match object; span=(165, 166), match='m'>\n",
      "<re.Match object; span=(167, 168), match='a'>\n",
      "<re.Match object; span=(168, 169), match='l'>\n",
      "<re.Match object; span=(169, 170), match='b'>\n",
      "<re.Match object; span=(170, 171), match='e'>\n",
      "<re.Match object; span=(171, 172), match='r'>\n",
      "<re.Match object; span=(172, 173), match='t'>\n",
      "<re.Match object; span=(173, 174), match='o'>\n",
      "<re.Match object; span=(174, 175), match='o'>\n",
      "<re.Match object; span=(175, 176), match='c'>\n",
      "<re.Match object; span=(176, 177), match='o'>\n",
      "<re.Match object; span=(177, 178), match='m'>\n",
      "<re.Match object; span=(179, 180), match='3'>\n",
      "<re.Match object; span=(180, 181), match='2'>\n",
      "<re.Match object; span=(181, 182), match='1'>\n",
      "<re.Match object; span=(182, 183), match='-'>\n",
      "<re.Match object; span=(183, 184), match='5'>\n",
      "<re.Match object; span=(184, 185), match='5'>\n",
      "<re.Match object; span=(185, 186), match='5'>\n",
      "<re.Match object; span=(186, 187), match='-'>\n",
      "<re.Match object; span=(187, 188), match='4'>\n",
      "<re.Match object; span=(188, 189), match='3'>\n",
      "<re.Match object; span=(189, 190), match='2'>\n",
      "<re.Match object; span=(190, 191), match='1'>\n",
      "<re.Match object; span=(192, 193), match='1'>\n",
      "<re.Match object; span=(193, 194), match='2'>\n",
      "<re.Match object; span=(194, 195), match='3'>\n",
      "<re.Match object; span=(195, 196), match='.'>\n",
      "<re.Match object; span=(196, 197), match='5'>\n",
      "<re.Match object; span=(197, 198), match='5'>\n",
      "<re.Match object; span=(198, 199), match='5'>\n",
      "<re.Match object; span=(199, 200), match='.'>\n",
      "<re.Match object; span=(200, 201), match='1'>\n",
      "<re.Match object; span=(201, 202), match='2'>\n",
      "<re.Match object; span=(202, 203), match='3'>\n",
      "<re.Match object; span=(203, 204), match='4'>\n",
      "<re.Match object; span=(205, 206), match='1'>\n",
      "<re.Match object; span=(206, 207), match='2'>\n",
      "<re.Match object; span=(207, 208), match='3'>\n",
      "<re.Match object; span=(208, 209), match='*'>\n",
      "<re.Match object; span=(209, 210), match='5'>\n",
      "<re.Match object; span=(210, 211), match='5'>\n",
      "<re.Match object; span=(211, 212), match='5'>\n",
      "<re.Match object; span=(212, 213), match='*'>\n",
      "<re.Match object; span=(213, 214), match='1'>\n",
      "<re.Match object; span=(214, 215), match='2'>\n",
      "<re.Match object; span=(215, 216), match='3'>\n",
      "<re.Match object; span=(216, 217), match='4'>\n",
      "<re.Match object; span=(218, 219), match='8'>\n",
      "<re.Match object; span=(219, 220), match='0'>\n",
      "<re.Match object; span=(220, 221), match='0'>\n",
      "<re.Match object; span=(221, 222), match='-'>\n",
      "<re.Match object; span=(222, 223), match='5'>\n",
      "<re.Match object; span=(223, 224), match='5'>\n",
      "<re.Match object; span=(224, 225), match='5'>\n",
      "<re.Match object; span=(225, 226), match='-'>\n",
      "<re.Match object; span=(226, 227), match='1'>\n",
      "<re.Match object; span=(227, 228), match='2'>\n",
      "<re.Match object; span=(228, 229), match='3'>\n",
      "<re.Match object; span=(229, 230), match='4'>\n",
      "<re.Match object; span=(231, 232), match='9'>\n",
      "<re.Match object; span=(232, 233), match='0'>\n",
      "<re.Match object; span=(233, 234), match='0'>\n",
      "<re.Match object; span=(234, 235), match='-'>\n",
      "<re.Match object; span=(235, 236), match='5'>\n",
      "<re.Match object; span=(236, 237), match='5'>\n",
      "<re.Match object; span=(237, 238), match='5'>\n",
      "<re.Match object; span=(238, 239), match='-'>\n",
      "<re.Match object; span=(239, 240), match='1'>\n",
      "<re.Match object; span=(240, 241), match='2'>\n",
      "<re.Match object; span=(241, 242), match='3'>\n",
      "<re.Match object; span=(242, 243), match='4'>\n",
      "<re.Match object; span=(244, 245), match='M'>\n",
      "<re.Match object; span=(245, 246), match='r'>\n",
      "<re.Match object; span=(246, 247), match='.'>\n",
      "<re.Match object; span=(247, 248), match=' '>\n",
      "<re.Match object; span=(248, 249), match='S'>\n",
      "<re.Match object; span=(249, 250), match='c'>\n",
      "<re.Match object; span=(250, 251), match='h'>\n",
      "<re.Match object; span=(251, 252), match='a'>\n",
      "<re.Match object; span=(252, 253), match='2'>\n",
      "<re.Match object; span=(253, 254), match='f'>\n",
      "<re.Match object; span=(254, 255), match='e'>\n",
      "<re.Match object; span=(255, 256), match='r'>\n",
      "<re.Match object; span=(257, 258), match='M'>\n",
      "<re.Match object; span=(258, 259), match='r'>\n",
      "<re.Match object; span=(259, 260), match=' '>\n",
      "<re.Match object; span=(260, 261), match='S'>\n",
      "<re.Match object; span=(261, 262), match='m'>\n",
      "<re.Match object; span=(262, 263), match='i'>\n",
      "<re.Match object; span=(263, 264), match='t'>\n",
      "<re.Match object; span=(264, 265), match='h'>\n",
      "<re.Match object; span=(266, 267), match='M'>\n",
      "<re.Match object; span=(267, 268), match='s'>\n",
      "<re.Match object; span=(268, 269), match=' '>\n",
      "<re.Match object; span=(269, 270), match='D'>\n",
      "<re.Match object; span=(270, 271), match='a'>\n",
      "<re.Match object; span=(271, 272), match='v'>\n",
      "<re.Match object; span=(272, 273), match='i'>\n",
      "<re.Match object; span=(273, 274), match='s'>\n",
      "<re.Match object; span=(275, 276), match='M'>\n",
      "<re.Match object; span=(276, 277), match='r'>\n",
      "<re.Match object; span=(277, 278), match='s'>\n",
      "<re.Match object; span=(278, 279), match='.'>\n",
      "<re.Match object; span=(279, 280), match=' '>\n",
      "<re.Match object; span=(280, 281), match='R'>\n",
      "<re.Match object; span=(281, 282), match='o'>\n",
      "<re.Match object; span=(282, 283), match='b'>\n",
      "<re.Match object; span=(283, 284), match='i'>\n",
      "<re.Match object; span=(284, 285), match='n'>\n",
      "<re.Match object; span=(285, 286), match='s'>\n",
      "<re.Match object; span=(286, 287), match='o'>\n",
      "<re.Match object; span=(287, 288), match='n'>\n",
      "<re.Match object; span=(289, 290), match='M'>\n",
      "<re.Match object; span=(290, 291), match='r'>\n",
      "<re.Match object; span=(291, 292), match='.'>\n",
      "<re.Match object; span=(292, 293), match=' '>\n",
      "<re.Match object; span=(293, 294), match='T'>\n",
      "<re.Match object; span=(295, 296), match='M'>\n",
      "<re.Match object; span=(296, 297), match='r'>\n",
      "<re.Match object; span=(297, 298), match='.'>\n",
      "<re.Match object; span=(298, 299), match=' '>\n",
      "<re.Match object; span=(299, 300), match='('>\n",
      "<re.Match object; span=(300, 301), match=')'>\n",
      "<re.Match object; span=(303, 304), match='c'>\n",
      "<re.Match object; span=(304, 305), match='a'>\n",
      "<re.Match object; span=(305, 306), match='t'>\n",
      "<re.Match object; span=(307, 308), match='m'>\n",
      "<re.Match object; span=(308, 309), match='a'>\n",
      "<re.Match object; span=(309, 310), match='t'>\n",
      "<re.Match object; span=(311, 312), match='p'>\n",
      "<re.Match object; span=(312, 313), match='a'>\n",
      "<re.Match object; span=(313, 314), match='t'>\n",
      "<re.Match object; span=(315, 316), match='b'>\n",
      "<re.Match object; span=(316, 317), match='a'>\n",
      "<re.Match object; span=(317, 318), match='t'>\n",
      "<re.Match object; span=(319, 320), match='t'>\n",
      "<re.Match object; span=(320, 321), match='a'>\n",
      "<re.Match object; span=(321, 322), match='t'>\n",
      "<re.Match object; span=(323, 324), match='a'>\n",
      "<re.Match object; span=(324, 325), match='t'>\n"
     ]
    }
   ],
   "source": [
    "# Como veis, aquí se muestran prácticamente todos los caracteres.\n",
    "pattern = re.compile(r'.')\n",
    "matches = pattern.finditer(text_to_search)\n",
    "\n",
    "for match in matches:\n",
    "    print(match) \n"
   ]
  },
  {
   "cell_type": "code",
   "execution_count": 17,
   "metadata": {},
   "outputs": [],
   "source": [
    "# [a-zA-Z0-9_.+-]   +@\n",
    "# pattern = re.compile(r'.*?(?=o)o')"
   ]
  },
  {
   "cell_type": "markdown",
   "metadata": {},
   "source": [
    "#### Para escaparlos, tienen que ir precedidos de la barra invertida(`\\`)"
   ]
  },
  {
   "cell_type": "code",
   "execution_count": 18,
   "metadata": {},
   "outputs": [
    {
     "name": "stdout",
     "output_type": "stream",
     "text": [
      "<re.Match object; span=(115, 116), match='.'>\n",
      "<re.Match object; span=(162, 163), match='.'>\n",
      "<re.Match object; span=(195, 196), match='.'>\n",
      "<re.Match object; span=(199, 200), match='.'>\n",
      "<re.Match object; span=(246, 247), match='.'>\n",
      "<re.Match object; span=(278, 279), match='.'>\n",
      "<re.Match object; span=(291, 292), match='.'>\n",
      "<re.Match object; span=(297, 298), match='.'>\n"
     ]
    }
   ],
   "source": [
    "pattern = re.compile(r'\\.')\n",
    "matches = pattern.finditer(text_to_search)\n",
    "\n",
    "for match in matches:\n",
    "    print(match)"
   ]
  },
  {
   "cell_type": "markdown",
   "metadata": {},
   "source": [
    "Para buscar una página web:"
   ]
  },
  {
   "cell_type": "code",
   "execution_count": 19,
   "metadata": {},
   "outputs": [
    {
     "name": "stdout",
     "output_type": "stream",
     "text": [
      "<re.Match object; span=(143, 154), match='alberto*com'>\n",
      "<re.Match object; span=(155, 166), match='alberto.com'>\n",
      "<re.Match object; span=(167, 178), match='albertoocom'>\n"
     ]
    }
   ],
   "source": [
    "pattern = re.compile(r'alberto.com')\n",
    "\n",
    "matches = pattern.finditer(text_to_search)\n",
    "\n",
    "for match in matches:\n",
    "    print(match)"
   ]
  },
  {
   "cell_type": "markdown",
   "metadata": {},
   "source": [
    "Lo realmente interesante de regex no es encontrar simplemente una página web o una frase concreta, sino que nos ayuda a encontrar una serie de patrones en los textos.\n",
    "\n",
    "En este documento podemos ver las principales expresiones regulares para encontrar texto: `snippets.txt`"
   ]
  },
  {
   "attachments": {},
   "cell_type": "markdown",
   "metadata": {},
   "source": [
    "\\w = letras y números\n",
    "\\W = lo contrario"
   ]
  },
  {
   "cell_type": "code",
   "execution_count": 82,
   "metadata": {},
   "outputs": [
    {
     "name": "stdout",
     "output_type": "stream",
     "text": [
      "<re.Match object; span=(1, 2), match='a'>\n",
      "<re.Match object; span=(2, 3), match='b'>\n",
      "<re.Match object; span=(3, 4), match='c'>\n",
      "<re.Match object; span=(4, 5), match='d'>\n",
      "<re.Match object; span=(5, 6), match='e'>\n",
      "<re.Match object; span=(6, 7), match='f'>\n",
      "<re.Match object; span=(7, 8), match='g'>\n",
      "<re.Match object; span=(8, 9), match='h'>\n",
      "<re.Match object; span=(9, 10), match='i'>\n",
      "<re.Match object; span=(10, 11), match='j'>\n",
      "<re.Match object; span=(11, 12), match='k'>\n",
      "<re.Match object; span=(12, 13), match='l'>\n",
      "<re.Match object; span=(13, 14), match='m'>\n",
      "<re.Match object; span=(14, 15), match='n'>\n",
      "<re.Match object; span=(15, 16), match='o'>\n",
      "<re.Match object; span=(16, 17), match='p'>\n",
      "<re.Match object; span=(17, 18), match='q'>\n",
      "<re.Match object; span=(18, 19), match='u'>\n",
      "<re.Match object; span=(19, 20), match='r'>\n",
      "<re.Match object; span=(20, 21), match='t'>\n",
      "<re.Match object; span=(21, 22), match='u'>\n",
      "<re.Match object; span=(22, 23), match='v'>\n",
      "<re.Match object; span=(23, 24), match='w'>\n",
      "<re.Match object; span=(24, 25), match='x'>\n",
      "<re.Match object; span=(25, 26), match='y'>\n",
      "<re.Match object; span=(26, 27), match='z'>\n",
      "<re.Match object; span=(28, 29), match='A'>\n",
      "<re.Match object; span=(29, 30), match='B'>\n",
      "<re.Match object; span=(30, 31), match='C'>\n",
      "<re.Match object; span=(31, 32), match='D'>\n",
      "<re.Match object; span=(32, 33), match='E'>\n",
      "<re.Match object; span=(33, 34), match='F'>\n",
      "<re.Match object; span=(34, 35), match='G'>\n",
      "<re.Match object; span=(35, 36), match='H'>\n",
      "<re.Match object; span=(36, 37), match='I'>\n",
      "<re.Match object; span=(37, 38), match='J'>\n",
      "<re.Match object; span=(38, 39), match='K'>\n",
      "<re.Match object; span=(39, 40), match='L'>\n",
      "<re.Match object; span=(40, 41), match='M'>\n",
      "<re.Match object; span=(41, 42), match='N'>\n",
      "<re.Match object; span=(42, 43), match='O'>\n",
      "<re.Match object; span=(43, 44), match='P'>\n",
      "<re.Match object; span=(44, 45), match='Q'>\n",
      "<re.Match object; span=(45, 46), match='R'>\n",
      "<re.Match object; span=(46, 47), match='S'>\n",
      "<re.Match object; span=(47, 48), match='T'>\n",
      "<re.Match object; span=(48, 49), match='U'>\n",
      "<re.Match object; span=(49, 50), match='V'>\n",
      "<re.Match object; span=(50, 51), match='W'>\n",
      "<re.Match object; span=(51, 52), match='X'>\n",
      "<re.Match object; span=(52, 53), match='Y'>\n",
      "<re.Match object; span=(53, 54), match='Z'>\n",
      "<re.Match object; span=(55, 56), match='1'>\n",
      "<re.Match object; span=(56, 57), match='2'>\n",
      "<re.Match object; span=(57, 58), match='3'>\n",
      "<re.Match object; span=(58, 59), match='4'>\n",
      "<re.Match object; span=(59, 60), match='5'>\n",
      "<re.Match object; span=(60, 61), match='6'>\n",
      "<re.Match object; span=(61, 62), match='7'>\n",
      "<re.Match object; span=(62, 63), match='8'>\n",
      "<re.Match object; span=(63, 64), match='9'>\n",
      "<re.Match object; span=(64, 65), match='0'>\n",
      "<re.Match object; span=(66, 67), match='H'>\n",
      "<re.Match object; span=(67, 68), match='a'>\n",
      "<re.Match object; span=(69, 70), match='H'>\n",
      "<re.Match object; span=(70, 71), match='a'>\n",
      "<re.Match object; span=(71, 72), match='H'>\n",
      "<re.Match object; span=(72, 73), match='a'>\n",
      "<re.Match object; span=(75, 76), match='H'>\n",
      "<re.Match object; span=(76, 77), match='a'>\n",
      "<re.Match object; span=(78, 79), match='M'>\n",
      "<re.Match object; span=(79, 80), match='e'>\n",
      "<re.Match object; span=(80, 81), match='t'>\n",
      "<re.Match object; span=(81, 82), match='a'>\n",
      "<re.Match object; span=(82, 83), match='C'>\n",
      "<re.Match object; span=(83, 84), match='h'>\n",
      "<re.Match object; span=(84, 85), match='a'>\n",
      "<re.Match object; span=(85, 86), match='r'>\n",
      "<re.Match object; span=(86, 87), match='a'>\n",
      "<re.Match object; span=(87, 88), match='c'>\n",
      "<re.Match object; span=(88, 89), match='t'>\n",
      "<re.Match object; span=(89, 90), match='e'>\n",
      "<re.Match object; span=(90, 91), match='r'>\n",
      "<re.Match object; span=(91, 92), match='s'>\n",
      "<re.Match object; span=(94, 95), match='N'>\n",
      "<re.Match object; span=(95, 96), match='e'>\n",
      "<re.Match object; span=(96, 97), match='e'>\n",
      "<re.Match object; span=(97, 98), match='d'>\n",
      "<re.Match object; span=(99, 100), match='t'>\n",
      "<re.Match object; span=(100, 101), match='o'>\n",
      "<re.Match object; span=(102, 103), match='b'>\n",
      "<re.Match object; span=(103, 104), match='e'>\n",
      "<re.Match object; span=(105, 106), match='e'>\n",
      "<re.Match object; span=(106, 107), match='s'>\n",
      "<re.Match object; span=(107, 108), match='c'>\n",
      "<re.Match object; span=(108, 109), match='a'>\n",
      "<re.Match object; span=(109, 110), match='p'>\n",
      "<re.Match object; span=(110, 111), match='e'>\n",
      "<re.Match object; span=(111, 112), match='d'>\n",
      "<re.Match object; span=(143, 144), match='a'>\n",
      "<re.Match object; span=(144, 145), match='l'>\n",
      "<re.Match object; span=(145, 146), match='b'>\n",
      "<re.Match object; span=(146, 147), match='e'>\n",
      "<re.Match object; span=(147, 148), match='r'>\n",
      "<re.Match object; span=(148, 149), match='t'>\n",
      "<re.Match object; span=(149, 150), match='o'>\n",
      "<re.Match object; span=(151, 152), match='c'>\n",
      "<re.Match object; span=(152, 153), match='o'>\n",
      "<re.Match object; span=(153, 154), match='m'>\n",
      "<re.Match object; span=(155, 156), match='a'>\n",
      "<re.Match object; span=(156, 157), match='l'>\n",
      "<re.Match object; span=(157, 158), match='b'>\n",
      "<re.Match object; span=(158, 159), match='e'>\n",
      "<re.Match object; span=(159, 160), match='r'>\n",
      "<re.Match object; span=(160, 161), match='t'>\n",
      "<re.Match object; span=(161, 162), match='o'>\n",
      "<re.Match object; span=(163, 164), match='c'>\n",
      "<re.Match object; span=(164, 165), match='o'>\n",
      "<re.Match object; span=(165, 166), match='m'>\n",
      "<re.Match object; span=(167, 168), match='a'>\n",
      "<re.Match object; span=(168, 169), match='l'>\n",
      "<re.Match object; span=(169, 170), match='b'>\n",
      "<re.Match object; span=(170, 171), match='e'>\n",
      "<re.Match object; span=(171, 172), match='r'>\n",
      "<re.Match object; span=(172, 173), match='t'>\n",
      "<re.Match object; span=(173, 174), match='o'>\n",
      "<re.Match object; span=(174, 175), match='o'>\n",
      "<re.Match object; span=(175, 176), match='c'>\n",
      "<re.Match object; span=(176, 177), match='o'>\n",
      "<re.Match object; span=(177, 178), match='m'>\n",
      "<re.Match object; span=(179, 180), match='3'>\n",
      "<re.Match object; span=(180, 181), match='2'>\n",
      "<re.Match object; span=(181, 182), match='1'>\n",
      "<re.Match object; span=(183, 184), match='5'>\n",
      "<re.Match object; span=(184, 185), match='5'>\n",
      "<re.Match object; span=(185, 186), match='5'>\n",
      "<re.Match object; span=(187, 188), match='4'>\n",
      "<re.Match object; span=(188, 189), match='3'>\n",
      "<re.Match object; span=(189, 190), match='2'>\n",
      "<re.Match object; span=(190, 191), match='1'>\n",
      "<re.Match object; span=(192, 193), match='1'>\n",
      "<re.Match object; span=(193, 194), match='2'>\n",
      "<re.Match object; span=(194, 195), match='3'>\n",
      "<re.Match object; span=(196, 197), match='5'>\n",
      "<re.Match object; span=(197, 198), match='5'>\n",
      "<re.Match object; span=(198, 199), match='5'>\n",
      "<re.Match object; span=(200, 201), match='1'>\n",
      "<re.Match object; span=(201, 202), match='2'>\n",
      "<re.Match object; span=(202, 203), match='3'>\n",
      "<re.Match object; span=(203, 204), match='4'>\n",
      "<re.Match object; span=(205, 206), match='1'>\n",
      "<re.Match object; span=(206, 207), match='2'>\n",
      "<re.Match object; span=(207, 208), match='3'>\n",
      "<re.Match object; span=(209, 210), match='5'>\n",
      "<re.Match object; span=(210, 211), match='5'>\n",
      "<re.Match object; span=(211, 212), match='5'>\n",
      "<re.Match object; span=(213, 214), match='1'>\n",
      "<re.Match object; span=(214, 215), match='2'>\n",
      "<re.Match object; span=(215, 216), match='3'>\n",
      "<re.Match object; span=(216, 217), match='4'>\n",
      "<re.Match object; span=(218, 219), match='8'>\n",
      "<re.Match object; span=(219, 220), match='0'>\n",
      "<re.Match object; span=(220, 221), match='0'>\n",
      "<re.Match object; span=(222, 223), match='5'>\n",
      "<re.Match object; span=(223, 224), match='5'>\n",
      "<re.Match object; span=(224, 225), match='5'>\n",
      "<re.Match object; span=(226, 227), match='1'>\n",
      "<re.Match object; span=(227, 228), match='2'>\n",
      "<re.Match object; span=(228, 229), match='3'>\n",
      "<re.Match object; span=(229, 230), match='4'>\n",
      "<re.Match object; span=(231, 232), match='9'>\n",
      "<re.Match object; span=(232, 233), match='0'>\n",
      "<re.Match object; span=(233, 234), match='0'>\n",
      "<re.Match object; span=(235, 236), match='5'>\n",
      "<re.Match object; span=(236, 237), match='5'>\n",
      "<re.Match object; span=(237, 238), match='5'>\n",
      "<re.Match object; span=(239, 240), match='1'>\n",
      "<re.Match object; span=(240, 241), match='2'>\n",
      "<re.Match object; span=(241, 242), match='3'>\n",
      "<re.Match object; span=(242, 243), match='4'>\n",
      "<re.Match object; span=(244, 245), match='M'>\n",
      "<re.Match object; span=(245, 246), match='r'>\n",
      "<re.Match object; span=(248, 249), match='S'>\n",
      "<re.Match object; span=(249, 250), match='c'>\n",
      "<re.Match object; span=(250, 251), match='h'>\n",
      "<re.Match object; span=(251, 252), match='a'>\n",
      "<re.Match object; span=(252, 253), match='2'>\n",
      "<re.Match object; span=(253, 254), match='f'>\n",
      "<re.Match object; span=(254, 255), match='e'>\n",
      "<re.Match object; span=(255, 256), match='r'>\n",
      "<re.Match object; span=(257, 258), match='M'>\n",
      "<re.Match object; span=(258, 259), match='r'>\n",
      "<re.Match object; span=(260, 261), match='S'>\n",
      "<re.Match object; span=(261, 262), match='m'>\n",
      "<re.Match object; span=(262, 263), match='i'>\n",
      "<re.Match object; span=(263, 264), match='t'>\n",
      "<re.Match object; span=(264, 265), match='h'>\n",
      "<re.Match object; span=(266, 267), match='M'>\n",
      "<re.Match object; span=(267, 268), match='s'>\n",
      "<re.Match object; span=(269, 270), match='D'>\n",
      "<re.Match object; span=(270, 271), match='a'>\n",
      "<re.Match object; span=(271, 272), match='v'>\n",
      "<re.Match object; span=(272, 273), match='i'>\n",
      "<re.Match object; span=(273, 274), match='s'>\n",
      "<re.Match object; span=(275, 276), match='M'>\n",
      "<re.Match object; span=(276, 277), match='r'>\n",
      "<re.Match object; span=(277, 278), match='s'>\n",
      "<re.Match object; span=(280, 281), match='R'>\n",
      "<re.Match object; span=(281, 282), match='o'>\n",
      "<re.Match object; span=(282, 283), match='b'>\n",
      "<re.Match object; span=(283, 284), match='i'>\n",
      "<re.Match object; span=(284, 285), match='n'>\n",
      "<re.Match object; span=(285, 286), match='s'>\n",
      "<re.Match object; span=(286, 287), match='o'>\n",
      "<re.Match object; span=(287, 288), match='n'>\n",
      "<re.Match object; span=(289, 290), match='M'>\n",
      "<re.Match object; span=(290, 291), match='r'>\n",
      "<re.Match object; span=(293, 294), match='T'>\n",
      "<re.Match object; span=(295, 296), match='M'>\n",
      "<re.Match object; span=(296, 297), match='r'>\n",
      "<re.Match object; span=(303, 304), match='c'>\n",
      "<re.Match object; span=(304, 305), match='a'>\n",
      "<re.Match object; span=(305, 306), match='t'>\n",
      "<re.Match object; span=(307, 308), match='m'>\n",
      "<re.Match object; span=(308, 309), match='a'>\n",
      "<re.Match object; span=(309, 310), match='t'>\n",
      "<re.Match object; span=(311, 312), match='p'>\n",
      "<re.Match object; span=(312, 313), match='a'>\n",
      "<re.Match object; span=(313, 314), match='t'>\n",
      "<re.Match object; span=(315, 316), match='b'>\n",
      "<re.Match object; span=(316, 317), match='a'>\n",
      "<re.Match object; span=(317, 318), match='t'>\n",
      "<re.Match object; span=(319, 320), match='t'>\n",
      "<re.Match object; span=(320, 321), match='a'>\n",
      "<re.Match object; span=(321, 322), match='t'>\n",
      "<re.Match object; span=(323, 324), match='a'>\n",
      "<re.Match object; span=(324, 325), match='t'>\n"
     ]
    }
   ],
   "source": [
    "pattern = re.compile(r'\\w')\n",
    "\n",
    "matches = pattern.finditer(text_to_search)\n",
    "\n",
    "\n",
    "for match in matches:\n",
    "    print(match)"
   ]
  },
  {
   "cell_type": "markdown",
   "metadata": {},
   "source": [
    "## Anclas\n",
    "\n",
    "Las anclas no buscan caracteres en concreto, pero delimitan nuestra búsqueda."
   ]
  },
  {
   "cell_type": "markdown",
   "metadata": {},
   "source": [
    "Word Boundaries `\\b`: está compuesto por los espacios, tabuladores, nuevas líneas y caracteres no alfanuméricos."
   ]
  },
  {
   "cell_type": "code",
   "execution_count": 21,
   "metadata": {},
   "outputs": [],
   "source": [
    "#Ha HaHa ?Ha"
   ]
  },
  {
   "cell_type": "code",
   "execution_count": 51,
   "metadata": {},
   "outputs": [
    {
     "name": "stdout",
     "output_type": "stream",
     "text": [
      "<re.Match object; span=(1, 1), match=''>\n",
      "<re.Match object; span=(27, 27), match=''>\n",
      "<re.Match object; span=(28, 28), match=''>\n",
      "<re.Match object; span=(54, 54), match=''>\n",
      "<re.Match object; span=(55, 55), match=''>\n",
      "<re.Match object; span=(65, 65), match=''>\n",
      "<re.Match object; span=(66, 66), match=''>\n",
      "<re.Match object; span=(68, 68), match=''>\n",
      "<re.Match object; span=(69, 69), match=''>\n",
      "<re.Match object; span=(73, 73), match=''>\n",
      "<re.Match object; span=(75, 75), match=''>\n",
      "<re.Match object; span=(77, 77), match=''>\n",
      "<re.Match object; span=(78, 78), match=''>\n",
      "<re.Match object; span=(92, 92), match=''>\n",
      "<re.Match object; span=(94, 94), match=''>\n",
      "<re.Match object; span=(98, 98), match=''>\n",
      "<re.Match object; span=(99, 99), match=''>\n",
      "<re.Match object; span=(101, 101), match=''>\n",
      "<re.Match object; span=(102, 102), match=''>\n",
      "<re.Match object; span=(104, 104), match=''>\n",
      "<re.Match object; span=(105, 105), match=''>\n",
      "<re.Match object; span=(112, 112), match=''>\n",
      "<re.Match object; span=(143, 143), match=''>\n",
      "<re.Match object; span=(150, 150), match=''>\n",
      "<re.Match object; span=(151, 151), match=''>\n",
      "<re.Match object; span=(154, 154), match=''>\n",
      "<re.Match object; span=(155, 155), match=''>\n",
      "<re.Match object; span=(162, 162), match=''>\n",
      "<re.Match object; span=(163, 163), match=''>\n",
      "<re.Match object; span=(166, 166), match=''>\n",
      "<re.Match object; span=(167, 167), match=''>\n",
      "<re.Match object; span=(178, 178), match=''>\n",
      "<re.Match object; span=(179, 179), match=''>\n",
      "<re.Match object; span=(182, 182), match=''>\n",
      "<re.Match object; span=(183, 183), match=''>\n",
      "<re.Match object; span=(186, 186), match=''>\n",
      "<re.Match object; span=(187, 187), match=''>\n",
      "<re.Match object; span=(191, 191), match=''>\n",
      "<re.Match object; span=(192, 192), match=''>\n",
      "<re.Match object; span=(195, 195), match=''>\n",
      "<re.Match object; span=(196, 196), match=''>\n",
      "<re.Match object; span=(199, 199), match=''>\n",
      "<re.Match object; span=(200, 200), match=''>\n",
      "<re.Match object; span=(204, 204), match=''>\n",
      "<re.Match object; span=(205, 205), match=''>\n",
      "<re.Match object; span=(208, 208), match=''>\n",
      "<re.Match object; span=(209, 209), match=''>\n",
      "<re.Match object; span=(212, 212), match=''>\n",
      "<re.Match object; span=(213, 213), match=''>\n",
      "<re.Match object; span=(217, 217), match=''>\n",
      "<re.Match object; span=(218, 218), match=''>\n",
      "<re.Match object; span=(221, 221), match=''>\n",
      "<re.Match object; span=(222, 222), match=''>\n",
      "<re.Match object; span=(225, 225), match=''>\n",
      "<re.Match object; span=(226, 226), match=''>\n",
      "<re.Match object; span=(230, 230), match=''>\n",
      "<re.Match object; span=(231, 231), match=''>\n",
      "<re.Match object; span=(234, 234), match=''>\n",
      "<re.Match object; span=(235, 235), match=''>\n",
      "<re.Match object; span=(238, 238), match=''>\n",
      "<re.Match object; span=(239, 239), match=''>\n",
      "<re.Match object; span=(243, 243), match=''>\n",
      "<re.Match object; span=(244, 244), match=''>\n",
      "<re.Match object; span=(246, 246), match=''>\n",
      "<re.Match object; span=(248, 248), match=''>\n",
      "<re.Match object; span=(256, 256), match=''>\n",
      "<re.Match object; span=(257, 257), match=''>\n",
      "<re.Match object; span=(259, 259), match=''>\n",
      "<re.Match object; span=(260, 260), match=''>\n",
      "<re.Match object; span=(265, 265), match=''>\n",
      "<re.Match object; span=(266, 266), match=''>\n",
      "<re.Match object; span=(268, 268), match=''>\n",
      "<re.Match object; span=(269, 269), match=''>\n",
      "<re.Match object; span=(274, 274), match=''>\n",
      "<re.Match object; span=(275, 275), match=''>\n",
      "<re.Match object; span=(278, 278), match=''>\n",
      "<re.Match object; span=(280, 280), match=''>\n",
      "<re.Match object; span=(288, 288), match=''>\n",
      "<re.Match object; span=(289, 289), match=''>\n",
      "<re.Match object; span=(291, 291), match=''>\n",
      "<re.Match object; span=(293, 293), match=''>\n",
      "<re.Match object; span=(294, 294), match=''>\n",
      "<re.Match object; span=(295, 295), match=''>\n",
      "<re.Match object; span=(297, 297), match=''>\n",
      "<re.Match object; span=(303, 303), match=''>\n",
      "<re.Match object; span=(306, 306), match=''>\n",
      "<re.Match object; span=(307, 307), match=''>\n",
      "<re.Match object; span=(310, 310), match=''>\n",
      "<re.Match object; span=(311, 311), match=''>\n",
      "<re.Match object; span=(314, 314), match=''>\n",
      "<re.Match object; span=(315, 315), match=''>\n",
      "<re.Match object; span=(318, 318), match=''>\n",
      "<re.Match object; span=(319, 319), match=''>\n",
      "<re.Match object; span=(322, 322), match=''>\n",
      "<re.Match object; span=(323, 323), match=''>\n",
      "<re.Match object; span=(325, 325), match=''>\n"
     ]
    }
   ],
   "source": [
    "pattern = re.compile(r'\\b')\n",
    "\n",
    "matches = pattern.finditer(text_to_search)\n",
    "\n",
    "\n",
    "for match in matches:\n",
    "    print(match)\n"
   ]
  },
  {
   "cell_type": "code",
   "execution_count": 22,
   "metadata": {},
   "outputs": [
    {
     "name": "stdout",
     "output_type": "stream",
     "text": [
      "<re.Match object; span=(66, 68), match='Ha'>\n",
      "<re.Match object; span=(69, 71), match='Ha'>\n",
      "<re.Match object; span=(75, 77), match='Ha'>\n"
     ]
    }
   ],
   "source": [
    "pattern = re.compile(r'\\bHa')\n",
    "\n",
    "matches = pattern.finditer(text_to_search)\n",
    "\n",
    "\n",
    "for match in matches:\n",
    "    print(match)\n"
   ]
  },
  {
   "cell_type": "markdown",
   "metadata": {},
   "source": [
    "No word boundaries `\\B`: lo contrario\n",
    "\n",
    "Muestra el último Ha, porque delante no tiene los boundaries"
   ]
  },
  {
   "cell_type": "code",
   "execution_count": 23,
   "metadata": {},
   "outputs": [
    {
     "name": "stdout",
     "output_type": "stream",
     "text": [
      "<re.Match object; span=(71, 73), match='Ha'>\n"
     ]
    }
   ],
   "source": [
    "pattern = re.compile(r'\\BHa')\n",
    "\n",
    "matches = pattern.finditer(text_to_search)\n",
    "\n",
    "for match in matches:\n",
    "    print(match)"
   ]
  },
  {
   "attachments": {},
   "cell_type": "markdown",
   "metadata": {},
   "source": [
    "### \"?\", \"+\", \"*\""
   ]
  },
  {
   "attachments": {},
   "cell_type": "markdown",
   "metadata": {},
   "source": [
    "* \"?\" = 0 o 1\n",
    "* \"*\" = 0 o +\n",
    "* \"+\" = 1 o +"
   ]
  },
  {
   "cell_type": "code",
   "execution_count": 146,
   "metadata": {},
   "outputs": [],
   "source": [
    "palabra = 'Hola'"
   ]
  },
  {
   "cell_type": "code",
   "execution_count": 147,
   "metadata": {},
   "outputs": [
    {
     "name": "stdout",
     "output_type": "stream",
     "text": [
      "<re.Match object; span=(0, 4), match='Hola'>\n"
     ]
    }
   ],
   "source": [
    "pattern = re.compile(r\"Hola.?\") # 0 o 1. LO LEE\n",
    "matches = pattern.finditer(palabra)\n",
    "for match in matches:\n",
    "    print(match)"
   ]
  },
  {
   "cell_type": "code",
   "execution_count": 144,
   "metadata": {},
   "outputs": [
    {
     "name": "stdout",
     "output_type": "stream",
     "text": [
      "<re.Match object; span=(0, 4), match='Hola'>\n"
     ]
    }
   ],
   "source": [
    "pattern = re.compile(r\"Hola.*\") # 0 o más. LO LEE\n",
    "matches = pattern.finditer(palabra)\n",
    "for match in matches:\n",
    "    print(match)"
   ]
  },
  {
   "cell_type": "code",
   "execution_count": 145,
   "metadata": {},
   "outputs": [],
   "source": [
    "pattern = re.compile(r\"Hola.+\") # 1 o más. NO LO LEE\n",
    "matches = pattern.finditer(palabra)\n",
    "for match in matches:\n",
    "    print(match)"
   ]
  },
  {
   "cell_type": "markdown",
   "metadata": {},
   "source": [
    "### `^` Busca solo el principio del string"
   ]
  },
  {
   "cell_type": "code",
   "execution_count": 24,
   "metadata": {},
   "outputs": [],
   "source": [
    "sentence = 'Start a sentence and then bring it to an end'"
   ]
  },
  {
   "cell_type": "code",
   "execution_count": 25,
   "metadata": {},
   "outputs": [
    {
     "name": "stdout",
     "output_type": "stream",
     "text": [
      "<re.Match object; span=(0, 5), match='Start'>\n"
     ]
    }
   ],
   "source": [
    "pattern = re.compile(r\"^Start\")\n",
    "matches = pattern.finditer(sentence)\n",
    "for match in matches:\n",
    "    print(match)"
   ]
  },
  {
   "cell_type": "markdown",
   "metadata": {},
   "source": [
    "### `$` Solo busca el final del string"
   ]
  },
  {
   "cell_type": "code",
   "execution_count": 26,
   "metadata": {},
   "outputs": [
    {
     "name": "stdout",
     "output_type": "stream",
     "text": [
      "<re.Match object; span=(41, 44), match='end'>\n"
     ]
    }
   ],
   "source": [
    "pattern = re.compile(r\"end$\")\n",
    "matches = pattern.finditer(sentence)\n",
    "for match in matches:\n",
    "    print(match)\n"
   ]
  },
  {
   "cell_type": "code",
   "execution_count": 27,
   "metadata": {},
   "outputs": [],
   "source": [
    "pattern = re.compile(r\"a$\")\n",
    "matches = pattern.finditer(sentence)\n",
    "for match in matches:\n",
    "    print(match)\n",
    "\n"
   ]
  },
  {
   "cell_type": "markdown",
   "metadata": {},
   "source": [
    "## TIME FOR ACTION\n",
    "\n",
    "A continuación, vamos a tratar de obtener los números de teléfono.\n",
    "\n",
    "Como podemos ver en el texto, el número de teléfono sigue la misma estructura: \n",
    "- 3 números\n",
    "- signo de puntuación \n",
    "- 3 números\n",
    "- signo de puntuación\n",
    "- 4 números"
   ]
  },
  {
   "cell_type": "code",
   "execution_count": 28,
   "metadata": {},
   "outputs": [
    {
     "name": "stdout",
     "output_type": "stream",
     "text": [
      "<re.Match object; span=(179, 191), match='321-555-4321'>\n",
      "<re.Match object; span=(192, 204), match='123.555.1234'>\n",
      "<re.Match object; span=(205, 217), match='123*555*1234'>\n",
      "<re.Match object; span=(218, 230), match='800-555-1234'>\n",
      "<re.Match object; span=(231, 243), match='900-555-1234'>\n"
     ]
    }
   ],
   "source": [
    "#escribe tu código\n",
    "pattern = re.compile(r\"\\d\\d\\d.\\d\\d\\d.\\d\\d\\d\\d\")\n",
    "matches = pattern.finditer(text_to_search)\n",
    "for match in matches:\n",
    "    print(match)"
   ]
  },
  {
   "cell_type": "markdown",
   "metadata": {},
   "source": [
    "### Abrimos `fake_info.txt` para empezar a trabajar"
   ]
  },
  {
   "cell_type": "code",
   "execution_count": 29,
   "metadata": {},
   "outputs": [],
   "source": [
    "with open(\"data/fake_info.txt\", \"r\") as f:\n",
    "    contents = f.read()"
   ]
  },
  {
   "cell_type": "markdown",
   "metadata": {},
   "source": [
    "Como hemos visto, el código de arriba nos ha permitido encontrar la secuencia de números con cualquier signo de puntuación, pero pongamos que queremos obtener solamente los números de teléfono separados por un punto o un guion"
   ]
  },
  {
   "cell_type": "code",
   "execution_count": 54,
   "metadata": {},
   "outputs": [
    {
     "name": "stdout",
     "output_type": "stream",
     "text": [
      "<re.Match object; span=(179, 191), match='321-555-4321'>\n",
      "<re.Match object; span=(192, 204), match='123.555.1234'>\n",
      "<re.Match object; span=(218, 230), match='800-555-1234'>\n",
      "<re.Match object; span=(231, 243), match='900-555-1234'>\n"
     ]
    }
   ],
   "source": [
    "#escribe tu código\n",
    "pattern = re.compile(r\"\\d\\d\\d[.-]\\d\\d\\d[-.]\\d\\d\\d\\d\")\n",
    "\n",
    "matches = pattern.finditer(text_to_search)\n",
    "for match in matches:\n",
    "    print(match)\n"
   ]
  },
  {
   "cell_type": "code",
   "execution_count": 31,
   "metadata": {},
   "outputs": [
    {
     "name": "stdout",
     "output_type": "stream",
     "text": [
      "<re.Match object; span=(179, 191), match='321-555-4321'>\n",
      "<re.Match object; span=(192, 204), match='123.555.1234'>\n",
      "<re.Match object; span=(205, 217), match='123*555*1234'>\n",
      "<re.Match object; span=(218, 230), match='800-555-1234'>\n",
      "<re.Match object; span=(231, 243), match='900-555-1234'>\n"
     ]
    }
   ],
   "source": [
    "#escribe tu código\n",
    "\n",
    "pattern = re.compile(r\"\\d\\d\\d[*.-]\\d\\d\\d[*.-]\\d\\d\\d\\d\") \n",
    "\n",
    "matches = pattern.finditer(text_to_search)\n",
    "\n",
    "for match in matches:\n",
    "    print(match)"
   ]
  },
  {
   "cell_type": "markdown",
   "metadata": {},
   "source": [
    "## Character sets\n",
    "Sirven para concretar nuestra búsqueda.\n",
    "\n",
    "#### ¡CUIDADO! En ocasiones suele haber confusión con los character sets, porque no cogen más de un elemento."
   ]
  },
  {
   "cell_type": "code",
   "execution_count": 42,
   "metadata": {},
   "outputs": [
    {
     "name": "stdout",
     "output_type": "stream",
     "text": [
      "<re.Match object; span=(218, 230), match='800-555-1234'>\n",
      "<re.Match object; span=(231, 243), match='900-555-1234'>\n"
     ]
    }
   ],
   "source": [
    "# Para encontrar todos los números que empiecen por centenas:\n",
    "# 800 - 900\n",
    "pattern = re.compile(r\"[89]00[-.]\\d\\d\\d[-.]\\d\\d\\d\\d\")\n",
    "\n",
    "matches = pattern.finditer(text_to_search)\n",
    "\n",
    "for match in matches:\n",
    "    print(match)\n",
    "\n"
   ]
  },
  {
   "cell_type": "markdown",
   "metadata": {},
   "source": [
    "## Los guiones no solamente sirven para encontrar ese caracter especial, sino que además nos permiten establecer rangos\n",
    "\n",
    "Por ejemplo, para mostrar los números entre el 1 y el 5 de todo el texto"
   ]
  },
  {
   "cell_type": "code",
   "execution_count": 44,
   "metadata": {},
   "outputs": [
    {
     "name": "stdout",
     "output_type": "stream",
     "text": [
      "<re.Match object; span=(55, 56), match='1'>\n",
      "<re.Match object; span=(56, 57), match='2'>\n",
      "<re.Match object; span=(57, 58), match='3'>\n",
      "<re.Match object; span=(58, 59), match='4'>\n",
      "<re.Match object; span=(59, 60), match='5'>\n",
      "<re.Match object; span=(179, 180), match='3'>\n",
      "<re.Match object; span=(180, 181), match='2'>\n",
      "<re.Match object; span=(181, 182), match='1'>\n",
      "<re.Match object; span=(183, 184), match='5'>\n",
      "<re.Match object; span=(184, 185), match='5'>\n",
      "<re.Match object; span=(185, 186), match='5'>\n",
      "<re.Match object; span=(187, 188), match='4'>\n",
      "<re.Match object; span=(188, 189), match='3'>\n",
      "<re.Match object; span=(189, 190), match='2'>\n",
      "<re.Match object; span=(190, 191), match='1'>\n",
      "<re.Match object; span=(192, 193), match='1'>\n",
      "<re.Match object; span=(193, 194), match='2'>\n",
      "<re.Match object; span=(194, 195), match='3'>\n",
      "<re.Match object; span=(196, 197), match='5'>\n",
      "<re.Match object; span=(197, 198), match='5'>\n",
      "<re.Match object; span=(198, 199), match='5'>\n",
      "<re.Match object; span=(200, 201), match='1'>\n",
      "<re.Match object; span=(201, 202), match='2'>\n",
      "<re.Match object; span=(202, 203), match='3'>\n",
      "<re.Match object; span=(203, 204), match='4'>\n",
      "<re.Match object; span=(205, 206), match='1'>\n",
      "<re.Match object; span=(206, 207), match='2'>\n",
      "<re.Match object; span=(207, 208), match='3'>\n",
      "<re.Match object; span=(209, 210), match='5'>\n",
      "<re.Match object; span=(210, 211), match='5'>\n",
      "<re.Match object; span=(211, 212), match='5'>\n",
      "<re.Match object; span=(213, 214), match='1'>\n",
      "<re.Match object; span=(214, 215), match='2'>\n",
      "<re.Match object; span=(215, 216), match='3'>\n",
      "<re.Match object; span=(216, 217), match='4'>\n",
      "<re.Match object; span=(222, 223), match='5'>\n",
      "<re.Match object; span=(223, 224), match='5'>\n",
      "<re.Match object; span=(224, 225), match='5'>\n",
      "<re.Match object; span=(226, 227), match='1'>\n",
      "<re.Match object; span=(227, 228), match='2'>\n",
      "<re.Match object; span=(228, 229), match='3'>\n",
      "<re.Match object; span=(229, 230), match='4'>\n",
      "<re.Match object; span=(235, 236), match='5'>\n",
      "<re.Match object; span=(236, 237), match='5'>\n",
      "<re.Match object; span=(237, 238), match='5'>\n",
      "<re.Match object; span=(239, 240), match='1'>\n",
      "<re.Match object; span=(240, 241), match='2'>\n",
      "<re.Match object; span=(241, 242), match='3'>\n",
      "<re.Match object; span=(242, 243), match='4'>\n",
      "<re.Match object; span=(252, 253), match='2'>\n"
     ]
    }
   ],
   "source": [
    "pattern = re.compile(r\"[1-5]\")\n",
    "\n",
    "matches = pattern.finditer(text_to_search)\n",
    "\n",
    "for match in matches:\n",
    "    print(match)\n"
   ]
  },
  {
   "cell_type": "markdown",
   "metadata": {},
   "source": [
    "### Para Mostrar letras mayúsculas y minúsculas, basta con poner los rangos juntos.\n"
   ]
  },
  {
   "cell_type": "code",
   "execution_count": 42,
   "metadata": {},
   "outputs": [
    {
     "name": "stdout",
     "output_type": "stream",
     "text": [
      "<re.Match object; span=(1, 2), match='a'>\n",
      "<re.Match object; span=(2, 3), match='b'>\n",
      "<re.Match object; span=(3, 4), match='c'>\n",
      "<re.Match object; span=(4, 5), match='d'>\n",
      "<re.Match object; span=(5, 6), match='e'>\n",
      "<re.Match object; span=(6, 7), match='f'>\n",
      "<re.Match object; span=(7, 8), match='g'>\n",
      "<re.Match object; span=(8, 9), match='h'>\n",
      "<re.Match object; span=(9, 10), match='i'>\n",
      "<re.Match object; span=(10, 11), match='j'>\n",
      "<re.Match object; span=(11, 12), match='k'>\n",
      "<re.Match object; span=(12, 13), match='l'>\n",
      "<re.Match object; span=(13, 14), match='m'>\n",
      "<re.Match object; span=(14, 15), match='n'>\n",
      "<re.Match object; span=(15, 16), match='o'>\n",
      "<re.Match object; span=(16, 17), match='p'>\n",
      "<re.Match object; span=(17, 18), match='q'>\n",
      "<re.Match object; span=(18, 19), match='u'>\n",
      "<re.Match object; span=(19, 20), match='r'>\n",
      "<re.Match object; span=(20, 21), match='t'>\n",
      "<re.Match object; span=(21, 22), match='u'>\n",
      "<re.Match object; span=(22, 23), match='v'>\n",
      "<re.Match object; span=(23, 24), match='w'>\n",
      "<re.Match object; span=(24, 25), match='x'>\n",
      "<re.Match object; span=(25, 26), match='y'>\n",
      "<re.Match object; span=(26, 27), match='z'>\n",
      "<re.Match object; span=(28, 29), match='A'>\n",
      "<re.Match object; span=(29, 30), match='B'>\n",
      "<re.Match object; span=(30, 31), match='C'>\n",
      "<re.Match object; span=(31, 32), match='D'>\n",
      "<re.Match object; span=(32, 33), match='E'>\n",
      "<re.Match object; span=(33, 34), match='F'>\n",
      "<re.Match object; span=(34, 35), match='G'>\n",
      "<re.Match object; span=(35, 36), match='H'>\n",
      "<re.Match object; span=(36, 37), match='I'>\n",
      "<re.Match object; span=(37, 38), match='J'>\n",
      "<re.Match object; span=(38, 39), match='K'>\n",
      "<re.Match object; span=(39, 40), match='L'>\n",
      "<re.Match object; span=(40, 41), match='M'>\n",
      "<re.Match object; span=(41, 42), match='N'>\n",
      "<re.Match object; span=(42, 43), match='O'>\n",
      "<re.Match object; span=(43, 44), match='P'>\n",
      "<re.Match object; span=(44, 45), match='Q'>\n",
      "<re.Match object; span=(45, 46), match='R'>\n",
      "<re.Match object; span=(46, 47), match='S'>\n",
      "<re.Match object; span=(47, 48), match='T'>\n",
      "<re.Match object; span=(48, 49), match='U'>\n",
      "<re.Match object; span=(49, 50), match='V'>\n",
      "<re.Match object; span=(50, 51), match='W'>\n",
      "<re.Match object; span=(51, 52), match='X'>\n",
      "<re.Match object; span=(52, 53), match='Y'>\n",
      "<re.Match object; span=(53, 54), match='Z'>\n",
      "<re.Match object; span=(66, 67), match='H'>\n",
      "<re.Match object; span=(67, 68), match='a'>\n",
      "<re.Match object; span=(69, 70), match='H'>\n",
      "<re.Match object; span=(70, 71), match='a'>\n",
      "<re.Match object; span=(71, 72), match='H'>\n",
      "<re.Match object; span=(72, 73), match='a'>\n",
      "<re.Match object; span=(75, 76), match='H'>\n",
      "<re.Match object; span=(76, 77), match='a'>\n",
      "<re.Match object; span=(78, 79), match='M'>\n",
      "<re.Match object; span=(79, 80), match='e'>\n",
      "<re.Match object; span=(80, 81), match='t'>\n",
      "<re.Match object; span=(81, 82), match='a'>\n",
      "<re.Match object; span=(82, 83), match='C'>\n",
      "<re.Match object; span=(83, 84), match='h'>\n",
      "<re.Match object; span=(84, 85), match='a'>\n",
      "<re.Match object; span=(85, 86), match='r'>\n",
      "<re.Match object; span=(86, 87), match='a'>\n",
      "<re.Match object; span=(87, 88), match='c'>\n",
      "<re.Match object; span=(88, 89), match='t'>\n",
      "<re.Match object; span=(89, 90), match='e'>\n",
      "<re.Match object; span=(90, 91), match='r'>\n",
      "<re.Match object; span=(91, 92), match='s'>\n",
      "<re.Match object; span=(94, 95), match='N'>\n",
      "<re.Match object; span=(95, 96), match='e'>\n",
      "<re.Match object; span=(96, 97), match='e'>\n",
      "<re.Match object; span=(97, 98), match='d'>\n",
      "<re.Match object; span=(99, 100), match='t'>\n",
      "<re.Match object; span=(100, 101), match='o'>\n",
      "<re.Match object; span=(102, 103), match='b'>\n",
      "<re.Match object; span=(103, 104), match='e'>\n",
      "<re.Match object; span=(105, 106), match='e'>\n",
      "<re.Match object; span=(106, 107), match='s'>\n",
      "<re.Match object; span=(107, 108), match='c'>\n",
      "<re.Match object; span=(108, 109), match='a'>\n",
      "<re.Match object; span=(109, 110), match='p'>\n",
      "<re.Match object; span=(110, 111), match='e'>\n",
      "<re.Match object; span=(111, 112), match='d'>\n",
      "<re.Match object; span=(143, 144), match='a'>\n",
      "<re.Match object; span=(144, 145), match='l'>\n",
      "<re.Match object; span=(145, 146), match='b'>\n",
      "<re.Match object; span=(146, 147), match='e'>\n",
      "<re.Match object; span=(147, 148), match='r'>\n",
      "<re.Match object; span=(148, 149), match='t'>\n",
      "<re.Match object; span=(149, 150), match='o'>\n",
      "<re.Match object; span=(151, 152), match='c'>\n",
      "<re.Match object; span=(152, 153), match='o'>\n",
      "<re.Match object; span=(153, 154), match='m'>\n",
      "<re.Match object; span=(155, 156), match='a'>\n",
      "<re.Match object; span=(156, 157), match='l'>\n",
      "<re.Match object; span=(157, 158), match='b'>\n",
      "<re.Match object; span=(158, 159), match='e'>\n",
      "<re.Match object; span=(159, 160), match='r'>\n",
      "<re.Match object; span=(160, 161), match='t'>\n",
      "<re.Match object; span=(161, 162), match='o'>\n",
      "<re.Match object; span=(163, 164), match='c'>\n",
      "<re.Match object; span=(164, 165), match='o'>\n",
      "<re.Match object; span=(165, 166), match='m'>\n",
      "<re.Match object; span=(167, 168), match='a'>\n",
      "<re.Match object; span=(168, 169), match='l'>\n",
      "<re.Match object; span=(169, 170), match='b'>\n",
      "<re.Match object; span=(170, 171), match='e'>\n",
      "<re.Match object; span=(171, 172), match='r'>\n",
      "<re.Match object; span=(172, 173), match='t'>\n",
      "<re.Match object; span=(173, 174), match='o'>\n",
      "<re.Match object; span=(174, 175), match='o'>\n",
      "<re.Match object; span=(175, 176), match='c'>\n",
      "<re.Match object; span=(176, 177), match='o'>\n",
      "<re.Match object; span=(177, 178), match='m'>\n",
      "<re.Match object; span=(244, 245), match='M'>\n",
      "<re.Match object; span=(245, 246), match='r'>\n",
      "<re.Match object; span=(248, 249), match='S'>\n",
      "<re.Match object; span=(249, 250), match='c'>\n",
      "<re.Match object; span=(250, 251), match='h'>\n",
      "<re.Match object; span=(251, 252), match='a'>\n",
      "<re.Match object; span=(253, 254), match='f'>\n",
      "<re.Match object; span=(254, 255), match='e'>\n",
      "<re.Match object; span=(255, 256), match='r'>\n",
      "<re.Match object; span=(257, 258), match='M'>\n",
      "<re.Match object; span=(258, 259), match='r'>\n",
      "<re.Match object; span=(260, 261), match='S'>\n",
      "<re.Match object; span=(261, 262), match='m'>\n",
      "<re.Match object; span=(262, 263), match='i'>\n",
      "<re.Match object; span=(263, 264), match='t'>\n",
      "<re.Match object; span=(264, 265), match='h'>\n",
      "<re.Match object; span=(266, 267), match='M'>\n",
      "<re.Match object; span=(267, 268), match='s'>\n",
      "<re.Match object; span=(269, 270), match='D'>\n",
      "<re.Match object; span=(270, 271), match='a'>\n",
      "<re.Match object; span=(271, 272), match='v'>\n",
      "<re.Match object; span=(272, 273), match='i'>\n",
      "<re.Match object; span=(273, 274), match='s'>\n",
      "<re.Match object; span=(275, 276), match='M'>\n",
      "<re.Match object; span=(276, 277), match='r'>\n",
      "<re.Match object; span=(277, 278), match='s'>\n",
      "<re.Match object; span=(280, 281), match='R'>\n",
      "<re.Match object; span=(281, 282), match='o'>\n",
      "<re.Match object; span=(282, 283), match='b'>\n",
      "<re.Match object; span=(283, 284), match='i'>\n",
      "<re.Match object; span=(284, 285), match='n'>\n",
      "<re.Match object; span=(285, 286), match='s'>\n",
      "<re.Match object; span=(286, 287), match='o'>\n",
      "<re.Match object; span=(287, 288), match='n'>\n",
      "<re.Match object; span=(289, 290), match='M'>\n",
      "<re.Match object; span=(290, 291), match='r'>\n",
      "<re.Match object; span=(293, 294), match='T'>\n",
      "<re.Match object; span=(295, 296), match='M'>\n",
      "<re.Match object; span=(296, 297), match='r'>\n",
      "<re.Match object; span=(303, 304), match='c'>\n",
      "<re.Match object; span=(304, 305), match='a'>\n",
      "<re.Match object; span=(305, 306), match='t'>\n",
      "<re.Match object; span=(307, 308), match='m'>\n",
      "<re.Match object; span=(308, 309), match='a'>\n",
      "<re.Match object; span=(309, 310), match='t'>\n",
      "<re.Match object; span=(311, 312), match='p'>\n",
      "<re.Match object; span=(312, 313), match='a'>\n",
      "<re.Match object; span=(313, 314), match='t'>\n",
      "<re.Match object; span=(315, 316), match='b'>\n",
      "<re.Match object; span=(316, 317), match='a'>\n",
      "<re.Match object; span=(317, 318), match='t'>\n",
      "<re.Match object; span=(319, 320), match='t'>\n",
      "<re.Match object; span=(320, 321), match='a'>\n",
      "<re.Match object; span=(321, 322), match='t'>\n",
      "<re.Match object; span=(323, 324), match='a'>\n",
      "<re.Match object; span=(324, 325), match='t'>\n"
     ]
    }
   ],
   "source": [
    "pattern = re.compile(r\"[a-zA-Z]\")\n",
    "\n",
    "matches = pattern.finditer(text_to_search)\n",
    "\n",
    "for match in matches:\n",
    "    print(match)"
   ]
  },
  {
   "cell_type": "markdown",
   "metadata": {},
   "source": [
    "## Importante \n",
    "Al poner el símbolo `^` dentro de los corchetes `[]`, significa que **NO** queremos lo que está dentro de él.\n",
    "\n",
    "En este caso, al ejecutar, se muestran solo los caracteres numéricos, los espacios en blanco, los saltos de línea y los caracteres numéricos.\n",
    "\n",
    "**Se niega el set**"
   ]
  },
  {
   "cell_type": "code",
   "execution_count": 45,
   "metadata": {},
   "outputs": [
    {
     "name": "stdout",
     "output_type": "stream",
     "text": [
      "<re.Match object; span=(0, 1), match='\\n'>\n",
      "<re.Match object; span=(27, 28), match='\\n'>\n",
      "<re.Match object; span=(54, 55), match='\\n'>\n",
      "<re.Match object; span=(55, 56), match='1'>\n",
      "<re.Match object; span=(56, 57), match='2'>\n",
      "<re.Match object; span=(57, 58), match='3'>\n",
      "<re.Match object; span=(58, 59), match='4'>\n",
      "<re.Match object; span=(59, 60), match='5'>\n",
      "<re.Match object; span=(60, 61), match='6'>\n",
      "<re.Match object; span=(61, 62), match='7'>\n",
      "<re.Match object; span=(62, 63), match='8'>\n",
      "<re.Match object; span=(63, 64), match='9'>\n",
      "<re.Match object; span=(64, 65), match='0'>\n",
      "<re.Match object; span=(65, 66), match='\\n'>\n",
      "<re.Match object; span=(68, 69), match=' '>\n",
      "<re.Match object; span=(73, 74), match=' '>\n",
      "<re.Match object; span=(74, 75), match='?'>\n",
      "<re.Match object; span=(77, 78), match='\\n'>\n",
      "<re.Match object; span=(92, 93), match=' '>\n",
      "<re.Match object; span=(93, 94), match='('>\n",
      "<re.Match object; span=(98, 99), match=' '>\n",
      "<re.Match object; span=(101, 102), match=' '>\n",
      "<re.Match object; span=(104, 105), match=' '>\n",
      "<re.Match object; span=(112, 113), match=')'>\n",
      "<re.Match object; span=(113, 114), match=':'>\n",
      "<re.Match object; span=(114, 115), match='\\n'>\n",
      "<re.Match object; span=(115, 116), match='.'>\n",
      "<re.Match object; span=(116, 117), match=' '>\n",
      "<re.Match object; span=(117, 118), match='^'>\n",
      "<re.Match object; span=(118, 119), match=' '>\n",
      "<re.Match object; span=(119, 120), match='$'>\n",
      "<re.Match object; span=(120, 121), match=' '>\n",
      "<re.Match object; span=(121, 122), match='*'>\n",
      "<re.Match object; span=(122, 123), match=' '>\n",
      "<re.Match object; span=(123, 124), match='+'>\n",
      "<re.Match object; span=(124, 125), match=' '>\n",
      "<re.Match object; span=(125, 126), match='?'>\n",
      "<re.Match object; span=(126, 127), match=' '>\n",
      "<re.Match object; span=(127, 128), match='{'>\n",
      "<re.Match object; span=(128, 129), match=' '>\n",
      "<re.Match object; span=(129, 130), match='}'>\n",
      "<re.Match object; span=(130, 131), match=' '>\n",
      "<re.Match object; span=(131, 132), match='['>\n",
      "<re.Match object; span=(132, 133), match=' '>\n",
      "<re.Match object; span=(133, 134), match=']'>\n",
      "<re.Match object; span=(134, 135), match=' '>\n",
      "<re.Match object; span=(135, 136), match='\\\\'>\n",
      "<re.Match object; span=(136, 137), match=' '>\n",
      "<re.Match object; span=(137, 138), match='|'>\n",
      "<re.Match object; span=(138, 139), match=' '>\n",
      "<re.Match object; span=(139, 140), match='('>\n",
      "<re.Match object; span=(140, 141), match=' '>\n",
      "<re.Match object; span=(141, 142), match=')'>\n",
      "<re.Match object; span=(142, 143), match='\\n'>\n",
      "<re.Match object; span=(150, 151), match='*'>\n",
      "<re.Match object; span=(154, 155), match='\\n'>\n",
      "<re.Match object; span=(162, 163), match='.'>\n",
      "<re.Match object; span=(166, 167), match='\\n'>\n",
      "<re.Match object; span=(178, 179), match='\\n'>\n",
      "<re.Match object; span=(179, 180), match='3'>\n",
      "<re.Match object; span=(180, 181), match='2'>\n",
      "<re.Match object; span=(181, 182), match='1'>\n",
      "<re.Match object; span=(182, 183), match='-'>\n",
      "<re.Match object; span=(183, 184), match='5'>\n",
      "<re.Match object; span=(184, 185), match='5'>\n",
      "<re.Match object; span=(185, 186), match='5'>\n",
      "<re.Match object; span=(186, 187), match='-'>\n",
      "<re.Match object; span=(187, 188), match='4'>\n",
      "<re.Match object; span=(188, 189), match='3'>\n",
      "<re.Match object; span=(189, 190), match='2'>\n",
      "<re.Match object; span=(190, 191), match='1'>\n",
      "<re.Match object; span=(191, 192), match='\\n'>\n",
      "<re.Match object; span=(192, 193), match='1'>\n",
      "<re.Match object; span=(193, 194), match='2'>\n",
      "<re.Match object; span=(194, 195), match='3'>\n",
      "<re.Match object; span=(195, 196), match='.'>\n",
      "<re.Match object; span=(196, 197), match='5'>\n",
      "<re.Match object; span=(197, 198), match='5'>\n",
      "<re.Match object; span=(198, 199), match='5'>\n",
      "<re.Match object; span=(199, 200), match='.'>\n",
      "<re.Match object; span=(200, 201), match='1'>\n",
      "<re.Match object; span=(201, 202), match='2'>\n",
      "<re.Match object; span=(202, 203), match='3'>\n",
      "<re.Match object; span=(203, 204), match='4'>\n",
      "<re.Match object; span=(204, 205), match='\\n'>\n",
      "<re.Match object; span=(205, 206), match='1'>\n",
      "<re.Match object; span=(206, 207), match='2'>\n",
      "<re.Match object; span=(207, 208), match='3'>\n",
      "<re.Match object; span=(208, 209), match='*'>\n",
      "<re.Match object; span=(209, 210), match='5'>\n",
      "<re.Match object; span=(210, 211), match='5'>\n",
      "<re.Match object; span=(211, 212), match='5'>\n",
      "<re.Match object; span=(212, 213), match='*'>\n",
      "<re.Match object; span=(213, 214), match='1'>\n",
      "<re.Match object; span=(214, 215), match='2'>\n",
      "<re.Match object; span=(215, 216), match='3'>\n",
      "<re.Match object; span=(216, 217), match='4'>\n",
      "<re.Match object; span=(217, 218), match='\\n'>\n",
      "<re.Match object; span=(218, 219), match='8'>\n",
      "<re.Match object; span=(219, 220), match='0'>\n",
      "<re.Match object; span=(220, 221), match='0'>\n",
      "<re.Match object; span=(221, 222), match='-'>\n",
      "<re.Match object; span=(222, 223), match='5'>\n",
      "<re.Match object; span=(223, 224), match='5'>\n",
      "<re.Match object; span=(224, 225), match='5'>\n",
      "<re.Match object; span=(225, 226), match='-'>\n",
      "<re.Match object; span=(226, 227), match='1'>\n",
      "<re.Match object; span=(227, 228), match='2'>\n",
      "<re.Match object; span=(228, 229), match='3'>\n",
      "<re.Match object; span=(229, 230), match='4'>\n",
      "<re.Match object; span=(230, 231), match='\\n'>\n",
      "<re.Match object; span=(231, 232), match='9'>\n",
      "<re.Match object; span=(232, 233), match='0'>\n",
      "<re.Match object; span=(233, 234), match='0'>\n",
      "<re.Match object; span=(234, 235), match='-'>\n",
      "<re.Match object; span=(235, 236), match='5'>\n",
      "<re.Match object; span=(236, 237), match='5'>\n",
      "<re.Match object; span=(237, 238), match='5'>\n",
      "<re.Match object; span=(238, 239), match='-'>\n",
      "<re.Match object; span=(239, 240), match='1'>\n",
      "<re.Match object; span=(240, 241), match='2'>\n",
      "<re.Match object; span=(241, 242), match='3'>\n",
      "<re.Match object; span=(242, 243), match='4'>\n",
      "<re.Match object; span=(243, 244), match='\\n'>\n",
      "<re.Match object; span=(246, 247), match='.'>\n",
      "<re.Match object; span=(247, 248), match=' '>\n",
      "<re.Match object; span=(252, 253), match='2'>\n",
      "<re.Match object; span=(256, 257), match='\\n'>\n",
      "<re.Match object; span=(259, 260), match=' '>\n",
      "<re.Match object; span=(265, 266), match='\\n'>\n",
      "<re.Match object; span=(268, 269), match=' '>\n",
      "<re.Match object; span=(274, 275), match='\\n'>\n",
      "<re.Match object; span=(278, 279), match='.'>\n",
      "<re.Match object; span=(279, 280), match=' '>\n",
      "<re.Match object; span=(288, 289), match='\\n'>\n",
      "<re.Match object; span=(291, 292), match='.'>\n",
      "<re.Match object; span=(292, 293), match=' '>\n",
      "<re.Match object; span=(294, 295), match='\\n'>\n",
      "<re.Match object; span=(297, 298), match='.'>\n",
      "<re.Match object; span=(298, 299), match=' '>\n",
      "<re.Match object; span=(299, 300), match='('>\n",
      "<re.Match object; span=(300, 301), match=')'>\n",
      "<re.Match object; span=(301, 302), match='\\n'>\n",
      "<re.Match object; span=(302, 303), match='\\n'>\n",
      "<re.Match object; span=(306, 307), match='\\n'>\n",
      "<re.Match object; span=(310, 311), match='\\n'>\n",
      "<re.Match object; span=(314, 315), match='\\n'>\n",
      "<re.Match object; span=(318, 319), match='\\n'>\n",
      "<re.Match object; span=(322, 323), match='\\n'>\n",
      "<re.Match object; span=(325, 326), match='\\n'>\n"
     ]
    }
   ],
   "source": [
    "pattern = re.compile(r\"[^a-zA-Z]\")\n",
    "\n",
    "matches = pattern.finditer(text_to_search)\n",
    "\n",
    "for match in matches:\n",
    "    print(match)"
   ]
  },
  {
   "cell_type": "markdown",
   "metadata": {},
   "source": [
    "## Búsquedas de patrones en los textos \n",
    "Pongamos que queremos recoger palabras terminadas en at, excepto **bat**\n",
    "Especificamos que no queremos los valores que empiecen por b"
   ]
  },
  {
   "cell_type": "code",
   "execution_count": 46,
   "metadata": {},
   "outputs": [
    {
     "name": "stdout",
     "output_type": "stream",
     "text": [
      "<re.Match object; span=(303, 306), match='cat'>\n",
      "<re.Match object; span=(307, 310), match='mat'>\n",
      "<re.Match object; span=(311, 314), match='pat'>\n",
      "<re.Match object; span=(322, 325), match='\\nat'>\n"
     ]
    }
   ],
   "source": [
    "pattern = re.compile(r\"[^bat]at\")\n",
    "\n",
    "matches = pattern.finditer(text_to_search)\n",
    "\n",
    "for match in matches:\n",
    "    print(match)"
   ]
  },
  {
   "cell_type": "markdown",
   "metadata": {},
   "source": [
    "## Rangos `{}`\n",
    "Como vemos en snippets.txt, las llaves nos permiten establecer rangos. \n",
    "\n",
    "Volviendo al ejemplo de los números de teléfono, otra forma de obtener los patrones"
   ]
  },
  {
   "cell_type": "code",
   "execution_count": 45,
   "metadata": {},
   "outputs": [
    {
     "name": "stdout",
     "output_type": "stream",
     "text": [
      "<re.Match object; span=(179, 191), match='321-555-4321'>\n",
      "<re.Match object; span=(192, 204), match='123.555.1234'>\n",
      "<re.Match object; span=(205, 217), match='123*555*1234'>\n",
      "<re.Match object; span=(218, 230), match='800-555-1234'>\n",
      "<re.Match object; span=(231, 243), match='900-555-1234'>\n"
     ]
    }
   ],
   "source": [
    "pattern = re.compile(r\"\\d{3}.\\d{3}.\\d{4}\") #(\\d{3}[.-]){2}\\d{4}\n",
    "\n",
    "matches = pattern.finditer(text_to_search)\n",
    "\n",
    "for match in matches:\n",
    "    print(match)\n"
   ]
  },
  {
   "cell_type": "code",
   "execution_count": 52,
   "metadata": {},
   "outputs": [
    {
     "name": "stdout",
     "output_type": "stream",
     "text": [
      "<re.Match object; span=(55, 65), match='1234567890'>\n",
      "<re.Match object; span=(179, 191), match='321-555-4321'>\n",
      "<re.Match object; span=(192, 204), match='123.555.1234'>\n",
      "<re.Match object; span=(205, 217), match='123*555*1234'>\n",
      "<re.Match object; span=(218, 230), match='800-555-1234'>\n",
      "<re.Match object; span=(231, 243), match='900-555-1234'>\n"
     ]
    }
   ],
   "source": [
    "pattern = re.compile(r\"\\d{2,4}.\\d{2,4}.\\d{2,4}\")\n",
    "\n",
    "matches = pattern.finditer(text_to_search)\n",
    "\n",
    "for match in matches:\n",
    "    print(match)"
   ]
  },
  {
   "cell_type": "code",
   "execution_count": 48,
   "metadata": {},
   "outputs": [
    {
     "name": "stdout",
     "output_type": "stream",
     "text": [
      "<re.Match object; span=(244, 247), match='Mr.'>\n",
      "<re.Match object; span=(289, 292), match='Mr.'>\n",
      "<re.Match object; span=(295, 298), match='Mr.'>\n"
     ]
    }
   ],
   "source": [
    "## Este ejemplo nos vale porque sabemos exactamente el patrón que se reproduce.\n",
    "pattern1 = re.compile(r\"Mr\\.\")\n",
    "\n",
    "matches = pattern1.finditer(text_to_search)\n",
    "\n",
    "for match in matches:\n",
    "    print(match)\n",
    "\n",
    "\n",
    "# Aquí no nos está dando lo que queremos. Solo nos da la secuencia Mr."
   ]
  },
  {
   "cell_type": "markdown",
   "metadata": {},
   "source": [
    "## Operador `?` \n",
    "Nos sirve para añadir 0 o 1 a nuestra selección. Así se va a contemplar lo que hay un espacio después"
   ]
  },
  {
   "cell_type": "code",
   "execution_count": 71,
   "metadata": {},
   "outputs": [
    {
     "name": "stdout",
     "output_type": "stream",
     "text": [
      "<re.Match object; span=(244, 247), match='Mr.'>\n",
      "<re.Match object; span=(257, 259), match='Mr'>\n",
      "<re.Match object; span=(275, 277), match='Mr'>\n",
      "<re.Match object; span=(289, 292), match='Mr.'>\n",
      "<re.Match object; span=(295, 298), match='Mr.'>\n"
     ]
    }
   ],
   "source": [
    "# Aquí sí aparecen todos los Mr. independientemente de que tengan punto o no\n",
    "\n",
    "pattern2 = re.compile(r\"Mr\\.?\")\n",
    "\n",
    "matches = pattern2.finditer(text_to_search)\n",
    "\n",
    "for match in matches:\n",
    "    print(match)"
   ]
  },
  {
   "cell_type": "code",
   "execution_count": 137,
   "metadata": {},
   "outputs": [
    {
     "name": "stdout",
     "output_type": "stream",
     "text": [
      "<re.Match object; span=(244, 256), match='Mr. Scha2fer'>\n",
      "<re.Match object; span=(257, 265), match='Mr Smith'>\n",
      "<re.Match object; span=(289, 294), match='Mr. T'>\n"
     ]
    }
   ],
   "source": [
    "pattern3 = re.compile(r\"Mr\\.?\\s\\w+\") # El operador + muestra si hay 1 elemento o mÃƒÂ¡s a la derecha de la selecciÃƒÂ³n\n",
    "\n",
    "matches = pattern3.finditer(text_to_search)\n",
    "\n",
    "for match in matches:\n",
    "    print(match)\n",
    "# Por eso no se imprime Mr. "
   ]
  },
  {
   "cell_type": "markdown",
   "metadata": {},
   "source": [
    "## Ahora sí que sí\n",
    "para mostrarlo todo , utilizaremos el cuantificador `*`"
   ]
  },
  {
   "cell_type": "code",
   "execution_count": 73,
   "metadata": {},
   "outputs": [
    {
     "name": "stdout",
     "output_type": "stream",
     "text": [
      "<re.Match object; span=(244, 256), match='Mr. Scha2fer'>\n",
      "<re.Match object; span=(257, 265), match='Mr Smith'>\n",
      "<re.Match object; span=(289, 294), match='Mr. T'>\n",
      "<re.Match object; span=(295, 299), match='Mr. '>\n"
     ]
    }
   ],
   "source": [
    "pattern4 = re.compile(r\"Mr\\.?\\s\\w*\")\n",
    "\n",
    "matches = pattern4.finditer(text_to_search)\n",
    "\n",
    "for match in matches:\n",
    "    print(match)"
   ]
  },
  {
   "cell_type": "markdown",
   "metadata": {},
   "source": [
    "## Grouping `()`\n",
    "Siguiendo con el ejemplo, para ver todos los Mr, Ms y Mrs, podemos utilizar el operador | (or)"
   ]
  },
  {
   "cell_type": "code",
   "execution_count": 39,
   "metadata": {},
   "outputs": [
    {
     "name": "stdout",
     "output_type": "stream",
     "text": [
      "<re.Match object; span=(244, 256), match='Mr. Scha2fer'>\n",
      "<re.Match object; span=(257, 265), match='Mr Smith'>\n",
      "<re.Match object; span=(266, 274), match='Ms Davis'>\n",
      "<re.Match object; span=(275, 288), match='Mrs. Robinson'>\n",
      "<re.Match object; span=(289, 294), match='Mr. T'>\n",
      "<re.Match object; span=(295, 299), match='Mr. '>\n"
     ]
    }
   ],
   "source": [
    "pattern4 = re.compile(r\"(Mr|Ms|Mrs)\\.?\\s\\w*\")\n",
    "\n",
    "matches = pattern4.finditer(text_to_search)\n",
    "\n",
    "for match in matches:\n",
    "    print(match)"
   ]
  },
  {
   "attachments": {},
   "cell_type": "markdown",
   "metadata": {},
   "source": [
    "## re.sub()"
   ]
  },
  {
   "cell_type": "code",
   "execution_count": 20,
   "metadata": {},
   "outputs": [
    {
     "name": "stdout",
     "output_type": "stream",
     "text": [
      "1.  ALBERTO.com\n",
      "2.  albe.com\n",
      "ALBERTOocom\n",
      "albeocom\n",
      "ALBERTO*com\n",
      "albe*com\n",
      "ALBERTO.com\n",
      "albe.com\n"
     ]
    }
   ],
   "source": [
    "texto = \"alberto.com\"\n",
    "\n",
    "print(\"1. \",re.sub(r\"alberto\",\"ALBERTO\",texto))\n",
    "print(\"2. \",re.sub(r\"alberto\",texto.split('r')[0],texto)) #cambio alberto por albe\n",
    "\n",
    "lista_textos = ['albertoocom', 'alberto*com', 'alberto.com']\n",
    "for i in lista_textos:\n",
    "    print(re.sub(r\"alberto\",'ALBERTO', i))\n",
    "    print(re.sub(r\"alberto\",i.split('r')[0],i))"
   ]
  },
  {
   "cell_type": "code",
   "execution_count": 77,
   "metadata": {},
   "outputs": [
    {
     "data": {
      "text/plain": [
       "['ALBERTOocom', 'ALBERTO*com', 'ALBERTO.com']"
      ]
     },
     "execution_count": 77,
     "metadata": {},
     "output_type": "execute_result"
    }
   ],
   "source": [
    "[re.sub(r\"alberto\",'ALBERTO',i) for i in lista_textos]"
   ]
  },
  {
   "attachments": {},
   "cell_type": "markdown",
   "metadata": {},
   "source": [
    "### Prueba con WebScraping"
   ]
  },
  {
   "cell_type": "code",
   "execution_count": 3,
   "metadata": {},
   "outputs": [],
   "source": [
    "from bs4 import BeautifulSoup as bs\n",
    "import requests\n",
    "import time"
   ]
  },
  {
   "cell_type": "code",
   "execution_count": 4,
   "metadata": {},
   "outputs": [],
   "source": [
    "url = 'https://boardgamegeekstore.com/'\n",
    "headers = {\"User-Agent\":\"Mozilla/5.0\"}\n",
    "response = requests.get(url, headers=headers)\n",
    "soup = bs(response.text, 'lxml')"
   ]
  },
  {
   "cell_type": "code",
   "execution_count": 9,
   "metadata": {},
   "outputs": [
    {
     "name": "stdout",
     "output_type": "stream",
     "text": [
      "['$5']\n",
      "['$3']\n",
      "['$5']\n",
      "['$6']\n",
      "['$1.25']\n",
      "['$1.79']\n",
      "['$3.80']\n",
      "['$18']\n",
      "['$26']\n",
      "['$24']\n",
      "['$28']\n",
      "['$35']\n",
      "['$6']\n",
      "['$25']\n",
      "['$25']\n",
      "['$32']\n",
      "['$13']\n",
      "['$32']\n",
      "['$32']\n",
      "['$35']\n",
      "['$26']\n",
      "['$24']\n",
      "['$28']\n",
      "['$28']\n",
      "['$30']\n",
      "['$10']\n",
      "['$8']\n",
      "['$8']\n",
      "['$19.99']\n",
      "['$25']\n",
      "['$20']\n",
      "['$5']\n",
      "['$15']\n",
      "['$15']\n",
      "[]\n",
      "['$49.99']\n",
      "[]\n",
      "['$14.99']\n",
      "['$17.99']\n",
      "[]\n",
      "['$64.99']\n",
      "['$39.99']\n",
      "['$19.99']\n",
      "['$19.99']\n",
      "['$44.99']\n",
      "['$32.99']\n",
      "['$9.99']\n",
      "['$59.99']\n",
      "['$79.99']\n",
      "['$22.99']\n",
      "['$34.99']\n",
      "[]\n",
      "['$9.99']\n",
      "[]\n",
      "['$29.99']\n",
      "['$24.99']\n",
      "['$55']\n",
      "[]\n",
      "['$24']\n",
      "['$40']\n",
      "['$5']\n",
      "['$3']\n",
      "['$5']\n",
      "['$3']\n",
      "['$3']\n",
      "['$3']\n",
      "['$3']\n",
      "['$5']\n"
     ]
    }
   ],
   "source": [
    "info_lista = soup.find_all('div', class_='product-card__info')\n",
    "for i in info_lista:\n",
    "    print(re.compile(r'(\\$\\d*\\.?\\d*)').findall(str(i)))"
   ]
  }
 ],
 "metadata": {
  "interpreter": {
   "hash": "1baa965d5efe3ac65b79dfc60c0d706280b1da80fedb7760faf2759126c4f253"
  },
  "kernelspec": {
   "display_name": "Python 3 (ipykernel)",
   "language": "python",
   "name": "python3"
  },
  "language_info": {
   "codemirror_mode": {
    "name": "ipython",
    "version": 3
   },
   "file_extension": ".py",
   "mimetype": "text/x-python",
   "name": "python",
   "nbconvert_exporter": "python",
   "pygments_lexer": "ipython3",
   "version": "3.11.0"
  }
 },
 "nbformat": 4,
 "nbformat_minor": 4
}
